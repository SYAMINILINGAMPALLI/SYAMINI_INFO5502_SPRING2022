{
 "cells": [
  {
   "cell_type": "markdown",
   "id": "f3329a57",
   "metadata": {},
   "source": [
    "# The fifth Lab-assignment (02/24/2022, 50 points in total)\n",
    "The purpose of this exercise is to understand Data Visualization, we will practice how to create visualizations for different datasets bu using different tools.\n",
    "\n",
    "Question 1 (15 points). In this questions, you will design a visualization for a small data set and provide a rigorous rationale for your design choices.\n",
    "\n",
    "Every 10 years, the census bureau documents the demographic make-up of the United States, influencing everything from congressional districting to social services. This dataset contains a high-level summary of census data for two years a century apart: 1900 and 2000. The data is a CSV (comma-separated values) file that describes the U.S. population in terms of year, reported sex (1: male, 2: female), age group (binned into 5 year segments from 0-4 years old up to 90+ years old), and the total count of people per group. There are 38 data points per year, for a total of 76 data points.\n",
    "\n",
    "You can download the dataset here:\n",
    "\n",
    "Dataset: https://github.com/unt-iialab/info5502-spring2022/blob/main/datasets/lab_assignment_05_census.csv\n",
    "\n",
    "Source: https://www.ipums.org/\n",
    "\n",
    "(1) Start by choosing a question you'd like a visualization to answer.\n",
    "\n",
    "(2) Generate a static visualization (i.e., a single image) that you believe effectively answers that question, and use the question as the title of your graphic.\n",
    "\n",
    "(3) Provide a short write-up (no more than 3 paragraphs) describing your design.\n",
    "\n",
    "While you must use the data set given, you are free to transform the data as you see fit. Such transforms may include (but are not limited to) log transformation, computing percentages or averages, grouping elements into new categories, or removing unnecessary variables or records. You are also free to incorporate external data as you see fit. Your chart image should be interpretable without recourse to your short write-up. Do not forget to include title, axis labels or legends as needed!\n",
    "\n",
    "As different visualizations can emphasize different aspects of a data set, you should document what aspects of the data you are attempting to most effectively communicate. In short, what story are you trying to tell? Just as important, also note which aspects of the data might be obscured or down-played due to your visualization design.\n",
    "\n",
    "In your write-up, you should provide a rigorous rationale for your design decisions. Document the visual encodings you used and why they are appropriate for the data and your specific question. These decisions include the choice of visualization type, size, color, scale, and other visual elements, as well as the use of sorting or other data transformations. How do these decisions facilitate effective communication?"
   ]
  },
  {
   "cell_type": "markdown",
   "id": "8ef49be1",
   "metadata": {},
   "source": [
    "# Import python tools"
   ]
  },
  {
   "cell_type": "code",
   "execution_count": null,
   "id": "1fe391b6",
   "metadata": {},
   "outputs": [],
   "source": [
    "import numpy as np\n",
    "import pandas as pd\n",
    "import matplotlib.pyplot as plt\n",
    "import seaborn as sb\n",
    "sb.set()"
   ]
  },
  {
   "cell_type": "markdown",
   "id": "0090a7c3",
   "metadata": {},
   "source": [
    "# Read the given data set"
   ]
  },
  {
   "cell_type": "code",
   "execution_count": null,
   "id": "9d308882",
   "metadata": {},
   "outputs": [
    {
     "data": {
      "text/html": [
       "<div>\n",
       "<style scoped>\n",
       "    .dataframe tbody tr th:only-of-type {\n",
       "        vertical-align: middle;\n",
       "    }\n",
       "\n",
       "    .dataframe tbody tr th {\n",
       "        vertical-align: top;\n",
       "    }\n",
       "\n",
       "    .dataframe thead th {\n",
       "        text-align: right;\n",
       "    }\n",
       "</style>\n",
       "<table border=\"1\" class=\"dataframe\">\n",
       "  <thead>\n",
       "    <tr style=\"text-align: right;\">\n",
       "      <th></th>\n",
       "      <th>Sex</th>\n",
       "      <th>Year</th>\n",
       "      <th>Age</th>\n",
       "      <th>People</th>\n",
       "    </tr>\n",
       "  </thead>\n",
       "  <tbody>\n",
       "    <tr>\n",
       "      <th>0</th>\n",
       "      <td>1</td>\n",
       "      <td>1900</td>\n",
       "      <td>0</td>\n",
       "      <td>4619544</td>\n",
       "    </tr>\n",
       "    <tr>\n",
       "      <th>1</th>\n",
       "      <td>1</td>\n",
       "      <td>2000</td>\n",
       "      <td>0</td>\n",
       "      <td>9735380</td>\n",
       "    </tr>\n",
       "    <tr>\n",
       "      <th>2</th>\n",
       "      <td>1</td>\n",
       "      <td>1900</td>\n",
       "      <td>5</td>\n",
       "      <td>4465783</td>\n",
       "    </tr>\n",
       "    <tr>\n",
       "      <th>3</th>\n",
       "      <td>1</td>\n",
       "      <td>2000</td>\n",
       "      <td>5</td>\n",
       "      <td>10552146</td>\n",
       "    </tr>\n",
       "    <tr>\n",
       "      <th>4</th>\n",
       "      <td>1</td>\n",
       "      <td>1900</td>\n",
       "      <td>10</td>\n",
       "      <td>4057669</td>\n",
       "    </tr>\n",
       "    <tr>\n",
       "      <th>...</th>\n",
       "      <td>...</td>\n",
       "      <td>...</td>\n",
       "      <td>...</td>\n",
       "      <td>...</td>\n",
       "    </tr>\n",
       "    <tr>\n",
       "      <th>71</th>\n",
       "      <td>2</td>\n",
       "      <td>2000</td>\n",
       "      <td>80</td>\n",
       "      <td>3221898</td>\n",
       "    </tr>\n",
       "    <tr>\n",
       "      <th>72</th>\n",
       "      <td>2</td>\n",
       "      <td>1900</td>\n",
       "      <td>85</td>\n",
       "      <td>48614</td>\n",
       "    </tr>\n",
       "    <tr>\n",
       "      <th>73</th>\n",
       "      <td>2</td>\n",
       "      <td>2000</td>\n",
       "      <td>85</td>\n",
       "      <td>1981156</td>\n",
       "    </tr>\n",
       "    <tr>\n",
       "      <th>74</th>\n",
       "      <td>2</td>\n",
       "      <td>1900</td>\n",
       "      <td>90</td>\n",
       "      <td>20093</td>\n",
       "    </tr>\n",
       "    <tr>\n",
       "      <th>75</th>\n",
       "      <td>2</td>\n",
       "      <td>2000</td>\n",
       "      <td>90</td>\n",
       "      <td>1064581</td>\n",
       "    </tr>\n",
       "  </tbody>\n",
       "</table>\n",
       "<p>76 rows × 4 columns</p>\n",
       "</div>"
      ],
      "text/plain": [
       "    Sex  Year  Age    People\n",
       "0     1  1900    0   4619544\n",
       "1     1  2000    0   9735380\n",
       "2     1  1900    5   4465783\n",
       "3     1  2000    5  10552146\n",
       "4     1  1900   10   4057669\n",
       "..  ...   ...  ...       ...\n",
       "71    2  2000   80   3221898\n",
       "72    2  1900   85     48614\n",
       "73    2  2000   85   1981156\n",
       "74    2  1900   90     20093\n",
       "75    2  2000   90   1064581\n",
       "\n",
       "[76 rows x 4 columns]"
      ]
     },
     "execution_count": 3,
     "metadata": {},
     "output_type": "execute_result"
    }
   ],
   "source": [
    "# here dataframe is denoted as data\n",
    "\n",
    "data=pd.read_csv('C:\\\\Users\\\\hp\\\\Desktop\\\\lab_assignment_05_census.csv')\n",
    "data"
   ]
  },
  {
   "cell_type": "code",
   "execution_count": null,
   "id": "675393cd",
   "metadata": {},
   "outputs": [
    {
     "data": {
      "text/html": [
       "<div>\n",
       "<style scoped>\n",
       "    .dataframe tbody tr th:only-of-type {\n",
       "        vertical-align: middle;\n",
       "    }\n",
       "\n",
       "    .dataframe tbody tr th {\n",
       "        vertical-align: top;\n",
       "    }\n",
       "\n",
       "    .dataframe thead th {\n",
       "        text-align: right;\n",
       "    }\n",
       "</style>\n",
       "<table border=\"1\" class=\"dataframe\">\n",
       "  <thead>\n",
       "    <tr style=\"text-align: right;\">\n",
       "      <th></th>\n",
       "      <th>Sex</th>\n",
       "      <th>Year</th>\n",
       "      <th>Age</th>\n",
       "      <th>People</th>\n",
       "    </tr>\n",
       "  </thead>\n",
       "  <tbody>\n",
       "    <tr>\n",
       "      <th>0</th>\n",
       "      <td>1</td>\n",
       "      <td>1900</td>\n",
       "      <td>0</td>\n",
       "      <td>4619544</td>\n",
       "    </tr>\n",
       "    <tr>\n",
       "      <th>1</th>\n",
       "      <td>1</td>\n",
       "      <td>2000</td>\n",
       "      <td>0</td>\n",
       "      <td>9735380</td>\n",
       "    </tr>\n",
       "    <tr>\n",
       "      <th>2</th>\n",
       "      <td>1</td>\n",
       "      <td>1900</td>\n",
       "      <td>5</td>\n",
       "      <td>4465783</td>\n",
       "    </tr>\n",
       "    <tr>\n",
       "      <th>3</th>\n",
       "      <td>1</td>\n",
       "      <td>2000</td>\n",
       "      <td>5</td>\n",
       "      <td>10552146</td>\n",
       "    </tr>\n",
       "    <tr>\n",
       "      <th>4</th>\n",
       "      <td>1</td>\n",
       "      <td>1900</td>\n",
       "      <td>10</td>\n",
       "      <td>4057669</td>\n",
       "    </tr>\n",
       "  </tbody>\n",
       "</table>\n",
       "</div>"
      ],
      "text/plain": [
       "   Sex  Year  Age    People\n",
       "0    1  1900    0   4619544\n",
       "1    1  2000    0   9735380\n",
       "2    1  1900    5   4465783\n",
       "3    1  2000    5  10552146\n",
       "4    1  1900   10   4057669"
      ]
     },
     "execution_count": 4,
     "metadata": {},
     "output_type": "execute_result"
    }
   ],
   "source": [
    "#head is read as first 5 rows\n",
    "data.head()  "
   ]
  },
  {
   "cell_type": "code",
   "execution_count": null,
   "id": "9af4a249",
   "metadata": {},
   "outputs": [
    {
     "name": "stdout",
     "output_type": "stream",
     "text": [
      "<class 'pandas.core.frame.DataFrame'>\n",
      "RangeIndex: 76 entries, 0 to 75\n",
      "Data columns (total 4 columns):\n",
      " #   Column  Non-Null Count  Dtype\n",
      "---  ------  --------------  -----\n",
      " 0   Sex     76 non-null     int64\n",
      " 1   Year    76 non-null     int64\n",
      " 2   Age     76 non-null     int64\n",
      " 3   People  76 non-null     int64\n",
      "dtypes: int64(4)\n",
      "memory usage: 2.5 KB\n"
     ]
    }
   ],
   "source": [
    "# info() is all about dataset complete information\n",
    "\n",
    "data.info()"
   ]
  },
  {
   "cell_type": "code",
   "execution_count": null,
   "id": "2106a988",
   "metadata": {},
   "outputs": [
    {
     "data": {
      "text/plain": [
       "Sex  Year  Age  People  \n",
       "1    1900  0    4619544     1\n",
       "2    1900  50   1411981     1\n",
       "           85   48614       1\n",
       "           80   132449      1\n",
       "           75   265879      1\n",
       "                           ..\n",
       "1    2000  25   9659493     1\n",
       "           20   9731315     1\n",
       "           15   10237419    1\n",
       "           10   10563233    1\n",
       "2    2000  90   1064581     1\n",
       "Length: 76, dtype: int64"
      ]
     },
     "execution_count": 6,
     "metadata": {},
     "output_type": "execute_result"
    }
   ],
   "source": [
    "# value_counts is nothing but counting the entire dataset\n",
    "\n",
    "data.value_counts()"
   ]
  },
  {
   "cell_type": "code",
   "execution_count": null,
   "id": "1a1535de",
   "metadata": {},
   "outputs": [
    {
     "data": {
      "text/html": [
       "<div>\n",
       "<style scoped>\n",
       "    .dataframe tbody tr th:only-of-type {\n",
       "        vertical-align: middle;\n",
       "    }\n",
       "\n",
       "    .dataframe tbody tr th {\n",
       "        vertical-align: top;\n",
       "    }\n",
       "\n",
       "    .dataframe thead th {\n",
       "        text-align: right;\n",
       "    }\n",
       "</style>\n",
       "<table border=\"1\" class=\"dataframe\">\n",
       "  <thead>\n",
       "    <tr style=\"text-align: right;\">\n",
       "      <th></th>\n",
       "      <th>Sex</th>\n",
       "      <th>Year</th>\n",
       "      <th>Age</th>\n",
       "      <th>People</th>\n",
       "    </tr>\n",
       "  </thead>\n",
       "  <tbody>\n",
       "    <tr>\n",
       "      <th>count</th>\n",
       "      <td>76.000000</td>\n",
       "      <td>76.00000</td>\n",
       "      <td>76.000000</td>\n",
       "      <td>7.600000e+01</td>\n",
       "    </tr>\n",
       "    <tr>\n",
       "      <th>mean</th>\n",
       "      <td>1.500000</td>\n",
       "      <td>1950.00000</td>\n",
       "      <td>45.000000</td>\n",
       "      <td>4.706362e+06</td>\n",
       "    </tr>\n",
       "    <tr>\n",
       "      <th>std</th>\n",
       "      <td>0.503322</td>\n",
       "      <td>50.33223</td>\n",
       "      <td>27.568098</td>\n",
       "      <td>3.833504e+06</td>\n",
       "    </tr>\n",
       "    <tr>\n",
       "      <th>min</th>\n",
       "      <td>1.000000</td>\n",
       "      <td>1900.00000</td>\n",
       "      <td>0.000000</td>\n",
       "      <td>1.516400e+04</td>\n",
       "    </tr>\n",
       "    <tr>\n",
       "      <th>25%</th>\n",
       "      <td>1.000000</td>\n",
       "      <td>1900.00000</td>\n",
       "      <td>20.000000</td>\n",
       "      <td>1.349463e+06</td>\n",
       "    </tr>\n",
       "    <tr>\n",
       "      <th>50%</th>\n",
       "      <td>1.500000</td>\n",
       "      <td>1950.00000</td>\n",
       "      <td>45.000000</td>\n",
       "      <td>3.783496e+06</td>\n",
       "    </tr>\n",
       "    <tr>\n",
       "      <th>75%</th>\n",
       "      <td>2.000000</td>\n",
       "      <td>2000.00000</td>\n",
       "      <td>70.000000</td>\n",
       "      <td>9.314096e+06</td>\n",
       "    </tr>\n",
       "    <tr>\n",
       "      <th>max</th>\n",
       "      <td>2.000000</td>\n",
       "      <td>2000.00000</td>\n",
       "      <td>90.000000</td>\n",
       "      <td>1.163565e+07</td>\n",
       "    </tr>\n",
       "  </tbody>\n",
       "</table>\n",
       "</div>"
      ],
      "text/plain": [
       "             Sex        Year        Age        People\n",
       "count  76.000000    76.00000  76.000000  7.600000e+01\n",
       "mean    1.500000  1950.00000  45.000000  4.706362e+06\n",
       "std     0.503322    50.33223  27.568098  3.833504e+06\n",
       "min     1.000000  1900.00000   0.000000  1.516400e+04\n",
       "25%     1.000000  1900.00000  20.000000  1.349463e+06\n",
       "50%     1.500000  1950.00000  45.000000  3.783496e+06\n",
       "75%     2.000000  2000.00000  70.000000  9.314096e+06\n",
       "max     2.000000  2000.00000  90.000000  1.163565e+07"
      ]
     },
     "execution_count": 7,
     "metadata": {},
     "output_type": "execute_result"
    }
   ],
   "source": [
    "# describe is all about mathematical averages\n",
    "data.describe()"
   ]
  },
  {
   "cell_type": "code",
   "execution_count": null,
   "id": "9465ba51",
   "metadata": {},
   "outputs": [
    {
     "data": {
      "text/plain": [
       "Sex       0\n",
       "Year      0\n",
       "Age       0\n",
       "People    0\n",
       "dtype: int64"
      ]
     },
     "execution_count": 8,
     "metadata": {},
     "output_type": "execute_result"
    }
   ],
   "source": [
    "# count the errors by using isnull().sum()\n",
    "\n",
    "data.isnull().sum()        "
   ]
  },
  {
   "cell_type": "code",
   "execution_count": null,
   "id": "20cbef65",
   "metadata": {},
   "outputs": [
    {
     "data": {
      "text/plain": [
       "(76, 4)"
      ]
     },
     "execution_count": 9,
     "metadata": {},
     "output_type": "execute_result"
    }
   ],
   "source": [
    "data.shape     # rows and coulumns"
   ]
  },
  {
   "cell_type": "code",
   "execution_count": null,
   "id": "6420fcb7",
   "metadata": {},
   "outputs": [
    {
     "data": {
      "text/plain": [
       "Index(['Sex', 'Year', 'Age', 'People'], dtype='object')"
      ]
     },
     "execution_count": 10,
     "metadata": {},
     "output_type": "execute_result"
    }
   ],
   "source": [
    "data.keys()     # column names"
   ]
  },
  {
   "cell_type": "markdown",
   "id": "27c94dfd",
   "metadata": {},
   "source": [
    "# Your answer here (question + explanation):\n",
    "\n",
    "Here we find the gender population in the year between 1900 and 2000."
   ]
  },
  {
   "cell_type": "code",
   "execution_count": null,
   "id": "7a915fd7",
   "metadata": {},
   "outputs": [
    {
     "data": {
      "text/plain": [
       "0     1900\n",
       "1     2000\n",
       "2     1900\n",
       "3     2000\n",
       "4     1900\n",
       "      ... \n",
       "71    2000\n",
       "72    1900\n",
       "73    2000\n",
       "74    1900\n",
       "75    2000\n",
       "Name: Year, Length: 76, dtype: int64"
      ]
     },
     "execution_count": 11,
     "metadata": {},
     "output_type": "execute_result"
    }
   ],
   "source": [
    "data.Year"
   ]
  },
  {
   "cell_type": "code",
   "execution_count": null,
   "id": "30e0b361",
   "metadata": {},
   "outputs": [
    {
     "data": {
      "text/plain": [
       "0      4619544\n",
       "1      9735380\n",
       "2      4465783\n",
       "3     10552146\n",
       "4      4057669\n",
       "        ...   \n",
       "71     3221898\n",
       "72       48614\n",
       "73     1981156\n",
       "74       20093\n",
       "75     1064581\n",
       "Name: People, Length: 76, dtype: int64"
      ]
     },
     "execution_count": 12,
     "metadata": {},
     "output_type": "execute_result"
    }
   ],
   "source": [
    "data.People"
   ]
  },
  {
   "cell_type": "code",
   "execution_count": null,
   "id": "4e912d8f",
   "metadata": {},
   "outputs": [
    {
     "data": {
      "text/plain": [
       "0     1\n",
       "1     1\n",
       "2     1\n",
       "3     1\n",
       "4     1\n",
       "     ..\n",
       "71    2\n",
       "72    2\n",
       "73    2\n",
       "74    2\n",
       "75    2\n",
       "Name: Sex, Length: 76, dtype: int64"
      ]
     },
     "execution_count": 13,
     "metadata": {},
     "output_type": "execute_result"
    }
   ],
   "source": [
    "data.Sex"
   ]
  },
  {
   "cell_type": "code",
   "execution_count": null,
   "id": "f7bb7fd5",
   "metadata": {},
   "outputs": [
    {
     "data": {
      "text/plain": [
       "((76,), (76,), (76,))"
      ]
     },
     "execution_count": 14,
     "metadata": {},
     "output_type": "execute_result"
    }
   ],
   "source": [
    "data.Year.shape, data.Age.shape, data.Sex.shape"
   ]
  },
  {
   "cell_type": "code",
   "execution_count": null,
   "id": "f33a325e",
   "metadata": {},
   "outputs": [
    {
     "data": {
      "text/html": [
       "<div>\n",
       "<style scoped>\n",
       "    .dataframe tbody tr th:only-of-type {\n",
       "        vertical-align: middle;\n",
       "    }\n",
       "\n",
       "    .dataframe tbody tr th {\n",
       "        vertical-align: top;\n",
       "    }\n",
       "\n",
       "    .dataframe thead th {\n",
       "        text-align: right;\n",
       "    }\n",
       "</style>\n",
       "<table border=\"1\" class=\"dataframe\">\n",
       "  <thead>\n",
       "    <tr style=\"text-align: right;\">\n",
       "      <th></th>\n",
       "      <th>Sex</th>\n",
       "      <th>Year</th>\n",
       "      <th>Age</th>\n",
       "      <th>People</th>\n",
       "    </tr>\n",
       "  </thead>\n",
       "  <tbody>\n",
       "    <tr>\n",
       "      <th>0</th>\n",
       "      <td>1</td>\n",
       "      <td>1900</td>\n",
       "      <td>0</td>\n",
       "      <td>4619544</td>\n",
       "    </tr>\n",
       "    <tr>\n",
       "      <th>1</th>\n",
       "      <td>1</td>\n",
       "      <td>2000</td>\n",
       "      <td>0</td>\n",
       "      <td>9735380</td>\n",
       "    </tr>\n",
       "    <tr>\n",
       "      <th>2</th>\n",
       "      <td>1</td>\n",
       "      <td>1900</td>\n",
       "      <td>5</td>\n",
       "      <td>4465783</td>\n",
       "    </tr>\n",
       "    <tr>\n",
       "      <th>3</th>\n",
       "      <td>1</td>\n",
       "      <td>2000</td>\n",
       "      <td>5</td>\n",
       "      <td>10552146</td>\n",
       "    </tr>\n",
       "    <tr>\n",
       "      <th>4</th>\n",
       "      <td>1</td>\n",
       "      <td>1900</td>\n",
       "      <td>10</td>\n",
       "      <td>4057669</td>\n",
       "    </tr>\n",
       "    <tr>\n",
       "      <th>...</th>\n",
       "      <td>...</td>\n",
       "      <td>...</td>\n",
       "      <td>...</td>\n",
       "      <td>...</td>\n",
       "    </tr>\n",
       "    <tr>\n",
       "      <th>71</th>\n",
       "      <td>2</td>\n",
       "      <td>2000</td>\n",
       "      <td>80</td>\n",
       "      <td>3221898</td>\n",
       "    </tr>\n",
       "    <tr>\n",
       "      <th>72</th>\n",
       "      <td>2</td>\n",
       "      <td>1900</td>\n",
       "      <td>85</td>\n",
       "      <td>48614</td>\n",
       "    </tr>\n",
       "    <tr>\n",
       "      <th>73</th>\n",
       "      <td>2</td>\n",
       "      <td>2000</td>\n",
       "      <td>85</td>\n",
       "      <td>1981156</td>\n",
       "    </tr>\n",
       "    <tr>\n",
       "      <th>74</th>\n",
       "      <td>2</td>\n",
       "      <td>1900</td>\n",
       "      <td>90</td>\n",
       "      <td>20093</td>\n",
       "    </tr>\n",
       "    <tr>\n",
       "      <th>75</th>\n",
       "      <td>2</td>\n",
       "      <td>2000</td>\n",
       "      <td>90</td>\n",
       "      <td>1064581</td>\n",
       "    </tr>\n",
       "  </tbody>\n",
       "</table>\n",
       "<p>76 rows × 4 columns</p>\n",
       "</div>"
      ],
      "text/plain": [
       "    Sex  Year  Age    People\n",
       "0     1  1900    0   4619544\n",
       "1     1  2000    0   9735380\n",
       "2     1  1900    5   4465783\n",
       "3     1  2000    5  10552146\n",
       "4     1  1900   10   4057669\n",
       "..  ...   ...  ...       ...\n",
       "71    2  2000   80   3221898\n",
       "72    2  1900   85     48614\n",
       "73    2  2000   85   1981156\n",
       "74    2  1900   90     20093\n",
       "75    2  2000   90   1064581\n",
       "\n",
       "[76 rows x 4 columns]"
      ]
     },
     "execution_count": 15,
     "metadata": {},
     "output_type": "execute_result"
    }
   ],
   "source": [
    "data"
   ]
  },
  {
   "cell_type": "markdown",
   "id": "2a0eed09",
   "metadata": {},
   "source": [
    "  # Your answer here (python code + explanation):\n"
   ]
  },
  {
   "cell_type": "markdown",
   "id": "d0af6424",
   "metadata": {},
   "source": [
    "# Data Visualization using Matplotlib & Seaborn"
   ]
  },
  {
   "cell_type": "code",
   "execution_count": null,
   "id": "e90ca5a3",
   "metadata": {},
   "outputs": [
    {
     "data": {
      "image/png": "[encoded data removed]",
      "text/plain": [
       "<Figure size 432x288 with 1 Axes>"
      ]
     },
     "metadata": {},
     "output_type": "display_data"
    }
   ],
   "source": [
    "# using seaborn as sb'\n",
    "sb.barplot(x = 'Year', y = 'People',hue = 'Sex',data = data, palette='twilight')\n",
    "\n",
    "plt.ticklabel_format(style='plain', axis='y')\n",
    "\n",
    "plt.show()"
   ]
  },
  {
   "cell_type": "markdown",
   "id": "c56fc576",
   "metadata": {},
   "source": [
    "# style"
   ]
  },
  {
   "cell_type": "code",
   "execution_count": null,
   "id": "dbd95a79",
   "metadata": {},
   "outputs": [
    {
     "data": {
      "image/png": "[encoded data removed]",
      "text/plain": [
       "<Figure size 432x288 with 1 Axes>"
      ]
     },
     "metadata": {},
     "output_type": "display_data"
    }
   ],
   "source": [
    "sb.barplot(x='Year', y='People', hue='Sex', data=data, lw=3, ec='black', hatch='/', color='skyblue')\n",
    "plt.ticklabel_format(style='plain', axis='y')\n",
    "\n",
    "plt.show()"
   ]
  },
  {
   "cell_type": "code",
   "execution_count": null,
   "id": "ed435d74",
   "metadata": {},
   "outputs": [
    {
     "data": {
      "image/png": "[encoded data removed]",
      "text/plain": [
       "<Figure size 1152x576 with 4 Axes>"
      ]
     },
     "metadata": {},
     "output_type": "display_data"
    }
   ],
   "source": [
    "data.hist(figsize=(16,8) ,bins=30, color='green',  edgecolor='black')\n",
    "plt.subplots_adjust(hspace=0.2,  wspace=1)"
   ]
  },
  {
   "cell_type": "code",
   "execution_count": null,
   "id": "49422cc5",
   "metadata": {},
   "outputs": [],
   "source": []
  },
  {
   "cell_type": "markdown",
   "id": "e1ed2488",
   "metadata": {},
   "source": [
    "# Your answer here (interpretation of the results):\n",
    "\n"
   ]
  },
  {
   "cell_type": "markdown",
   "id": "d3f4fc25",
   "metadata": {},
   "source": [
    "From above data-visualization we observe that,in years-1990's compare to Male population, the Female population is slightly less/low."
   ]
  },
  {
   "cell_type": "markdown",
   "id": "4b60fdd5",
   "metadata": {},
   "source": [
    "\n",
    "From above data-visualization we observe that,in years-2000's compare to Male population, the Female population is little high"
   ]
  },
  {
   "cell_type": "markdown",
   "id": "b7419a2a",
   "metadata": {},
   "source": [
    "finally, we observed on data visualization compared to years-2000's population, years-1900's population is obvisouly less."
   ]
  },
  {
   "cell_type": "code",
   "execution_count": null,
   "id": "aca03ca1",
   "metadata": {},
   "outputs": [],
   "source": []
  },
  {
   "cell_type": "code",
   "execution_count": null,
   "id": "400918d4",
   "metadata": {},
   "outputs": [],
   "source": []
  },
  {
   "cell_type": "code",
   "execution_count": null,
   "id": "84a8cc6b",
   "metadata": {},
   "outputs": [],
   "source": []
  },
  {
   "cell_type": "code",
   "execution_count": null,
   "id": "79e3c34b",
   "metadata": {},
   "outputs": [],
   "source": []
  },
  {
   "cell_type": "code",
   "execution_count": null,
   "id": "32142f4f",
   "metadata": {},
   "outputs": [],
   "source": []
  },
  {
   "cell_type": "code",
   "execution_count": null,
   "id": "706a4a5a",
   "metadata": {},
   "outputs": [],
   "source": []
  },
  {
   "cell_type": "code",
   "execution_count": null,
   "id": "bbc7ea5f",
   "metadata": {},
   "outputs": [],
   "source": []
  },
  {
   "cell_type": "code",
   "execution_count": null,
   "id": "e0f7f0f1",
   "metadata": {},
   "outputs": [],
   "source": []
  },
  {
   "cell_type": "code",
   "execution_count": null,
   "id": "e5310771",
   "metadata": {},
   "outputs": [],
   "source": []
  },
  {
   "cell_type": "code",
   "execution_count": null,
   "id": "7debfe04",
   "metadata": {},
   "outputs": [],
   "source": []
  },
  {
   "cell_type": "code",
   "execution_count": null,
   "id": "aae871ac",
   "metadata": {},
   "outputs": [],
   "source": []
  },
  {
   "cell_type": "code",
   "execution_count": null,
   "id": "81544fb9",
   "metadata": {},
   "outputs": [],
   "source": []
  },
  {
   "cell_type": "code",
   "execution_count": null,
   "id": "40a644e9",
   "metadata": {},
   "outputs": [],
   "source": []
  },
  {
   "cell_type": "code",
   "execution_count": null,
   "id": "6a7ed54b",
   "metadata": {},
   "outputs": [],
   "source": []
  },
  {
   "cell_type": "code",
   "execution_count": null,
   "id": "e770f177",
   "metadata": {},
   "outputs": [],
   "source": []
  },
  {
   "cell_type": "code",
   "execution_count": null,
   "id": "4d4cae8f",
   "metadata": {},
   "outputs": [],
   "source": []
  },
  {
   "cell_type": "code",
   "execution_count": null,
   "id": "5665660a",
   "metadata": {},
   "outputs": [],
   "source": []
  },
  {
   "cell_type": "code",
   "execution_count": null,
   "id": "3fe0cc34",
   "metadata": {},
   "outputs": [],
   "source": []
  },
  {
   "cell_type": "code",
   "execution_count": null,
   "id": "ce9595a1",
   "metadata": {},
   "outputs": [],
   "source": []
  },
  {
   "cell_type": "code",
   "execution_count": null,
   "id": "4de018a8",
   "metadata": {},
   "outputs": [],
   "source": []
  }
 ],
 "metadata": {
  "kernelspec": {
   "display_name": "Python 3.10.5 64-bit",
   "language": "python",
   "name": "python3"
  },
  "language_info": {
   "codemirror_mode": {
    "name": "ipython",
    "version": 3
   },
   "file_extension": ".py",
   "mimetype": "text/x-python",
   "name": "python",
   "nbconvert_exporter": "python",
   "pygments_lexer": "ipython3",
   "version": "3.10.5"
  },
  "vscode": {
   "interpreter": {
    "hash": "291cca86a75c2e3f182a872673c11759dee3939e258e5ebad581d7dd988b08cf"
   }
  }
 },
 "nbformat": 4,
 "nbformat_minor": 5
}
