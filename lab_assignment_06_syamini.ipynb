{
  "cells": [
    {
      "cell_type": "markdown",
      "metadata": {
        "id": "X3Tg7qBYeZOD"
      },
      "source": [
        "## The sixth Lab-assignment (08/02/2022 11:59'AM' - 08/05/2022 11:59PM, 50 points in total)"
      ]
    },
    {
      "cell_type": "markdown",
      "metadata": {
        "id": "GeWTGGZOeZOR"
      },
      "source": [
        "The purpose of this exercise is to build a simple predicition model which can helpyou understand the workflow of machine learning. "
      ]
    },
    {
      "cell_type": "markdown",
      "metadata": {
        "id": "aJGfTvCMeZOT"
      },
      "source": [
        "### Q1 Task Decription (50 Points)"
      ]
    },
    {
      "cell_type": "markdown",
      "metadata": {
        "id": "ED4zAVJFeZOU"
      },
      "source": [
        "The goal of this assignment is to predict bike share use, given the hour, day, and information about the weather. Companies like Divvy try to predict how much demand there will be for bikes on any given day to allocate resources to redistribute bikes so that, ideally, very few bike stations are ever full (when you can’t park your bike) or empty (when you can’t pick up a bike if you want to).\n",
        "\n",
        "The data (link: https://github.com/suthapalliuday/INFO5502-Summer2022/tree/main/datasets/lab_assignment_06) in Github provides detailed information on the data set and necessary downloads."
      ]
    },
    {
      "cell_type": "markdown",
      "metadata": {
        "id": "Y3iteXBJeZOW"
      },
      "source": [
        "### Data Description"
      ]
    },
    {
      "cell_type": "markdown",
      "metadata": {
        "id": "KKk1KHvJeZOX"
      },
      "source": [
        "You are provided hourly rental data spanning two years (link: https://github.com/suthapalliuday/INFO5502-Summer2022/tree/main/datasets/lab_assignment_06). For this task, the training set is comprised of the first 16 days of each month, while the test set is the 17-19th day of the month. You must predict the total count of bikes rented during each hour covered by the test set, using only information available prior to the rental period. That is, predict \"count\" without using \"count\" or its components \"casual\" and \"registered\".\n",
        "\n",
        "Data Fields\n",
        "\n",
        "datetime - hourly date + timestamp\n",
        "\n",
        "season - 1 = spring, 2 = summer, 3 = fall, 4 = winter\n",
        "\n",
        "holiday - whether the day is considered a holiday\n",
        "\n",
        "workingday - whether the day is neither a weekend nor holiday\n",
        "\n",
        "weather -\n",
        "\n",
        "1 - Clear, Few clouds, Partly cloudy, Partly cloudy\n",
        "\n",
        "2 - Mist + Cloudy, Mist + Broken clouds, Mist + Few clouds, Mist\n",
        "\n",
        "3 - Light Snow, Light Rain + Thunderstorm + Scattered clouds, Light Rain + Scattered clouds\n",
        "\n",
        "4 - Heavy Rain + Ice Pallets + Thunderstorm + Mist, Snow + Fog\n",
        "\n",
        "temp - temperature in Celsius\n",
        "\n",
        "atemp - \"feels like\" temperature in Celsius\n",
        "\n",
        "humidity - relative humidity\n",
        "\n",
        "windspeed - wind speed\n",
        "\n",
        "casual - number of non-registered user rentals initiated\n",
        "\n",
        "registered - number of registered user rentals initiated\n",
        "\n",
        "count - number of total rentals"
      ]
    },
    {
      "cell_type": "markdown",
      "metadata": {
        "id": "zendd9HFeZOZ"
      },
      "source": [
        "### Output"
      ]
    },
    {
      "cell_type": "markdown",
      "metadata": {
        "id": "_4_Z7_A2eZOa"
      },
      "source": [
        "Submission Format\n",
        "\n",
        "Your output (a separate file) must have a header line and should be structured in the following format:\n",
        "\n",
        " datetime,count\n",
        " \n",
        " 2011-01-20 00:00:00,0 \n",
        " \n",
        " 2011-01-20 01:00:00,0\n",
        " \n",
        " 2011-01-20 02:00:00,0\n",
        " \n",
        " ...\n",
        " \n",
        "The tutorial code should demonstrate how to generate such a file from a very simple prediction model. Note, these prediction are to be done on the test file under the data tab, where you do not know the actual count, and should match the rows of the test file in count and order.\n",
        "\n",
        "Your predictions should be compared to the ground truth information (sample_prediction.csv). Score are calculated using Root Mean Squared Error (RMSE)."
      ]
    },
    {
      "cell_type": "markdown",
      "metadata": {
        "id": "dpIDy-5YeZOb"
      },
      "source": [
        "### Tips"
      ]
    },
    {
      "cell_type": "markdown",
      "metadata": {
        "id": "dJPan2GZeZOc"
      },
      "source": [
        "●\tAdd features: Pick columns/features from the data you already have. Or make a new feature from the ones you have. For example, the tutorial makes ‘hour’ from the datetime stamp, which seemed very useful. How about ‘month’?\n",
        "\n",
        "●\tModel selection: Try different models. Make sure they are regression models rather than classification models. Tip: random forest regression is a good, all around modeling strategy on complicated data sets.\n",
        "\n",
        "●\tModel tuning: Almost all regression models have parameters to tune (“hyperparameters”). E.g. polynomial regression has the degree of the polynomial (n = 1 for a line, n=2 for a quadratic fit, n=3 for a cubic fit…). Generally, one extreme makes the model too simple (e.g. a line for a curved set of points) and the other extreme makes the model overfit/be too complex, and usually the right choice is in between. For some models it is obvious what to tune (e.g. k for k nearest neighbors regression) and some don’t need much tuning with defaults that often work well. e.g. try changing the number of trees used in the random forest model!\n",
        "\n",
        "●\tCross validation: The tutorial has a simple way of separating training and test data, however, there are better ways of splitting training and test data. Look into cross validation techniques, which are more reliable than an arbitrary split of training and test data.\n",
        "\n",
        "●\tSeparate models for ...: Notice that count comes from just adding casual riders and registered riders. However, what if these two types of riders acted very differently? It might make sense to make two separate models and just add the results of both models together. This is also true for any subsets of your data that may behave wildly differently (e.g. create a separate model for each season?)"
      ]
    },
    {
      "cell_type": "markdown",
      "metadata": {
        "id": "dOVM19wXeZOe"
      },
      "source": [
        "### Your code"
      ]
    },
    {
      "cell_type": "markdown",
      "metadata": {
        "id": "hhFa2gUGeZOe"
      },
      "source": [
        "# You code here:\n",
        "\n",
        "\n"
      ]
    },
    {
      "cell_type": "code",
      "execution_count": null,
      "metadata": {
        "id": "1rA2Q2GZeZOf",
        "outputId": "2dd53497-bb43-43ce-c740-0771feb58c86"
      },
      "outputs": [
        {
          "data": {
            "text/html": [
              "<div>\n",
              "<style scoped>\n",
              "    .dataframe tbody tr th:only-of-type {\n",
              "        vertical-align: middle;\n",
              "    }\n",
              "\n",
              "    .dataframe tbody tr th {\n",
              "        vertical-align: top;\n",
              "    }\n",
              "\n",
              "    .dataframe thead th {\n",
              "        text-align: right;\n",
              "    }\n",
              "</style>\n",
              "<table border=\"1\" class=\"dataframe\">\n",
              "  <thead>\n",
              "    <tr style=\"text-align: right;\">\n",
              "      <th></th>\n",
              "      <th>datetime</th>\n",
              "      <th>season</th>\n",
              "      <th>holiday</th>\n",
              "      <th>workingday</th>\n",
              "      <th>weather</th>\n",
              "      <th>temp</th>\n",
              "      <th>atemp</th>\n",
              "      <th>humidity</th>\n",
              "      <th>windspeed</th>\n",
              "      <th>casual</th>\n",
              "      <th>registered</th>\n",
              "      <th>count</th>\n",
              "    </tr>\n",
              "  </thead>\n",
              "  <tbody>\n",
              "    <tr>\n",
              "      <th>0</th>\n",
              "      <td>2011-01-01 00:00:00</td>\n",
              "      <td>1</td>\n",
              "      <td>0</td>\n",
              "      <td>0</td>\n",
              "      <td>1</td>\n",
              "      <td>9.84</td>\n",
              "      <td>14.395</td>\n",
              "      <td>81</td>\n",
              "      <td>0.0000</td>\n",
              "      <td>3</td>\n",
              "      <td>13</td>\n",
              "      <td>16</td>\n",
              "    </tr>\n",
              "    <tr>\n",
              "      <th>1</th>\n",
              "      <td>2011-01-01 01:00:00</td>\n",
              "      <td>1</td>\n",
              "      <td>0</td>\n",
              "      <td>0</td>\n",
              "      <td>1</td>\n",
              "      <td>9.02</td>\n",
              "      <td>13.635</td>\n",
              "      <td>80</td>\n",
              "      <td>0.0000</td>\n",
              "      <td>8</td>\n",
              "      <td>32</td>\n",
              "      <td>40</td>\n",
              "    </tr>\n",
              "    <tr>\n",
              "      <th>2</th>\n",
              "      <td>2011-01-01 02:00:00</td>\n",
              "      <td>1</td>\n",
              "      <td>0</td>\n",
              "      <td>0</td>\n",
              "      <td>1</td>\n",
              "      <td>9.02</td>\n",
              "      <td>13.635</td>\n",
              "      <td>80</td>\n",
              "      <td>0.0000</td>\n",
              "      <td>5</td>\n",
              "      <td>27</td>\n",
              "      <td>32</td>\n",
              "    </tr>\n",
              "    <tr>\n",
              "      <th>3</th>\n",
              "      <td>2011-01-01 03:00:00</td>\n",
              "      <td>1</td>\n",
              "      <td>0</td>\n",
              "      <td>0</td>\n",
              "      <td>1</td>\n",
              "      <td>9.84</td>\n",
              "      <td>14.395</td>\n",
              "      <td>75</td>\n",
              "      <td>0.0000</td>\n",
              "      <td>3</td>\n",
              "      <td>10</td>\n",
              "      <td>13</td>\n",
              "    </tr>\n",
              "    <tr>\n",
              "      <th>4</th>\n",
              "      <td>2011-01-01 04:00:00</td>\n",
              "      <td>1</td>\n",
              "      <td>0</td>\n",
              "      <td>0</td>\n",
              "      <td>1</td>\n",
              "      <td>9.84</td>\n",
              "      <td>14.395</td>\n",
              "      <td>75</td>\n",
              "      <td>0.0000</td>\n",
              "      <td>0</td>\n",
              "      <td>1</td>\n",
              "      <td>1</td>\n",
              "    </tr>\n",
              "    <tr>\n",
              "      <th>...</th>\n",
              "      <td>...</td>\n",
              "      <td>...</td>\n",
              "      <td>...</td>\n",
              "      <td>...</td>\n",
              "      <td>...</td>\n",
              "      <td>...</td>\n",
              "      <td>...</td>\n",
              "      <td>...</td>\n",
              "      <td>...</td>\n",
              "      <td>...</td>\n",
              "      <td>...</td>\n",
              "      <td>...</td>\n",
              "    </tr>\n",
              "    <tr>\n",
              "      <th>9169</th>\n",
              "      <td>2012-12-16 19:00:00</td>\n",
              "      <td>4</td>\n",
              "      <td>0</td>\n",
              "      <td>0</td>\n",
              "      <td>1</td>\n",
              "      <td>14.76</td>\n",
              "      <td>17.425</td>\n",
              "      <td>93</td>\n",
              "      <td>8.9981</td>\n",
              "      <td>10</td>\n",
              "      <td>99</td>\n",
              "      <td>109</td>\n",
              "    </tr>\n",
              "    <tr>\n",
              "      <th>9170</th>\n",
              "      <td>2012-12-16 20:00:00</td>\n",
              "      <td>4</td>\n",
              "      <td>0</td>\n",
              "      <td>0</td>\n",
              "      <td>2</td>\n",
              "      <td>15.58</td>\n",
              "      <td>19.695</td>\n",
              "      <td>82</td>\n",
              "      <td>0.0000</td>\n",
              "      <td>14</td>\n",
              "      <td>108</td>\n",
              "      <td>122</td>\n",
              "    </tr>\n",
              "    <tr>\n",
              "      <th>9171</th>\n",
              "      <td>2012-12-16 21:00:00</td>\n",
              "      <td>4</td>\n",
              "      <td>0</td>\n",
              "      <td>0</td>\n",
              "      <td>2</td>\n",
              "      <td>14.76</td>\n",
              "      <td>18.940</td>\n",
              "      <td>93</td>\n",
              "      <td>0.0000</td>\n",
              "      <td>14</td>\n",
              "      <td>92</td>\n",
              "      <td>106</td>\n",
              "    </tr>\n",
              "    <tr>\n",
              "      <th>9172</th>\n",
              "      <td>2012-12-16 22:00:00</td>\n",
              "      <td>4</td>\n",
              "      <td>0</td>\n",
              "      <td>0</td>\n",
              "      <td>2</td>\n",
              "      <td>16.40</td>\n",
              "      <td>20.455</td>\n",
              "      <td>82</td>\n",
              "      <td>12.9980</td>\n",
              "      <td>6</td>\n",
              "      <td>83</td>\n",
              "      <td>89</td>\n",
              "    </tr>\n",
              "    <tr>\n",
              "      <th>9173</th>\n",
              "      <td>2012-12-16 23:00:00</td>\n",
              "      <td>4</td>\n",
              "      <td>0</td>\n",
              "      <td>0</td>\n",
              "      <td>2</td>\n",
              "      <td>14.76</td>\n",
              "      <td>17.425</td>\n",
              "      <td>93</td>\n",
              "      <td>8.9981</td>\n",
              "      <td>4</td>\n",
              "      <td>29</td>\n",
              "      <td>33</td>\n",
              "    </tr>\n",
              "  </tbody>\n",
              "</table>\n",
              "<p>9174 rows × 12 columns</p>\n",
              "</div>"
            ],
            "text/plain": [
              "                 datetime  season  holiday  workingday  weather   temp  \\\n",
              "0     2011-01-01 00:00:00       1        0           0        1   9.84   \n",
              "1     2011-01-01 01:00:00       1        0           0        1   9.02   \n",
              "2     2011-01-01 02:00:00       1        0           0        1   9.02   \n",
              "3     2011-01-01 03:00:00       1        0           0        1   9.84   \n",
              "4     2011-01-01 04:00:00       1        0           0        1   9.84   \n",
              "...                   ...     ...      ...         ...      ...    ...   \n",
              "9169  2012-12-16 19:00:00       4        0           0        1  14.76   \n",
              "9170  2012-12-16 20:00:00       4        0           0        2  15.58   \n",
              "9171  2012-12-16 21:00:00       4        0           0        2  14.76   \n",
              "9172  2012-12-16 22:00:00       4        0           0        2  16.40   \n",
              "9173  2012-12-16 23:00:00       4        0           0        2  14.76   \n",
              "\n",
              "       atemp  humidity  windspeed  casual  registered  count  \n",
              "0     14.395        81     0.0000       3          13     16  \n",
              "1     13.635        80     0.0000       8          32     40  \n",
              "2     13.635        80     0.0000       5          27     32  \n",
              "3     14.395        75     0.0000       3          10     13  \n",
              "4     14.395        75     0.0000       0           1      1  \n",
              "...      ...       ...        ...     ...         ...    ...  \n",
              "9169  17.425        93     8.9981      10          99    109  \n",
              "9170  19.695        82     0.0000      14         108    122  \n",
              "9171  18.940        93     0.0000      14          92    106  \n",
              "9172  20.455        82    12.9980       6          83     89  \n",
              "9173  17.425        93     8.9981       4          29     33  \n",
              "\n",
              "[9174 rows x 12 columns]"
            ]
          },
          "execution_count": 2,
          "metadata": {},
          "output_type": "execute_result"
        }
      ],
      "source": [
        "from datetime import datetime\n",
        "import pandas as pd\n",
        "import numpy as np\n",
        "import matplotlib.pyplot as plt\n",
        "\n",
        "import warnings\n",
        "warnings.filterwarnings('ignore')\n",
        "\n",
        "# take dataset\n",
        "\n",
        "df=pd.read_csv('train_luc.csv')\n",
        "df"
      ]
    },
    {
      "cell_type": "code",
      "execution_count": null,
      "metadata": {
        "id": "pKheZyOWeZOh",
        "outputId": "3b24d476-a99b-4c46-cbc9-ebef58c0b46c"
      },
      "outputs": [
        {
          "data": {
            "text/plain": [
              "(9174, 12)"
            ]
          },
          "execution_count": 3,
          "metadata": {},
          "output_type": "execute_result"
        }
      ],
      "source": [
        "df.shape"
      ]
    },
    {
      "cell_type": "code",
      "execution_count": null,
      "metadata": {
        "id": "qlGsKepneZOi",
        "outputId": "cb5e4c5d-e3c8-4735-c4dc-75e10418a059"
      },
      "outputs": [
        {
          "name": "stdout",
          "output_type": "stream",
          "text": [
            "<class 'pandas.core.frame.DataFrame'>\n",
            "RangeIndex: 9174 entries, 0 to 9173\n",
            "Data columns (total 12 columns):\n",
            " #   Column      Non-Null Count  Dtype  \n",
            "---  ------      --------------  -----  \n",
            " 0   datetime    9174 non-null   object \n",
            " 1   season      9174 non-null   int64  \n",
            " 2   holiday     9174 non-null   int64  \n",
            " 3   workingday  9174 non-null   int64  \n",
            " 4   weather     9174 non-null   int64  \n",
            " 5   temp        9174 non-null   float64\n",
            " 6   atemp       9174 non-null   float64\n",
            " 7   humidity    9174 non-null   int64  \n",
            " 8   windspeed   9174 non-null   float64\n",
            " 9   casual      9174 non-null   int64  \n",
            " 10  registered  9174 non-null   int64  \n",
            " 11  count       9174 non-null   int64  \n",
            "dtypes: float64(3), int64(8), object(1)\n",
            "memory usage: 860.2+ KB\n"
          ]
        }
      ],
      "source": [
        "df.info()"
      ]
    },
    {
      "cell_type": "code",
      "execution_count": null,
      "metadata": {
        "id": "swJ8u_ZteZOi",
        "outputId": "39fc86d4-3f50-40ea-a724-bc0f786939c3"
      },
      "outputs": [
        {
          "data": {
            "text/plain": [
              "datetime      0\n",
              "season        0\n",
              "holiday       0\n",
              "workingday    0\n",
              "weather       0\n",
              "temp          0\n",
              "atemp         0\n",
              "humidity      0\n",
              "windspeed     0\n",
              "casual        0\n",
              "registered    0\n",
              "count         0\n",
              "dtype: int64"
            ]
          },
          "execution_count": 5,
          "metadata": {},
          "output_type": "execute_result"
        }
      ],
      "source": [
        "df.isnull().sum()\n"
      ]
    },
    {
      "cell_type": "code",
      "execution_count": null,
      "metadata": {
        "id": "jPVy3LIceZOj",
        "outputId": "26f0dc5f-334b-4e74-c120-4d6e56081b30"
      },
      "outputs": [
        {
          "data": {
            "text/html": [
              "<div>\n",
              "<style scoped>\n",
              "    .dataframe tbody tr th:only-of-type {\n",
              "        vertical-align: middle;\n",
              "    }\n",
              "\n",
              "    .dataframe tbody tr th {\n",
              "        vertical-align: top;\n",
              "    }\n",
              "\n",
              "    .dataframe thead th {\n",
              "        text-align: right;\n",
              "    }\n",
              "</style>\n",
              "<table border=\"1\" class=\"dataframe\">\n",
              "  <thead>\n",
              "    <tr style=\"text-align: right;\">\n",
              "      <th></th>\n",
              "      <th>season</th>\n",
              "      <th>holiday</th>\n",
              "      <th>workingday</th>\n",
              "      <th>weather</th>\n",
              "      <th>temp</th>\n",
              "      <th>atemp</th>\n",
              "      <th>humidity</th>\n",
              "      <th>windspeed</th>\n",
              "      <th>casual</th>\n",
              "      <th>registered</th>\n",
              "      <th>count</th>\n",
              "    </tr>\n",
              "  </thead>\n",
              "  <tbody>\n",
              "    <tr>\n",
              "      <th>count</th>\n",
              "      <td>9174.000000</td>\n",
              "      <td>9174.000000</td>\n",
              "      <td>9174.000000</td>\n",
              "      <td>9174.000000</td>\n",
              "      <td>9174.000000</td>\n",
              "      <td>9174.000000</td>\n",
              "      <td>9174.000000</td>\n",
              "      <td>9174.000000</td>\n",
              "      <td>9174.000000</td>\n",
              "      <td>9174.000000</td>\n",
              "      <td>9174.000000</td>\n",
              "    </tr>\n",
              "    <tr>\n",
              "      <th>mean</th>\n",
              "      <td>2.505559</td>\n",
              "      <td>0.031284</td>\n",
              "      <td>0.678875</td>\n",
              "      <td>1.414868</td>\n",
              "      <td>20.130401</td>\n",
              "      <td>23.578433</td>\n",
              "      <td>61.715064</td>\n",
              "      <td>12.737931</td>\n",
              "      <td>35.713647</td>\n",
              "      <td>154.868106</td>\n",
              "      <td>190.581753</td>\n",
              "    </tr>\n",
              "    <tr>\n",
              "      <th>std</th>\n",
              "      <td>1.116618</td>\n",
              "      <td>0.174094</td>\n",
              "      <td>0.466934</td>\n",
              "      <td>0.635363</td>\n",
              "      <td>7.940504</td>\n",
              "      <td>8.617957</td>\n",
              "      <td>19.401829</td>\n",
              "      <td>8.199027</td>\n",
              "      <td>49.667738</td>\n",
              "      <td>150.981155</td>\n",
              "      <td>181.011530</td>\n",
              "    </tr>\n",
              "    <tr>\n",
              "      <th>min</th>\n",
              "      <td>1.000000</td>\n",
              "      <td>0.000000</td>\n",
              "      <td>0.000000</td>\n",
              "      <td>1.000000</td>\n",
              "      <td>0.820000</td>\n",
              "      <td>0.760000</td>\n",
              "      <td>0.000000</td>\n",
              "      <td>0.000000</td>\n",
              "      <td>0.000000</td>\n",
              "      <td>0.000000</td>\n",
              "      <td>1.000000</td>\n",
              "    </tr>\n",
              "    <tr>\n",
              "      <th>25%</th>\n",
              "      <td>2.000000</td>\n",
              "      <td>0.000000</td>\n",
              "      <td>0.000000</td>\n",
              "      <td>1.000000</td>\n",
              "      <td>13.940000</td>\n",
              "      <td>16.665000</td>\n",
              "      <td>46.000000</td>\n",
              "      <td>7.001500</td>\n",
              "      <td>4.000000</td>\n",
              "      <td>35.000000</td>\n",
              "      <td>41.000000</td>\n",
              "    </tr>\n",
              "    <tr>\n",
              "      <th>50%</th>\n",
              "      <td>3.000000</td>\n",
              "      <td>0.000000</td>\n",
              "      <td>1.000000</td>\n",
              "      <td>1.000000</td>\n",
              "      <td>20.500000</td>\n",
              "      <td>24.240000</td>\n",
              "      <td>61.000000</td>\n",
              "      <td>11.001400</td>\n",
              "      <td>16.000000</td>\n",
              "      <td>117.000000</td>\n",
              "      <td>144.000000</td>\n",
              "    </tr>\n",
              "    <tr>\n",
              "      <th>75%</th>\n",
              "      <td>4.000000</td>\n",
              "      <td>0.000000</td>\n",
              "      <td>1.000000</td>\n",
              "      <td>2.000000</td>\n",
              "      <td>27.060000</td>\n",
              "      <td>31.060000</td>\n",
              "      <td>78.000000</td>\n",
              "      <td>16.997900</td>\n",
              "      <td>48.000000</td>\n",
              "      <td>222.000000</td>\n",
              "      <td>282.000000</td>\n",
              "    </tr>\n",
              "    <tr>\n",
              "      <th>max</th>\n",
              "      <td>4.000000</td>\n",
              "      <td>1.000000</td>\n",
              "      <td>1.000000</td>\n",
              "      <td>4.000000</td>\n",
              "      <td>41.000000</td>\n",
              "      <td>45.455000</td>\n",
              "      <td>100.000000</td>\n",
              "      <td>56.996900</td>\n",
              "      <td>362.000000</td>\n",
              "      <td>886.000000</td>\n",
              "      <td>977.000000</td>\n",
              "    </tr>\n",
              "  </tbody>\n",
              "</table>\n",
              "</div>"
            ],
            "text/plain": [
              "            season      holiday   workingday      weather         temp  \\\n",
              "count  9174.000000  9174.000000  9174.000000  9174.000000  9174.000000   \n",
              "mean      2.505559     0.031284     0.678875     1.414868    20.130401   \n",
              "std       1.116618     0.174094     0.466934     0.635363     7.940504   \n",
              "min       1.000000     0.000000     0.000000     1.000000     0.820000   \n",
              "25%       2.000000     0.000000     0.000000     1.000000    13.940000   \n",
              "50%       3.000000     0.000000     1.000000     1.000000    20.500000   \n",
              "75%       4.000000     0.000000     1.000000     2.000000    27.060000   \n",
              "max       4.000000     1.000000     1.000000     4.000000    41.000000   \n",
              "\n",
              "             atemp     humidity    windspeed       casual   registered  \\\n",
              "count  9174.000000  9174.000000  9174.000000  9174.000000  9174.000000   \n",
              "mean     23.578433    61.715064    12.737931    35.713647   154.868106   \n",
              "std       8.617957    19.401829     8.199027    49.667738   150.981155   \n",
              "min       0.760000     0.000000     0.000000     0.000000     0.000000   \n",
              "25%      16.665000    46.000000     7.001500     4.000000    35.000000   \n",
              "50%      24.240000    61.000000    11.001400    16.000000   117.000000   \n",
              "75%      31.060000    78.000000    16.997900    48.000000   222.000000   \n",
              "max      45.455000   100.000000    56.996900   362.000000   886.000000   \n",
              "\n",
              "             count  \n",
              "count  9174.000000  \n",
              "mean    190.581753  \n",
              "std     181.011530  \n",
              "min       1.000000  \n",
              "25%      41.000000  \n",
              "50%     144.000000  \n",
              "75%     282.000000  \n",
              "max     977.000000  "
            ]
          },
          "execution_count": 6,
          "metadata": {},
          "output_type": "execute_result"
        }
      ],
      "source": [
        "df.describe()\n"
      ]
    },
    {
      "cell_type": "code",
      "execution_count": null,
      "metadata": {
        "id": "L9EfDJhPeZOj",
        "outputId": "e9f3c4a3-c06d-43d8-979c-46f56addf48e"
      },
      "outputs": [
        {
          "data": {
            "text/html": [
              "<div>\n",
              "<style scoped>\n",
              "    .dataframe tbody tr th:only-of-type {\n",
              "        vertical-align: middle;\n",
              "    }\n",
              "\n",
              "    .dataframe tbody tr th {\n",
              "        vertical-align: top;\n",
              "    }\n",
              "\n",
              "    .dataframe thead th {\n",
              "        text-align: right;\n",
              "    }\n",
              "</style>\n",
              "<table border=\"1\" class=\"dataframe\">\n",
              "  <thead>\n",
              "    <tr style=\"text-align: right;\">\n",
              "      <th></th>\n",
              "      <th>datetime</th>\n",
              "      <th>season</th>\n",
              "      <th>holiday</th>\n",
              "      <th>workingday</th>\n",
              "      <th>weather</th>\n",
              "      <th>temp</th>\n",
              "      <th>atemp</th>\n",
              "      <th>humidity</th>\n",
              "      <th>windspeed</th>\n",
              "      <th>casual</th>\n",
              "      <th>registered</th>\n",
              "      <th>count</th>\n",
              "    </tr>\n",
              "  </thead>\n",
              "  <tbody>\n",
              "    <tr>\n",
              "      <th>0</th>\n",
              "      <td>2011-01-01 00:00:00</td>\n",
              "      <td>1</td>\n",
              "      <td>0</td>\n",
              "      <td>0</td>\n",
              "      <td>1</td>\n",
              "      <td>9.84</td>\n",
              "      <td>14.395</td>\n",
              "      <td>81</td>\n",
              "      <td>0.0000</td>\n",
              "      <td>3</td>\n",
              "      <td>13</td>\n",
              "      <td>16</td>\n",
              "    </tr>\n",
              "    <tr>\n",
              "      <th>1</th>\n",
              "      <td>2011-01-01 01:00:00</td>\n",
              "      <td>1</td>\n",
              "      <td>0</td>\n",
              "      <td>0</td>\n",
              "      <td>1</td>\n",
              "      <td>9.02</td>\n",
              "      <td>13.635</td>\n",
              "      <td>80</td>\n",
              "      <td>0.0000</td>\n",
              "      <td>8</td>\n",
              "      <td>32</td>\n",
              "      <td>40</td>\n",
              "    </tr>\n",
              "    <tr>\n",
              "      <th>2</th>\n",
              "      <td>2011-01-01 02:00:00</td>\n",
              "      <td>1</td>\n",
              "      <td>0</td>\n",
              "      <td>0</td>\n",
              "      <td>1</td>\n",
              "      <td>9.02</td>\n",
              "      <td>13.635</td>\n",
              "      <td>80</td>\n",
              "      <td>0.0000</td>\n",
              "      <td>5</td>\n",
              "      <td>27</td>\n",
              "      <td>32</td>\n",
              "    </tr>\n",
              "    <tr>\n",
              "      <th>3</th>\n",
              "      <td>2011-01-01 03:00:00</td>\n",
              "      <td>1</td>\n",
              "      <td>0</td>\n",
              "      <td>0</td>\n",
              "      <td>1</td>\n",
              "      <td>9.84</td>\n",
              "      <td>14.395</td>\n",
              "      <td>75</td>\n",
              "      <td>0.0000</td>\n",
              "      <td>3</td>\n",
              "      <td>10</td>\n",
              "      <td>13</td>\n",
              "    </tr>\n",
              "    <tr>\n",
              "      <th>4</th>\n",
              "      <td>2011-01-01 04:00:00</td>\n",
              "      <td>1</td>\n",
              "      <td>0</td>\n",
              "      <td>0</td>\n",
              "      <td>1</td>\n",
              "      <td>9.84</td>\n",
              "      <td>14.395</td>\n",
              "      <td>75</td>\n",
              "      <td>0.0000</td>\n",
              "      <td>0</td>\n",
              "      <td>1</td>\n",
              "      <td>1</td>\n",
              "    </tr>\n",
              "    <tr>\n",
              "      <th>...</th>\n",
              "      <td>...</td>\n",
              "      <td>...</td>\n",
              "      <td>...</td>\n",
              "      <td>...</td>\n",
              "      <td>...</td>\n",
              "      <td>...</td>\n",
              "      <td>...</td>\n",
              "      <td>...</td>\n",
              "      <td>...</td>\n",
              "      <td>...</td>\n",
              "      <td>...</td>\n",
              "      <td>...</td>\n",
              "    </tr>\n",
              "    <tr>\n",
              "      <th>9169</th>\n",
              "      <td>2012-12-16 19:00:00</td>\n",
              "      <td>4</td>\n",
              "      <td>0</td>\n",
              "      <td>0</td>\n",
              "      <td>1</td>\n",
              "      <td>14.76</td>\n",
              "      <td>17.425</td>\n",
              "      <td>93</td>\n",
              "      <td>8.9981</td>\n",
              "      <td>10</td>\n",
              "      <td>99</td>\n",
              "      <td>109</td>\n",
              "    </tr>\n",
              "    <tr>\n",
              "      <th>9170</th>\n",
              "      <td>2012-12-16 20:00:00</td>\n",
              "      <td>4</td>\n",
              "      <td>0</td>\n",
              "      <td>0</td>\n",
              "      <td>2</td>\n",
              "      <td>15.58</td>\n",
              "      <td>19.695</td>\n",
              "      <td>82</td>\n",
              "      <td>0.0000</td>\n",
              "      <td>14</td>\n",
              "      <td>108</td>\n",
              "      <td>122</td>\n",
              "    </tr>\n",
              "    <tr>\n",
              "      <th>9171</th>\n",
              "      <td>2012-12-16 21:00:00</td>\n",
              "      <td>4</td>\n",
              "      <td>0</td>\n",
              "      <td>0</td>\n",
              "      <td>2</td>\n",
              "      <td>14.76</td>\n",
              "      <td>18.940</td>\n",
              "      <td>93</td>\n",
              "      <td>0.0000</td>\n",
              "      <td>14</td>\n",
              "      <td>92</td>\n",
              "      <td>106</td>\n",
              "    </tr>\n",
              "    <tr>\n",
              "      <th>9172</th>\n",
              "      <td>2012-12-16 22:00:00</td>\n",
              "      <td>4</td>\n",
              "      <td>0</td>\n",
              "      <td>0</td>\n",
              "      <td>2</td>\n",
              "      <td>16.40</td>\n",
              "      <td>20.455</td>\n",
              "      <td>82</td>\n",
              "      <td>12.9980</td>\n",
              "      <td>6</td>\n",
              "      <td>83</td>\n",
              "      <td>89</td>\n",
              "    </tr>\n",
              "    <tr>\n",
              "      <th>9173</th>\n",
              "      <td>2012-12-16 23:00:00</td>\n",
              "      <td>4</td>\n",
              "      <td>0</td>\n",
              "      <td>0</td>\n",
              "      <td>2</td>\n",
              "      <td>14.76</td>\n",
              "      <td>17.425</td>\n",
              "      <td>93</td>\n",
              "      <td>8.9981</td>\n",
              "      <td>4</td>\n",
              "      <td>29</td>\n",
              "      <td>33</td>\n",
              "    </tr>\n",
              "  </tbody>\n",
              "</table>\n",
              "<p>9174 rows × 12 columns</p>\n",
              "</div>"
            ],
            "text/plain": [
              "                 datetime  season  holiday  workingday  weather   temp  \\\n",
              "0     2011-01-01 00:00:00       1        0           0        1   9.84   \n",
              "1     2011-01-01 01:00:00       1        0           0        1   9.02   \n",
              "2     2011-01-01 02:00:00       1        0           0        1   9.02   \n",
              "3     2011-01-01 03:00:00       1        0           0        1   9.84   \n",
              "4     2011-01-01 04:00:00       1        0           0        1   9.84   \n",
              "...                   ...     ...      ...         ...      ...    ...   \n",
              "9169  2012-12-16 19:00:00       4        0           0        1  14.76   \n",
              "9170  2012-12-16 20:00:00       4        0           0        2  15.58   \n",
              "9171  2012-12-16 21:00:00       4        0           0        2  14.76   \n",
              "9172  2012-12-16 22:00:00       4        0           0        2  16.40   \n",
              "9173  2012-12-16 23:00:00       4        0           0        2  14.76   \n",
              "\n",
              "       atemp  humidity  windspeed  casual  registered  count  \n",
              "0     14.395        81     0.0000       3          13     16  \n",
              "1     13.635        80     0.0000       8          32     40  \n",
              "2     13.635        80     0.0000       5          27     32  \n",
              "3     14.395        75     0.0000       3          10     13  \n",
              "4     14.395        75     0.0000       0           1      1  \n",
              "...      ...       ...        ...     ...         ...    ...  \n",
              "9169  17.425        93     8.9981      10          99    109  \n",
              "9170  19.695        82     0.0000      14         108    122  \n",
              "9171  18.940        93     0.0000      14          92    106  \n",
              "9172  20.455        82    12.9980       6          83     89  \n",
              "9173  17.425        93     8.9981       4          29     33  \n",
              "\n",
              "[9174 rows x 12 columns]"
            ]
          },
          "execution_count": 7,
          "metadata": {},
          "output_type": "execute_result"
        }
      ],
      "source": [
        "def hour_of_day(dt):\n",
        "    \n",
        "    return datetime.strptime(dt, \"%Y-%m-%d %H:%M:%S\").time().hour\n",
        " \n",
        "df"
      ]
    },
    {
      "cell_type": "code",
      "execution_count": null,
      "metadata": {
        "id": "FaQI1ahheZOk",
        "outputId": "ce0c2bb3-20b6-4f2c-8d7f-b3b430c3eead"
      },
      "outputs": [
        {
          "data": {
            "text/html": [
              "<div>\n",
              "<style scoped>\n",
              "    .dataframe tbody tr th:only-of-type {\n",
              "        vertical-align: middle;\n",
              "    }\n",
              "\n",
              "    .dataframe tbody tr th {\n",
              "        vertical-align: top;\n",
              "    }\n",
              "\n",
              "    .dataframe thead th {\n",
              "        text-align: right;\n",
              "    }\n",
              "</style>\n",
              "<table border=\"1\" class=\"dataframe\">\n",
              "  <thead>\n",
              "    <tr style=\"text-align: right;\">\n",
              "      <th></th>\n",
              "      <th>datetime</th>\n",
              "      <th>season</th>\n",
              "      <th>holiday</th>\n",
              "      <th>workingday</th>\n",
              "      <th>weather</th>\n",
              "      <th>temp</th>\n",
              "      <th>atemp</th>\n",
              "      <th>humidity</th>\n",
              "      <th>windspeed</th>\n",
              "      <th>casual</th>\n",
              "      <th>registered</th>\n",
              "      <th>count</th>\n",
              "      <th>Month</th>\n",
              "      <th>Year</th>\n",
              "      <th>day_num</th>\n",
              "      <th>hour</th>\n",
              "    </tr>\n",
              "  </thead>\n",
              "  <tbody>\n",
              "    <tr>\n",
              "      <th>0</th>\n",
              "      <td>2011-01-01 00:00:00</td>\n",
              "      <td>1</td>\n",
              "      <td>0</td>\n",
              "      <td>0</td>\n",
              "      <td>1</td>\n",
              "      <td>9.84</td>\n",
              "      <td>14.395</td>\n",
              "      <td>81</td>\n",
              "      <td>0.0</td>\n",
              "      <td>3</td>\n",
              "      <td>13</td>\n",
              "      <td>16</td>\n",
              "      <td>01</td>\n",
              "      <td>11</td>\n",
              "      <td>5</td>\n",
              "      <td>0</td>\n",
              "    </tr>\n",
              "    <tr>\n",
              "      <th>1</th>\n",
              "      <td>2011-01-01 01:00:00</td>\n",
              "      <td>1</td>\n",
              "      <td>0</td>\n",
              "      <td>0</td>\n",
              "      <td>1</td>\n",
              "      <td>9.02</td>\n",
              "      <td>13.635</td>\n",
              "      <td>80</td>\n",
              "      <td>0.0</td>\n",
              "      <td>8</td>\n",
              "      <td>32</td>\n",
              "      <td>40</td>\n",
              "      <td>01</td>\n",
              "      <td>11</td>\n",
              "      <td>5</td>\n",
              "      <td>1</td>\n",
              "    </tr>\n",
              "    <tr>\n",
              "      <th>2</th>\n",
              "      <td>2011-01-01 02:00:00</td>\n",
              "      <td>1</td>\n",
              "      <td>0</td>\n",
              "      <td>0</td>\n",
              "      <td>1</td>\n",
              "      <td>9.02</td>\n",
              "      <td>13.635</td>\n",
              "      <td>80</td>\n",
              "      <td>0.0</td>\n",
              "      <td>5</td>\n",
              "      <td>27</td>\n",
              "      <td>32</td>\n",
              "      <td>01</td>\n",
              "      <td>11</td>\n",
              "      <td>5</td>\n",
              "      <td>2</td>\n",
              "    </tr>\n",
              "    <tr>\n",
              "      <th>3</th>\n",
              "      <td>2011-01-01 03:00:00</td>\n",
              "      <td>1</td>\n",
              "      <td>0</td>\n",
              "      <td>0</td>\n",
              "      <td>1</td>\n",
              "      <td>9.84</td>\n",
              "      <td>14.395</td>\n",
              "      <td>75</td>\n",
              "      <td>0.0</td>\n",
              "      <td>3</td>\n",
              "      <td>10</td>\n",
              "      <td>13</td>\n",
              "      <td>01</td>\n",
              "      <td>11</td>\n",
              "      <td>5</td>\n",
              "      <td>3</td>\n",
              "    </tr>\n",
              "    <tr>\n",
              "      <th>4</th>\n",
              "      <td>2011-01-01 04:00:00</td>\n",
              "      <td>1</td>\n",
              "      <td>0</td>\n",
              "      <td>0</td>\n",
              "      <td>1</td>\n",
              "      <td>9.84</td>\n",
              "      <td>14.395</td>\n",
              "      <td>75</td>\n",
              "      <td>0.0</td>\n",
              "      <td>0</td>\n",
              "      <td>1</td>\n",
              "      <td>1</td>\n",
              "      <td>01</td>\n",
              "      <td>11</td>\n",
              "      <td>5</td>\n",
              "      <td>4</td>\n",
              "    </tr>\n",
              "  </tbody>\n",
              "</table>\n",
              "</div>"
            ],
            "text/plain": [
              "              datetime  season  holiday  workingday  weather  temp   atemp  \\\n",
              "0  2011-01-01 00:00:00       1        0           0        1  9.84  14.395   \n",
              "1  2011-01-01 01:00:00       1        0           0        1  9.02  13.635   \n",
              "2  2011-01-01 02:00:00       1        0           0        1  9.02  13.635   \n",
              "3  2011-01-01 03:00:00       1        0           0        1  9.84  14.395   \n",
              "4  2011-01-01 04:00:00       1        0           0        1  9.84  14.395   \n",
              "\n",
              "   humidity  windspeed  casual  registered  count Month Year  day_num  hour  \n",
              "0        81        0.0       3          13     16    01   11        5     0  \n",
              "1        80        0.0       8          32     40    01   11        5     1  \n",
              "2        80        0.0       5          27     32    01   11        5     2  \n",
              "3        75        0.0       3          10     13    01   11        5     3  \n",
              "4        75        0.0       0           1      1    01   11        5     4  "
            ]
          },
          "execution_count": 8,
          "metadata": {},
          "output_type": "execute_result"
        }
      ],
      "source": [
        "#other parameters from data set\n",
        "\n",
        "dto=pd.to_datetime(df['datetime'])\n",
        "\n",
        "df['Month'] = dto.dt.strftime('%m')\n",
        "df['Year'] = dto.dt.strftime('%y')\n",
        "    \n",
        "#df['day']= dto.dt.day_name()\n",
        "\n",
        "df['day_num']=dto.dt.dayofweek\n",
        "\n",
        "df['hour'] = df['datetime'].map(hour_of_day)\n",
        "df.head()"
      ]
    },
    {
      "cell_type": "code",
      "execution_count": null,
      "metadata": {
        "id": "RwKPqIcieZOl",
        "outputId": "af98c4bd-1cc8-49f4-dc08-4545c9bfc89f"
      },
      "outputs": [
        {
          "data": {
            "text/plain": [
              "(9174, 16)"
            ]
          },
          "execution_count": 9,
          "metadata": {},
          "output_type": "execute_result"
        }
      ],
      "source": [
        "df.shape  #columns added\n"
      ]
    },
    {
      "cell_type": "code",
      "execution_count": null,
      "metadata": {
        "id": "FsEu2rz5eZOm",
        "outputId": "9b82f1e9-7009-4e5f-8e33-300a8a64431c"
      },
      "outputs": [
        {
          "name": "stdout",
          "output_type": "stream",
          "text": [
            "<class 'pandas.core.frame.DataFrame'>\n",
            "RangeIndex: 9174 entries, 0 to 9173\n",
            "Data columns (total 16 columns):\n",
            " #   Column      Non-Null Count  Dtype  \n",
            "---  ------      --------------  -----  \n",
            " 0   datetime    9174 non-null   object \n",
            " 1   season      9174 non-null   int64  \n",
            " 2   holiday     9174 non-null   int64  \n",
            " 3   workingday  9174 non-null   int64  \n",
            " 4   weather     9174 non-null   int64  \n",
            " 5   temp        9174 non-null   float64\n",
            " 6   atemp       9174 non-null   float64\n",
            " 7   humidity    9174 non-null   int64  \n",
            " 8   windspeed   9174 non-null   float64\n",
            " 9   casual      9174 non-null   int64  \n",
            " 10  registered  9174 non-null   int64  \n",
            " 11  count       9174 non-null   int64  \n",
            " 12  Month       9174 non-null   object \n",
            " 13  Year        9174 non-null   object \n",
            " 14  day_num     9174 non-null   int64  \n",
            " 15  hour        9174 non-null   int64  \n",
            "dtypes: float64(3), int64(10), object(3)\n",
            "memory usage: 1.1+ MB\n"
          ]
        }
      ],
      "source": [
        "df.info()\n"
      ]
    },
    {
      "cell_type": "code",
      "execution_count": null,
      "metadata": {
        "id": "2ctYxmG8eZOn",
        "outputId": "c527730d-bf99-4a90-8860-e8693b9961f7"
      },
      "outputs": [
        {
          "name": "stdout",
          "output_type": "stream",
          "text": [
            "highest value 733.6163438168348\n",
            "lowest value -352.4528382576459\n"
          ]
        }
      ],
      "source": [
        "#checking highest ,lowest values to outliers-filter \n",
        "\n",
        "print('highest value',   df['count'].mean() + 3*df['count'].std())\n",
        "print('lowest value',    df['count'].mean() - 3*df['count'].std())"
      ]
    },
    {
      "cell_type": "code",
      "execution_count": null,
      "metadata": {
        "id": "s0KkK0kDeZOn",
        "outputId": "7c541f76-373d-4964-b12c-504eacbaf5ed"
      },
      "outputs": [
        {
          "data": {
            "text/html": [
              "<div>\n",
              "<style scoped>\n",
              "    .dataframe tbody tr th:only-of-type {\n",
              "        vertical-align: middle;\n",
              "    }\n",
              "\n",
              "    .dataframe tbody tr th {\n",
              "        vertical-align: top;\n",
              "    }\n",
              "\n",
              "    .dataframe thead th {\n",
              "        text-align: right;\n",
              "    }\n",
              "</style>\n",
              "<table border=\"1\" class=\"dataframe\">\n",
              "  <thead>\n",
              "    <tr style=\"text-align: right;\">\n",
              "      <th></th>\n",
              "      <th>datetime</th>\n",
              "      <th>season</th>\n",
              "      <th>holiday</th>\n",
              "      <th>workingday</th>\n",
              "      <th>weather</th>\n",
              "      <th>temp</th>\n",
              "      <th>atemp</th>\n",
              "      <th>humidity</th>\n",
              "      <th>windspeed</th>\n",
              "      <th>casual</th>\n",
              "      <th>registered</th>\n",
              "      <th>count</th>\n",
              "      <th>Month</th>\n",
              "      <th>Year</th>\n",
              "      <th>day_num</th>\n",
              "      <th>hour</th>\n",
              "    </tr>\n",
              "  </thead>\n",
              "  <tbody>\n",
              "    <tr>\n",
              "      <th>0</th>\n",
              "      <td>2011-01-01 00:00:00</td>\n",
              "      <td>1</td>\n",
              "      <td>0</td>\n",
              "      <td>0</td>\n",
              "      <td>1</td>\n",
              "      <td>9.84</td>\n",
              "      <td>14.395</td>\n",
              "      <td>81</td>\n",
              "      <td>0.0</td>\n",
              "      <td>3</td>\n",
              "      <td>13</td>\n",
              "      <td>16</td>\n",
              "      <td>01</td>\n",
              "      <td>11</td>\n",
              "      <td>5</td>\n",
              "      <td>0</td>\n",
              "    </tr>\n",
              "    <tr>\n",
              "      <th>1</th>\n",
              "      <td>2011-01-01 01:00:00</td>\n",
              "      <td>1</td>\n",
              "      <td>0</td>\n",
              "      <td>0</td>\n",
              "      <td>1</td>\n",
              "      <td>9.02</td>\n",
              "      <td>13.635</td>\n",
              "      <td>80</td>\n",
              "      <td>0.0</td>\n",
              "      <td>8</td>\n",
              "      <td>32</td>\n",
              "      <td>40</td>\n",
              "      <td>01</td>\n",
              "      <td>11</td>\n",
              "      <td>5</td>\n",
              "      <td>1</td>\n",
              "    </tr>\n",
              "    <tr>\n",
              "      <th>2</th>\n",
              "      <td>2011-01-01 02:00:00</td>\n",
              "      <td>1</td>\n",
              "      <td>0</td>\n",
              "      <td>0</td>\n",
              "      <td>1</td>\n",
              "      <td>9.02</td>\n",
              "      <td>13.635</td>\n",
              "      <td>80</td>\n",
              "      <td>0.0</td>\n",
              "      <td>5</td>\n",
              "      <td>27</td>\n",
              "      <td>32</td>\n",
              "      <td>01</td>\n",
              "      <td>11</td>\n",
              "      <td>5</td>\n",
              "      <td>2</td>\n",
              "    </tr>\n",
              "    <tr>\n",
              "      <th>3</th>\n",
              "      <td>2011-01-01 03:00:00</td>\n",
              "      <td>1</td>\n",
              "      <td>0</td>\n",
              "      <td>0</td>\n",
              "      <td>1</td>\n",
              "      <td>9.84</td>\n",
              "      <td>14.395</td>\n",
              "      <td>75</td>\n",
              "      <td>0.0</td>\n",
              "      <td>3</td>\n",
              "      <td>10</td>\n",
              "      <td>13</td>\n",
              "      <td>01</td>\n",
              "      <td>11</td>\n",
              "      <td>5</td>\n",
              "      <td>3</td>\n",
              "    </tr>\n",
              "    <tr>\n",
              "      <th>4</th>\n",
              "      <td>2011-01-01 04:00:00</td>\n",
              "      <td>1</td>\n",
              "      <td>0</td>\n",
              "      <td>0</td>\n",
              "      <td>1</td>\n",
              "      <td>9.84</td>\n",
              "      <td>14.395</td>\n",
              "      <td>75</td>\n",
              "      <td>0.0</td>\n",
              "      <td>0</td>\n",
              "      <td>1</td>\n",
              "      <td>1</td>\n",
              "      <td>01</td>\n",
              "      <td>11</td>\n",
              "      <td>5</td>\n",
              "      <td>4</td>\n",
              "    </tr>\n",
              "  </tbody>\n",
              "</table>\n",
              "</div>"
            ],
            "text/plain": [
              "              datetime  season  holiday  workingday  weather  temp   atemp  \\\n",
              "0  2011-01-01 00:00:00       1        0           0        1  9.84  14.395   \n",
              "1  2011-01-01 01:00:00       1        0           0        1  9.02  13.635   \n",
              "2  2011-01-01 02:00:00       1        0           0        1  9.02  13.635   \n",
              "3  2011-01-01 03:00:00       1        0           0        1  9.84  14.395   \n",
              "4  2011-01-01 04:00:00       1        0           0        1  9.84  14.395   \n",
              "\n",
              "   humidity  windspeed  casual  registered  count Month Year  day_num  hour  \n",
              "0        81        0.0       3          13     16    01   11        5     0  \n",
              "1        80        0.0       8          32     40    01   11        5     1  \n",
              "2        80        0.0       5          27     32    01   11        5     2  \n",
              "3        75        0.0       3          10     13    01   11        5     3  \n",
              "4        75        0.0       0           1      1    01   11        5     4  "
            ]
          },
          "execution_count": 12,
          "metadata": {},
          "output_type": "execute_result"
        }
      ],
      "source": [
        "# excluding of outlier values\n",
        "\n",
        "df1 = df[(df['count']  <  733.6163438168348) & (df['count']  >  -352.4528382576459)]\n",
        "df1.head()"
      ]
    },
    {
      "cell_type": "code",
      "execution_count": null,
      "metadata": {
        "id": "cD5b-SLveZOo",
        "outputId": "8bb8e843-da8c-484a-debe-d233018a73e3"
      },
      "outputs": [
        {
          "data": {
            "image/png": "[encoded data removed]",
            "text/plain": [
              "<Figure size 432x288 with 1 Axes>"
            ]
          },
          "metadata": {
            "needs_background": "light"
          },
          "output_type": "display_data"
        }
      ],
      "source": [
        "plt.bar(df1['hour'],df1['count'], color='red')\n",
        "plt.xlabel('hours')\n",
        "plt.ylabel('count')\n",
        "plt.show()"
      ]
    },
    {
      "cell_type": "code",
      "execution_count": null,
      "metadata": {
        "id": "S2hmgZ-0eZOp",
        "outputId": "2fbc8149-94b2-4443-ba7c-d9fd2843ca4c"
      },
      "outputs": [
        {
          "data": {
            "image/png": "[encoded data removed]",
            "text/plain": [
              "<Figure size 432x288 with 1 Axes>"
            ]
          },
          "metadata": {
            "needs_background": "light"
          },
          "output_type": "display_data"
        }
      ],
      "source": [
        "plt.bar(df['Month'],df['count'], color='violet')\n",
        "plt.xlabel('month')\n",
        "plt.ylabel('count')\n",
        "plt.show()"
      ]
    },
    {
      "cell_type": "code",
      "execution_count": null,
      "metadata": {
        "id": "4H2VgCMYeZOp",
        "outputId": "ed810a91-8f14-48b2-b094-f2d44c16a586"
      },
      "outputs": [
        {
          "data": {
            "text/plain": [
              "['hour', 'temp', 'Month', 'season', 'workingday']"
            ]
          },
          "execution_count": 15,
          "metadata": {},
          "output_type": "execute_result"
        }
      ],
      "source": [
        "columns=['hour','temp','Month','season','workingday']\n",
        "columns\n"
      ]
    },
    {
      "cell_type": "code",
      "execution_count": null,
      "metadata": {
        "id": "KDdVwHmkeZOp",
        "outputId": "8dda0773-d252-48a7-e34e-23c03a18788f"
      },
      "outputs": [
        {
          "data": {
            "text/html": [
              "<div>\n",
              "<style scoped>\n",
              "    .dataframe tbody tr th:only-of-type {\n",
              "        vertical-align: middle;\n",
              "    }\n",
              "\n",
              "    .dataframe tbody tr th {\n",
              "        vertical-align: top;\n",
              "    }\n",
              "\n",
              "    .dataframe thead th {\n",
              "        text-align: right;\n",
              "    }\n",
              "</style>\n",
              "<table border=\"1\" class=\"dataframe\">\n",
              "  <thead>\n",
              "    <tr style=\"text-align: right;\">\n",
              "      <th></th>\n",
              "      <th>hour</th>\n",
              "      <th>temp</th>\n",
              "      <th>Month</th>\n",
              "      <th>season</th>\n",
              "      <th>workingday</th>\n",
              "    </tr>\n",
              "  </thead>\n",
              "  <tbody>\n",
              "    <tr>\n",
              "      <th>0</th>\n",
              "      <td>0</td>\n",
              "      <td>9.84</td>\n",
              "      <td>01</td>\n",
              "      <td>1</td>\n",
              "      <td>0</td>\n",
              "    </tr>\n",
              "    <tr>\n",
              "      <th>1</th>\n",
              "      <td>1</td>\n",
              "      <td>9.02</td>\n",
              "      <td>01</td>\n",
              "      <td>1</td>\n",
              "      <td>0</td>\n",
              "    </tr>\n",
              "    <tr>\n",
              "      <th>2</th>\n",
              "      <td>2</td>\n",
              "      <td>9.02</td>\n",
              "      <td>01</td>\n",
              "      <td>1</td>\n",
              "      <td>0</td>\n",
              "    </tr>\n",
              "    <tr>\n",
              "      <th>3</th>\n",
              "      <td>3</td>\n",
              "      <td>9.84</td>\n",
              "      <td>01</td>\n",
              "      <td>1</td>\n",
              "      <td>0</td>\n",
              "    </tr>\n",
              "    <tr>\n",
              "      <th>4</th>\n",
              "      <td>4</td>\n",
              "      <td>9.84</td>\n",
              "      <td>01</td>\n",
              "      <td>1</td>\n",
              "      <td>0</td>\n",
              "    </tr>\n",
              "    <tr>\n",
              "      <th>...</th>\n",
              "      <td>...</td>\n",
              "      <td>...</td>\n",
              "      <td>...</td>\n",
              "      <td>...</td>\n",
              "      <td>...</td>\n",
              "    </tr>\n",
              "    <tr>\n",
              "      <th>9169</th>\n",
              "      <td>19</td>\n",
              "      <td>14.76</td>\n",
              "      <td>12</td>\n",
              "      <td>4</td>\n",
              "      <td>0</td>\n",
              "    </tr>\n",
              "    <tr>\n",
              "      <th>9170</th>\n",
              "      <td>20</td>\n",
              "      <td>15.58</td>\n",
              "      <td>12</td>\n",
              "      <td>4</td>\n",
              "      <td>0</td>\n",
              "    </tr>\n",
              "    <tr>\n",
              "      <th>9171</th>\n",
              "      <td>21</td>\n",
              "      <td>14.76</td>\n",
              "      <td>12</td>\n",
              "      <td>4</td>\n",
              "      <td>0</td>\n",
              "    </tr>\n",
              "    <tr>\n",
              "      <th>9172</th>\n",
              "      <td>22</td>\n",
              "      <td>16.40</td>\n",
              "      <td>12</td>\n",
              "      <td>4</td>\n",
              "      <td>0</td>\n",
              "    </tr>\n",
              "    <tr>\n",
              "      <th>9173</th>\n",
              "      <td>23</td>\n",
              "      <td>14.76</td>\n",
              "      <td>12</td>\n",
              "      <td>4</td>\n",
              "      <td>0</td>\n",
              "    </tr>\n",
              "  </tbody>\n",
              "</table>\n",
              "<p>9053 rows × 5 columns</p>\n",
              "</div>"
            ],
            "text/plain": [
              "      hour   temp Month  season  workingday\n",
              "0        0   9.84    01       1           0\n",
              "1        1   9.02    01       1           0\n",
              "2        2   9.02    01       1           0\n",
              "3        3   9.84    01       1           0\n",
              "4        4   9.84    01       1           0\n",
              "...    ...    ...   ...     ...         ...\n",
              "9169    19  14.76    12       4           0\n",
              "9170    20  15.58    12       4           0\n",
              "9171    21  14.76    12       4           0\n",
              "9172    22  16.40    12       4           0\n",
              "9173    23  14.76    12       4           0\n",
              "\n",
              "[9053 rows x 5 columns]"
            ]
          },
          "execution_count": 18,
          "metadata": {},
          "output_type": "execute_result"
        }
      ],
      "source": [
        "from sklearn.model_selection import train_test_split\n",
        "from sklearn import preprocessing\n",
        "from sklearn.metrics import mean_squared_error\n",
        "from sklearn.metrics import mean_absolute_error\n",
        "from sklearn.metrics import r2_score\n",
        "from sklearn.model_selection import KFold\n",
        "\n",
        "x = df1[columns]\n",
        "x"
      ]
    },
    {
      "cell_type": "code",
      "execution_count": null,
      "metadata": {
        "id": "mgZkG1TQeZOq",
        "outputId": "b0fde4b3-221c-4552-fe03-862428c7cf48"
      },
      "outputs": [
        {
          "data": {
            "text/plain": [
              "((7242, 5), (7242,), (1811, 5), (1811,))"
            ]
          },
          "execution_count": 17,
          "metadata": {},
          "output_type": "execute_result"
        }
      ],
      "source": [
        "# for k fold\n",
        "x = preprocessing.scale(x) \n",
        "y = df1['count'].values\n",
        "y = preprocessing.scale(y) \n",
        "\n",
        "casual=df1['casual'].values\n",
        "casual= preprocessing.scale(casual)\n",
        "\n",
        "registered=df1['registered'].values\n",
        "registered= preprocessing.scale(registered)\n",
        "\n",
        "\n",
        "x_train,     x_test,     y_train,     y_test     = train_test_split(x,y,test_size=0.2,random_state=50)\n",
        "x_train_cas, x_test_cas, y_train_cas, y_test_cas = train_test_split(x,casual,test_size=0.2,random_state=50)\n",
        "x_train_reg, x_test_reg, y_train_reg, y_test_reg = train_test_split(x,registered,test_size=0.2,random_state=50)\n",
        "\n",
        "x_train.shape ,y_train.shape, x_test.shape, y_test.shape\n"
      ]
    },
    {
      "cell_type": "code",
      "execution_count": null,
      "metadata": {
        "id": "qziaYr1neZOr",
        "outputId": "f2c47830-8633-4605-e43f-282a7a9f611e"
      },
      "outputs": [
        {
          "data": {
            "text/plain": [
              "{'bootstrap': [True],\n",
              " 'max_depth': [70, 80, 90, 100, 110, 120],\n",
              " 'max_features': [2, 3],\n",
              " 'min_samples_leaf': [3, 4, 5],\n",
              " 'min_samples_split': [8, 10, 12],\n",
              " 'n_estimators': [100, 200, 500, 1000]}"
            ]
          },
          "execution_count": 19,
          "metadata": {},
          "output_type": "execute_result"
        }
      ],
      "source": [
        "from sklearn.model_selection import GridSearchCV\n",
        "from sklearn.ensemble import RandomForestRegressor\n",
        "from sklearn.ensemble import BaggingRegressor\n",
        "from sklearn.ensemble import VotingRegressor\n",
        "paramters = {\n",
        "    'bootstrap': [True],\n",
        "    'max_depth': [70, 80, 90, 100, 110, 120],\n",
        "    'max_features': [2, 3],\n",
        "    'min_samples_leaf': [3, 4, 5],\n",
        "    'min_samples_split': [8, 10, 12],\n",
        "    'n_estimators': [100, 200, 500, 1000]\n",
        "}\n",
        "paramters"
      ]
    },
    {
      "cell_type": "code",
      "execution_count": null,
      "metadata": {
        "id": "gglwMGrAeZOr",
        "outputId": "8314de69-d5c6-4ec1-f3a8-d18cf8888b10"
      },
      "outputs": [
        {
          "name": "stdout",
          "output_type": "stream",
          "text": [
            "columns being used: ['hour', 'temp', 'Month', 'season', 'workingday']\n",
            "RandomForestRegressor(max_depth=120, max_features=3, min_samples_leaf=3,\n",
            "                      min_samples_split=8, n_estimators=500)\n"
          ]
        }
      ],
      "source": [
        "from sklearn.svm import LinearSVR\n",
        "from sklearn.ensemble import RandomForestRegressor\n",
        "from sklearn.tree import DecisionTreeRegressor\n",
        "from sklearn.linear_model import LinearRegression\n",
        "from sklearn.neighbors import KNeighborsRegressor\n",
        "\n",
        "model = RandomForestRegressor(max_depth=120,n_estimators = 500 , max_features=3, min_samples_leaf=3,min_samples_split=8 )\n",
        "print(\"columns being used:\",columns)\n",
        "print(model)"
      ]
    },
    {
      "cell_type": "code",
      "execution_count": null,
      "metadata": {
        "id": "PurUBQHqeZOs",
        "outputId": "2da245ca-2c71-40a0-9cf8-87faee6e55af"
      },
      "outputs": [
        {
          "name": "stdout",
          "output_type": "stream",
          "text": [
            "RMS error: 0.4666477769933504\n",
            "RMS error for casual: 0.9351142243323137\n",
            "RMS error for registered: 0.43027203736925995\n"
          ]
        },
        {
          "data": {
            "image/png": "[encoded data removed]",
            "text/plain": [
              "<Figure size 432x288 with 1 Axes>"
            ]
          },
          "metadata": {
            "needs_background": "light"
          },
          "output_type": "display_data"
        }
      ],
      "source": [
        "# fit the model to the training subset of original training data\n",
        "\n",
        "model.fit(x_train, y_train)\n",
        "model.fit(x_train_cas, y_train_cas)\n",
        "model.fit(x_train_reg, y_train_reg)\n",
        "y_pred = model.predict(x_test)\n",
        "y_pred_casual = model.predict(x_test_cas)\n",
        "y_pred_resgistered = model.predict(x_test_reg)\n",
        "\n",
        "from sklearn.ensemble import RandomForestRegressor\n",
        "from sklearn.model_selection import cross_val_score\n",
        "from sklearn.metrics import mean_squared_error\n",
        "from sklearn.metrics import mean_absolute_error\n",
        "\n",
        "\n",
        "# root mean square\n",
        "rms = np.sqrt(mean_squared_error(y_test, y_pred))\n",
        "print(\"RMS error:\",rms)\n",
        "\n",
        "#root mean square\n",
        "rms_cas=np.sqrt(mean_squared_error(y_test_cas, y_pred_casual))\n",
        "print(\"RMS error for casual:\",rms_cas)\n",
        "\n",
        "#root mean square\n",
        "rms_reg=np.sqrt(mean_squared_error(y_test_reg, y_pred_resgistered))\n",
        "print(\"RMS error for registered:\",rms_reg)\n",
        "\n",
        "plt.scatter(y_test, y_pred, c='black', marker='*')\n",
        "plt.show()"
      ]
    },
    {
      "cell_type": "code",
      "execution_count": null,
      "metadata": {
        "id": "_yTOZhFieZOs",
        "outputId": "7f699658-fc1d-41e5-8d30-991ee396ab6d"
      },
      "outputs": [
        {
          "data": {
            "image/png": "[encoded data removed]",
            "text/plain": [
              "<Figure size 432x288 with 1 Axes>"
            ]
          },
          "metadata": {
            "needs_background": "light"
          },
          "output_type": "display_data"
        }
      ],
      "source": [
        "plt.scatter(y_test_cas, y_pred_casual, c='black')\n",
        "plt.show()"
      ]
    },
    {
      "cell_type": "code",
      "execution_count": null,
      "metadata": {
        "id": "erHsL5I2eZOt",
        "outputId": "0b717e4e-cef0-4aab-83e7-4b8f612d369e"
      },
      "outputs": [
        {
          "data": {
            "image/png": "[encoded data removed]",
            "text/plain": [
              "<Figure size 432x288 with 1 Axes>"
            ]
          },
          "metadata": {
            "needs_background": "light"
          },
          "output_type": "display_data"
        }
      ],
      "source": [
        "plt.scatter(y_test_reg, y_pred_resgistered, c='black')\n",
        "plt.show()"
      ]
    },
    {
      "cell_type": "code",
      "execution_count": null,
      "metadata": {
        "id": "6q5mEpgAeZOt",
        "outputId": "6a7ed407-8408-4c4a-a6b2-b3d32884f30e"
      },
      "outputs": [
        {
          "data": {
            "image/png": "[encoded data removed]",
            "text/plain": [
              "<Figure size 1152x1152 with 2 Axes>"
            ]
          },
          "metadata": {
            "needs_background": "light"
          },
          "output_type": "display_data"
        }
      ],
      "source": [
        "plt.figure(figsize = (16,16))\n",
        "sb.heatmap(df1.corr(), annot = True, cmap = \"RdYlGn\")\n",
        "\n",
        "plt.show()"
      ]
    },
    {
      "cell_type": "code",
      "execution_count": null,
      "metadata": {
        "id": "Lcec0T_deZOt"
      },
      "outputs": [],
      "source": [
        "#feature importance\n",
        "\n",
        "df1_imp = model.feature_importances_\n",
        "std     = np.std([tree.feature_importances_ for tree in model.estimators_], axis=0)\n",
        "indices = np.argsort(df1_imp)[::-1]"
      ]
    },
    {
      "cell_type": "code",
      "execution_count": null,
      "metadata": {
        "id": "2IYD1P1AeZOu",
        "outputId": "8cf5c8a7-6ba7-4619-b891-7b148574b08b"
      },
      "outputs": [
        {
          "name": "stdout",
          "output_type": "stream",
          "text": [
            "Feature ranking:\n",
            "1. feature hour (0.690451)\n",
            "2. feature temp (0.120466)\n",
            "3. feature workingday (0.097276)\n",
            "4. feature Month (0.068858)\n",
            "5. feature season (0.022949)\n"
          ]
        }
      ],
      "source": [
        "print(\"Feature ranking:\")\n",
        "\n",
        "for f in range(df1[columns].shape[1]):\n",
        "    \n",
        "    print(\"%d. feature %s (%f)\" % (f + 1, columns[indices[f]], df1_imp[indices[f]]))"
      ]
    },
    {
      "cell_type": "markdown",
      "metadata": {
        "id": "XNmxzdv4eZOu"
      },
      "source": [
        "# test data"
      ]
    },
    {
      "cell_type": "code",
      "execution_count": null,
      "metadata": {
        "id": "GmGcb_mmeZOv",
        "outputId": "12db9bce-f243-4d60-c724-5a6f476f9236"
      },
      "outputs": [
        {
          "name": "stdout",
          "output_type": "stream",
          "text": [
            "\n",
            "Number of samples: 1712 and number of features: 9 \n",
            "\n",
            "---------------------------------------------------------\n",
            "---------------------------------------------------------\n",
            "                 datetime  season  holiday  workingday  weather   temp  \\\n",
            "0     2011-01-17 00:00:00       1        1           0        2   8.20   \n",
            "1     2011-01-17 01:00:00       1        1           0        2   8.20   \n",
            "2     2011-01-17 02:00:00       1        1           0        2   7.38   \n",
            "3     2011-01-17 03:00:00       1        1           0        2   7.38   \n",
            "4     2011-01-17 04:00:00       1        1           0        2   7.38   \n",
            "...                   ...     ...      ...         ...      ...    ...   \n",
            "1707  2012-12-19 19:00:00       4        0           1        1  15.58   \n",
            "1708  2012-12-19 20:00:00       4        0           1        1  14.76   \n",
            "1709  2012-12-19 21:00:00       4        0           1        1  13.94   \n",
            "1710  2012-12-19 22:00:00       4        0           1        1  13.94   \n",
            "1711  2012-12-19 23:00:00       4        0           1        1  13.12   \n",
            "\n",
            "       atemp  humidity  windspeed  hour Month Year  day_num      casual  \\\n",
            "0      9.850        47    15.0013     0    01   11        5   29.043813   \n",
            "1      9.850        44    12.9980     1    01   11        5   25.060142   \n",
            "2      8.335        43    16.9979     2    01   11        5   21.157501   \n",
            "3      9.090        43    12.9980     3    01   11        5   10.367127   \n",
            "4      9.850        43     8.9981     4    01   11        5    3.538474   \n",
            "...      ...       ...        ...   ...   ...  ...      ...         ...   \n",
            "1707  19.695        50    26.0027    19    05   11        0  314.915575   \n",
            "1708  17.425        57    15.0013    20    05   11        0  214.854375   \n",
            "1709  15.910        61    15.0013    21    05   11        0  142.646246   \n",
            "1710  17.425        61     6.0032    22    05   11        0  115.881404   \n",
            "1711  16.665        66     8.9981    23    05   11        0   88.672131   \n",
            "\n",
            "      registered       count  added_predict_count  \n",
            "0      29.043813   29.043813            58.087626  \n",
            "1      25.060142   25.060142            50.120285  \n",
            "2      21.157501   21.157501            42.315003  \n",
            "3      10.367127   10.367127            20.734255  \n",
            "4       3.538474    3.538474             7.076947  \n",
            "...          ...         ...                  ...  \n",
            "1707  314.915575  314.915575           629.831151  \n",
            "1708  214.854375  214.854375           429.708750  \n",
            "1709  142.646246  142.646246           285.292491  \n",
            "1710  115.881404  115.881404           231.762808  \n",
            "1711   88.672131   88.672131           177.344263  \n",
            "\n",
            "[1712 rows x 17 columns]\n",
            "---------------------------------------------------------\n",
            "RMS error: 84.24686679132698\n",
            "---------------------------------------------------------\n",
            "RMS error taken by adding: 188.59811096582433\n",
            "---------------------------------------------------------\n",
            "normalized_rmse is : 0.15365077722666626\n",
            "---------------------------------------------------------\n",
            "Prediction done !!!.... saved as file_name is  my_prediction.csv\n"
          ]
        }
      ],
      "source": [
        "# testing case-dataset\n",
        "\n",
        "test_df = pd.read_csv('test_luc.csv')\n",
        "\n",
        "sample_df=pd.read_csv('sample_prediction.csv')\n",
        "\n",
        "print(\"\\nNumber of samples:\",test_df.shape[0] ,\"and number of features:\",test_df.shape[1],\"\\n\")\n",
        "print('---------------------------------------------------------')\n",
        "\n",
        "\n",
        "dto1=pd.to_datetime(df['datetime'])\n",
        "\n",
        "# add the new features into this test data, then use in predict the value\n",
        "\n",
        "test_df['hour'] = test_df['datetime'].map(hour_of_day)\n",
        "test_df['Month'] = dto1.dt.strftime('%m')\n",
        "test_df['Year'] = dto1.dt.strftime('%y')\n",
        "test_df['day_num']=dto1.dt.dayofweek\n",
        "print('---------------------------------------------------------')\n",
        "\n",
        "#  added the column\n",
        "\n",
        "test_df.head()\n",
        "\n",
        "# fit the selected model TO YOUR FULL TRAINING SET\n",
        "\n",
        "model.fit(df[columns], df['count'])\n",
        "model.fit(df[columns],  df['casual'])\n",
        "model.fit(df[columns],  df['registered'])\n",
        "\n",
        "# apply to the test data FOR WHICH YOU DON'T HAVE THE ANSWERS\n",
        "\n",
        "pred_count = model.predict(test_df[columns])\n",
        "casual_count=model.predict(test_df[columns])\n",
        "registered_count=model.predict(test_df[columns])\n",
        "\n",
        "\n",
        "# add the prediction column (in case you want to inspect it later)\n",
        "test_df['casual']=casual_count\n",
        "test_df['registered']=registered_count\n",
        "test_df['count'] = pred_count\n",
        "test_df['added_predict_count']=test_df['casual']+test_df['registered']\n",
        "\n",
        "print(test_df)\n",
        "print('---------------------------------------------------------')\n",
        "\n",
        "rms1 = np.sqrt(mean_squared_error(sample_df['count'],test_df['count']))\n",
        "print(\"RMS error:\",rms1)\n",
        "print('---------------------------------------------------------')\n",
        "rms_added=np.sqrt(mean_squared_error(sample_df['count'],test_df['added_predict_count']))\n",
        "print(\"RMS error taken by adding:\",rms_added)\n",
        "print('---------------------------------------------------------')\n",
        "\n",
        "normalized_rmse=rms1/(test_df['count'].max()-test_df['count'].min())\n",
        "print(\"normalized_rmse is :\", normalized_rmse)\n",
        "print('---------------------------------------------------------')\n",
        "\n",
        "# save the predicted count as a csv with a header column and datetime row\n",
        "test_df = test_df[['datetime','count']].to_csv('my_prediction.csv', \n",
        "    index=False, header=True)\n",
        "\n",
        "print(\"Prediction done !!!.... saved as file_name is  my_prediction.csv\")"
      ]
    },
    {
      "cell_type": "code",
      "execution_count": null,
      "metadata": {
        "id": "tUIR-tyYeZOv"
      },
      "outputs": [],
      "source": [
        ""
      ]
    },
    {
      "cell_type": "code",
      "execution_count": null,
      "metadata": {
        "id": "YArZMm2_eZOw"
      },
      "outputs": [],
      "source": [
        ""
      ]
    },
    {
      "cell_type": "code",
      "execution_count": null,
      "metadata": {
        "id": "EMqzxRy8eZOw"
      },
      "outputs": [],
      "source": [
        ""
      ]
    },
    {
      "cell_type": "code",
      "execution_count": null,
      "metadata": {
        "id": "uksx64RDeZOw"
      },
      "outputs": [],
      "source": [
        ""
      ]
    },
    {
      "cell_type": "code",
      "execution_count": null,
      "metadata": {
        "id": "uB_4QIyVeZOw"
      },
      "outputs": [],
      "source": [
        ""
      ]
    },
    {
      "cell_type": "code",
      "execution_count": null,
      "metadata": {
        "id": "Rw2DBZLPeZOw"
      },
      "outputs": [],
      "source": [
        ""
      ]
    },
    {
      "cell_type": "code",
      "execution_count": null,
      "metadata": {
        "id": "3ecogrDceZOx"
      },
      "outputs": [],
      "source": [
        ""
      ]
    },
    {
      "cell_type": "code",
      "execution_count": null,
      "metadata": {
        "id": "Lx2HG1M-eZOx"
      },
      "outputs": [],
      "source": [
        ""
      ]
    },
    {
      "cell_type": "code",
      "execution_count": null,
      "metadata": {
        "id": "sFD-30uPeZOx"
      },
      "outputs": [],
      "source": [
        ""
      ]
    },
    {
      "cell_type": "code",
      "execution_count": null,
      "metadata": {
        "id": "yjJ2WCrEeZOx"
      },
      "outputs": [],
      "source": [
        ""
      ]
    },
    {
      "cell_type": "code",
      "execution_count": null,
      "metadata": {
        "id": "V7tJ15DmeZOx"
      },
      "outputs": [],
      "source": [
        ""
      ]
    },
    {
      "cell_type": "code",
      "execution_count": null,
      "metadata": {
        "id": "gXUiilKjeZOy"
      },
      "outputs": [],
      "source": [
        ""
      ]
    },
    {
      "cell_type": "code",
      "execution_count": null,
      "metadata": {
        "id": "dT4r-4XreZOy"
      },
      "outputs": [],
      "source": [
        ""
      ]
    },
    {
      "cell_type": "code",
      "execution_count": null,
      "metadata": {
        "id": "tGlj-3gFeZOy"
      },
      "outputs": [],
      "source": [
        ""
      ]
    },
    {
      "cell_type": "code",
      "execution_count": null,
      "metadata": {
        "id": "QbA8FYcZeZOy"
      },
      "outputs": [],
      "source": [
        ""
      ]
    },
    {
      "cell_type": "code",
      "execution_count": null,
      "metadata": {
        "id": "wp0FE971eZOy"
      },
      "outputs": [],
      "source": [
        ""
      ]
    },
    {
      "cell_type": "code",
      "execution_count": null,
      "metadata": {
        "id": "tffxKe0YeZOz"
      },
      "outputs": [],
      "source": [
        ""
      ]
    },
    {
      "cell_type": "code",
      "execution_count": null,
      "metadata": {
        "id": "3cTBMtPieZOz"
      },
      "outputs": [],
      "source": [
        ""
      ]
    },
    {
      "cell_type": "code",
      "execution_count": null,
      "metadata": {
        "id": "g7Bz5XrFeZOz"
      },
      "outputs": [],
      "source": [
        ""
      ]
    },
    {
      "cell_type": "code",
      "execution_count": null,
      "metadata": {
        "id": "IGsDwY9qeZOz"
      },
      "outputs": [],
      "source": [
        ""
      ]
    },
    {
      "cell_type": "code",
      "execution_count": null,
      "metadata": {
        "id": "GvI35Ma3eZOz"
      },
      "outputs": [],
      "source": [
        ""
      ]
    },
    {
      "cell_type": "code",
      "execution_count": null,
      "metadata": {
        "id": "_s3B9ADoeZO0"
      },
      "outputs": [],
      "source": [
        ""
      ]
    },
    {
      "cell_type": "code",
      "execution_count": null,
      "metadata": {
        "id": "oLy0rl_zeZO0"
      },
      "outputs": [],
      "source": [
        ""
      ]
    },
    {
      "cell_type": "code",
      "execution_count": null,
      "metadata": {
        "id": "dTbk2QMeeZO0"
      },
      "outputs": [],
      "source": [
        ""
      ]
    },
    {
      "cell_type": "code",
      "execution_count": null,
      "metadata": {
        "id": "1NOBNnjieZO0"
      },
      "outputs": [],
      "source": [
        ""
      ]
    },
    {
      "cell_type": "code",
      "execution_count": null,
      "metadata": {
        "id": "tS7ogEpveZO1"
      },
      "outputs": [],
      "source": [
        ""
      ]
    },
    {
      "cell_type": "code",
      "execution_count": null,
      "metadata": {
        "id": "FybB3qh3eZO1"
      },
      "outputs": [],
      "source": [
        ""
      ]
    },
    {
      "cell_type": "code",
      "execution_count": null,
      "metadata": {
        "id": "mPp5azHCeZO1"
      },
      "outputs": [],
      "source": [
        ""
      ]
    },
    {
      "cell_type": "code",
      "execution_count": null,
      "metadata": {
        "id": "F_im-1f6eZO1"
      },
      "outputs": [],
      "source": [
        ""
      ]
    },
    {
      "cell_type": "markdown",
      "metadata": {
        "id": "OyMhpdu9eZO1"
      },
      "source": [
        " Question 2 (20 points) Build a regession model to predict the change in price of the stock overtime. It can either be linear regression or non-linear regression. You can download the dataset from here: https://github.com/suthapalliuday/INFO5502-Summer2022/blob/main/datasets/portfolio_data.csv. The implementation of the LSTM on this same dataset was posted here as an reference: https://www.kaggle.com/code/faressayah/stock-market-analysis-prediction-using-lstm/notebook"
      ]
    },
    {
      "cell_type": "markdown",
      "metadata": {
        "id": "5n30-GSzeZO2"
      },
      "source": [
        " ### Your code"
      ]
    },
    {
      "cell_type": "code",
      "execution_count": 1,
      "metadata": {
        "colab": {
          "base_uri": "https://localhost:8080/"
        },
        "id": "rgYZH5TdeZO2",
        "outputId": "49a81b67-745a-4e81-c8fc-b0ec91e3768f"
      },
      "outputs": [
        {
          "output_type": "stream",
          "name": "stderr",
          "text": [
            "/usr/local/lib/python3.7/dist-packages/pandas/core/frame.py:4913: SettingWithCopyWarning: \n",
            "A value is trying to be set on a copy of a slice from a DataFrame\n",
            "\n",
            "See the caveats in the documentation: https://pandas.pydata.org/pandas-docs/stable/user_guide/indexing.html#returning-a-view-versus-a-copy\n",
            "  errors=errors,\n"
          ]
        },
        {
          "output_type": "execute_result",
          "data": {
            "text/plain": [
              "array([[0.        ],\n",
              "       [0.00241169],\n",
              "       [0.00548211],\n",
              "       [0.00418137],\n",
              "       [0.00530348],\n",
              "       [0.00583382],\n",
              "       [0.00666005],\n",
              "       [0.00859721],\n",
              "       [0.00908848],\n",
              "       [0.01122102]])"
            ]
          },
          "metadata": {},
          "execution_count": 1
        }
      ],
      "source": [
        "### You code here:\n",
        "import pandas as pd\n",
        "from sklearn.preprocessing import MinMaxScaler\n",
        "df= pd.read_csv('portfolio_data.csv')\n",
        "df\n",
        "\n",
        "amzn = df[['Date','AMZN']]\n",
        "\n",
        "amzn.index = amzn.Date\n",
        "amzn.drop('Date', axis=1, inplace=True)\n",
        "amzn\n",
        "\n",
        "scaler = MinMaxScaler(feature_range=(0, 1))\n",
        "scaled_data = scaler.fit_transform(amzn)\n",
        "scaled_data[:10]\n",
        "\n",
        "\n"
      ]
    },
    {
      "cell_type": "code",
      "execution_count": 2,
      "metadata": {
        "id": "VTJ2Lgr_eZO3"
      },
      "outputs": [],
      "source": [
        "train = amzn[0:1000]\n",
        "valid = amzn[1000:]\n",
        "valid\n",
        "\n",
        "Xtrain, ytrain = [], []\n",
        "for i in range(60, len(train)):\n",
        "    Xtrain.append(scaled_data[i-60: i, 0])\n",
        "    ytrain.append(scaled_data[i,0])\n",
        "    \n",
        "    pass"
      ]
    },
    {
      "cell_type": "code",
      "execution_count": 3,
      "metadata": {
        "colab": {
          "base_uri": "https://localhost:8080/"
        },
        "id": "yhL3K25yeZO3",
        "outputId": "c0ea16b7-9388-415d-f4ea-3f95bec8e601"
      },
      "outputs": [
        {
          "output_type": "stream",
          "name": "stdout",
          "text": [
            "Epoch 1/20\n",
            "32/32 [==============================] - 6s 48ms/step - loss: 0.0068\n",
            "Epoch 2/20\n",
            "32/32 [==============================] - 2s 48ms/step - loss: 3.0387e-04\n",
            "Epoch 3/20\n",
            "32/32 [==============================] - 2s 49ms/step - loss: 2.3313e-04\n",
            "Epoch 4/20\n",
            "32/32 [==============================] - 2s 49ms/step - loss: 2.3237e-04\n",
            "Epoch 5/20\n",
            "32/32 [==============================] - 1s 47ms/step - loss: 2.2135e-04\n",
            "Epoch 6/20\n",
            "32/32 [==============================] - 2s 48ms/step - loss: 2.0574e-04\n",
            "Epoch 7/20\n",
            "32/32 [==============================] - 1s 47ms/step - loss: 2.0243e-04\n",
            "Epoch 8/20\n",
            "32/32 [==============================] - 2s 50ms/step - loss: 1.9287e-04\n",
            "Epoch 9/20\n",
            "32/32 [==============================] - 2s 47ms/step - loss: 1.9922e-04\n",
            "Epoch 10/20\n",
            "32/32 [==============================] - 2s 47ms/step - loss: 1.9267e-04\n",
            "Epoch 11/20\n",
            "32/32 [==============================] - 2s 49ms/step - loss: 1.7543e-04\n",
            "Epoch 12/20\n",
            "32/32 [==============================] - 2s 47ms/step - loss: 1.6564e-04\n",
            "Epoch 13/20\n",
            "32/32 [==============================] - 1s 47ms/step - loss: 1.6725e-04\n",
            "Epoch 14/20\n",
            "32/32 [==============================] - 1s 47ms/step - loss: 1.5305e-04\n",
            "Epoch 15/20\n",
            "32/32 [==============================] - 1s 46ms/step - loss: 1.4685e-04\n",
            "Epoch 16/20\n",
            "32/32 [==============================] - 2s 48ms/step - loss: 1.4844e-04\n",
            "Epoch 17/20\n",
            "32/32 [==============================] - 2s 50ms/step - loss: 1.3650e-04\n",
            "Epoch 18/20\n",
            "32/32 [==============================] - 2s 47ms/step - loss: 1.2893e-04\n",
            "Epoch 19/20\n",
            "32/32 [==============================] - 1s 47ms/step - loss: 1.2611e-04\n",
            "Epoch 20/20\n",
            "32/32 [==============================] - 1s 46ms/step - loss: 1.2379e-04\n"
          ]
        },
        {
          "output_type": "stream",
          "name": "stderr",
          "text": [
            "/usr/local/lib/python3.7/dist-packages/sklearn/base.py:451: UserWarning: X does not have valid feature names, but MinMaxScaler was fitted with feature names\n",
            "  \"X does not have valid feature names, but\"\n"
          ]
        }
      ],
      "source": [
        "\n",
        "import numpy as np\n",
        "import tensorflow as tf\n",
        "Xtrain, ytrain = np.array(Xtrain), np.array(ytrain)\n",
        "\n",
        "Xtrain = np.reshape(Xtrain, (Xtrain.shape[0], Xtrain.shape[1], 1))\n",
        "Xtrain.shape\n",
        "\n",
        "m = tf.keras.Sequential()\n",
        "m.add(tf.keras.layers.LSTM(units = 20, return_sequences = True, input_shape = (Xtrain.shape[1], 1)))\n",
        "m.add(tf.keras.layers.LSTM(units = 20))\n",
        "m.add(tf.keras.layers.Dense(1))\n",
        "m.compile(loss = 'mean_squared_error', optimizer = 'adam')\n",
        "history = m.fit(Xtrain, ytrain, epochs = 20, batch_size=30)\n",
        "\n",
        "testinputs = amzn[len(amzn) - len(valid) - 60:].values\n",
        "\n",
        "\n",
        "testinputs = testinputs.reshape(-1,1)\n",
        "testinputs  = scaler.transform(testinputs)\n",
        "\n",
        "\n",
        "Xtest = []\n",
        "for i in range(60, testinputs.shape[0]):\n",
        "    Xtest.append(testinputs[i-60:i, 0])\n",
        "Xtest = np.array(Xtest)\n",
        "\n",
        "\n",
        "\n"
      ]
    },
    {
      "cell_type": "code",
      "execution_count": null,
      "metadata": {
        "id": "xh6aNEUWeZO3",
        "outputId": "a152ee1e-228f-484f-f166-4a523712ad67"
      },
      "outputs": [
        {
          "data": {
            "text/plain": [
              "array([[0.3690557 ],\n",
              "       [0.36929125],\n",
              "       [0.36932   ],\n",
              "       [0.36954567],\n",
              "       [0.3698808 ],\n",
              "       [0.37032044],\n",
              "       [0.37114266],\n",
              "       [0.37240645],\n",
              "       [0.3747644 ],\n",
              "       [0.3776199 ],\n",
              "       [0.38038144],\n",
              "       [0.38276738],\n",
              "       [0.38462272],\n",
              "       [0.38658357],\n",
              "       [0.3886197 ],\n",
              "       [0.39041165],\n",
              "       [0.3918682 ],\n",
              "       [0.39353254],\n",
              "       [0.395079  ],\n",
              "       [0.39674947],\n",
              "       [0.397557  ],\n",
              "       [0.39827588],\n",
              "       [0.39892927],\n",
              "       [0.39990208],\n",
              "       [0.40103793],\n",
              "       [0.4025341 ],\n",
              "       [0.40465772],\n",
              "       [0.4071307 ],\n",
              "       [0.40969613],\n",
              "       [0.4120673 ],\n",
              "       [0.4142025 ],\n",
              "       [0.41645214],\n",
              "       [0.41879395],\n",
              "       [0.42070866],\n",
              "       [0.42248365],\n",
              "       [0.42404684],\n",
              "       [0.42412588],\n",
              "       [0.42271537],\n",
              "       [0.4210342 ],\n",
              "       [0.419101  ],\n",
              "       [0.41664   ],\n",
              "       [0.41489455],\n",
              "       [0.41399834],\n",
              "       [0.41360113],\n",
              "       [0.41392204],\n",
              "       [0.41465044],\n",
              "       [0.4156918 ],\n",
              "       [0.41649553],\n",
              "       [0.4164361 ],\n",
              "       [0.41635022],\n",
              "       [0.41569608],\n",
              "       [0.4144117 ],\n",
              "       [0.41225064],\n",
              "       [0.4103476 ],\n",
              "       [0.40848795],\n",
              "       [0.4073008 ],\n",
              "       [0.40730664],\n",
              "       [0.407993  ],\n",
              "       [0.40955788],\n",
              "       [0.41136917],\n",
              "       [0.413277  ],\n",
              "       [0.41544768],\n",
              "       [0.41820565],\n",
              "       [0.42125687],\n",
              "       [0.42436972],\n",
              "       [0.42720225],\n",
              "       [0.4301776 ],\n",
              "       [0.4330789 ],\n",
              "       [0.4362313 ],\n",
              "       [0.43906692],\n",
              "       [0.44050413],\n",
              "       [0.4396948 ],\n",
              "       [0.43780145],\n",
              "       [0.43529987],\n",
              "       [0.43220153],\n",
              "       [0.4289278 ],\n",
              "       [0.4259201 ],\n",
              "       [0.42317492],\n",
              "       [0.4204712 ],\n",
              "       [0.41700393],\n",
              "       [0.4137031 ],\n",
              "       [0.41131714],\n",
              "       [0.40965757],\n",
              "       [0.40840787],\n",
              "       [0.4068389 ],\n",
              "       [0.40510198],\n",
              "       [0.40318432],\n",
              "       [0.40181214],\n",
              "       [0.4005476 ],\n",
              "       [0.39923373],\n",
              "       [0.39771006],\n",
              "       [0.39619294],\n",
              "       [0.3951002 ],\n",
              "       [0.39488378],\n",
              "       [0.3957577 ],\n",
              "       [0.39719912],\n",
              "       [0.3984276 ],\n",
              "       [0.3995521 ],\n",
              "       [0.4009975 ],\n",
              "       [0.40203908],\n",
              "       [0.40322414],\n",
              "       [0.404605  ],\n",
              "       [0.40667877],\n",
              "       [0.40877864],\n",
              "       [0.4105511 ],\n",
              "       [0.41151187],\n",
              "       [0.4117184 ],\n",
              "       [0.41154885],\n",
              "       [0.41080883],\n",
              "       [0.4093723 ],\n",
              "       [0.40698203],\n",
              "       [0.40407977],\n",
              "       [0.40150148],\n",
              "       [0.39950418],\n",
              "       [0.3981981 ],\n",
              "       [0.39734   ],\n",
              "       [0.39675137],\n",
              "       [0.39670455],\n",
              "       [0.39761084],\n",
              "       [0.39941588],\n",
              "       [0.40174583],\n",
              "       [0.4041265 ],\n",
              "       [0.40669456],\n",
              "       [0.4094501 ],\n",
              "       [0.41222665],\n",
              "       [0.41496673],\n",
              "       [0.41760978],\n",
              "       [0.41954586],\n",
              "       [0.4204938 ],\n",
              "       [0.4205919 ],\n",
              "       [0.41948316],\n",
              "       [0.41802582],\n",
              "       [0.4163068 ],\n",
              "       [0.41449818],\n",
              "       [0.41768607],\n",
              "       [0.42424408],\n",
              "       [0.4323305 ],\n",
              "       [0.440823  ],\n",
              "       [0.4486687 ],\n",
              "       [0.45625153],\n",
              "       [0.46350458],\n",
              "       [0.47014523],\n",
              "       [0.47630042],\n",
              "       [0.48156324],\n",
              "       [0.4857253 ],\n",
              "       [0.489012  ],\n",
              "       [0.49176905],\n",
              "       [0.49357203],\n",
              "       [0.4950039 ],\n",
              "       [0.49577758],\n",
              "       [0.49590072],\n",
              "       [0.49606276],\n",
              "       [0.49683806],\n",
              "       [0.49905866],\n",
              "       [0.502406  ],\n",
              "       [0.50614876],\n",
              "       [0.5086545 ],\n",
              "       [0.5107722 ],\n",
              "       [0.5119355 ],\n",
              "       [0.51130724],\n",
              "       [0.5098366 ],\n",
              "       [0.5083057 ],\n",
              "       [0.50709325],\n",
              "       [0.50622714],\n",
              "       [0.50588745],\n",
              "       [0.50575125],\n",
              "       [0.50571173],\n",
              "       [0.50611717],\n",
              "       [0.5069626 ],\n",
              "       [0.50846547],\n",
              "       [0.5101679 ],\n",
              "       [0.5115149 ],\n",
              "       [0.5124358 ],\n",
              "       [0.5127768 ],\n",
              "       [0.5130359 ],\n",
              "       [0.513426  ],\n",
              "       [0.51401144],\n",
              "       [0.51404625],\n",
              "       [0.51446056],\n",
              "       [0.51565987],\n",
              "       [0.51748055],\n",
              "       [0.5203137 ],\n",
              "       [0.5242742 ],\n",
              "       [0.5289109 ],\n",
              "       [0.53373104],\n",
              "       [0.53918344],\n",
              "       [0.54573786],\n",
              "       [0.5525338 ],\n",
              "       [0.55864507],\n",
              "       [0.5638276 ],\n",
              "       [0.568091  ],\n",
              "       [0.57266754],\n",
              "       [0.57840836],\n",
              "       [0.58428085],\n",
              "       [0.59055835],\n",
              "       [0.59752274],\n",
              "       [0.60498893],\n",
              "       [0.61296445],\n",
              "       [0.6211569 ],\n",
              "       [0.62666756],\n",
              "       [0.6314967 ],\n",
              "       [0.63406163],\n",
              "       [0.6368632 ],\n",
              "       [0.6386215 ],\n",
              "       [0.63711935],\n",
              "       [0.63317895],\n",
              "       [0.62959284],\n",
              "       [0.62744933],\n",
              "       [0.6276496 ],\n",
              "       [0.6296852 ],\n",
              "       [0.6322574 ],\n",
              "       [0.6356947 ],\n",
              "       [0.63996834],\n",
              "       [0.6445607 ],\n",
              "       [0.6495572 ],\n",
              "       [0.6552426 ],\n",
              "       [0.6606054 ],\n",
              "       [0.6653903 ],\n",
              "       [0.6687823 ],\n",
              "       [0.6712677 ],\n",
              "       [0.67380464],\n",
              "       [0.67666095],\n",
              "       [0.679746  ],\n",
              "       [0.6829707 ],\n",
              "       [0.68698055],\n",
              "       [0.69186556],\n",
              "       [0.69657975],\n",
              "       [0.7009261 ],\n",
              "       [0.7044075 ],\n",
              "       [0.7066946 ],\n",
              "       [0.7070964 ],\n",
              "       [0.70767945],\n",
              "       [0.7081391 ],\n",
              "       [0.7071559 ],\n",
              "       [0.70355713],\n",
              "       [0.70061356],\n",
              "       [0.6962023 ],\n",
              "       [0.688798  ],\n",
              "       [0.68052274],\n",
              "       [0.6695486 ],\n",
              "       [0.6582772 ],\n",
              "       [0.6482361 ],\n",
              "       [0.64113873],\n",
              "       [0.63474584],\n",
              "       [0.6292944 ],\n",
              "       [0.625954  ],\n",
              "       [0.6239111 ],\n",
              "       [0.62366354],\n",
              "       [0.62400156],\n",
              "       [0.625133  ],\n",
              "       [0.62899786],\n",
              "       [0.63525516],\n",
              "       [0.6436874 ],\n",
              "       [0.65192026],\n",
              "       [0.6591504 ],\n",
              "       [0.6632195 ],\n",
              "       [0.665005  ],\n",
              "       [0.66727024],\n",
              "       [0.67160565],\n",
              "       [0.67670166],\n",
              "       [0.6824711 ],\n",
              "       [0.6878124 ],\n",
              "       [0.69257545],\n",
              "       [0.69693106],\n",
              "       [0.7013679 ],\n",
              "       [0.70524645],\n",
              "       [0.7090062 ],\n",
              "       [0.7124322 ],\n",
              "       [0.7151549 ],\n",
              "       [0.7171549 ],\n",
              "       [0.7176381 ],\n",
              "       [0.7174668 ],\n",
              "       [0.7166613 ],\n",
              "       [0.71520835],\n",
              "       [0.7137895 ],\n",
              "       [0.71231663],\n",
              "       [0.7115887 ],\n",
              "       [0.71140546],\n",
              "       [0.71180636],\n",
              "       [0.712634  ],\n",
              "       [0.7140818 ],\n",
              "       [0.71598196],\n",
              "       [0.7184425 ],\n",
              "       [0.72189873],\n",
              "       [0.7268038 ],\n",
              "       [0.7322601 ],\n",
              "       [0.73745745],\n",
              "       [0.7419418 ],\n",
              "       [0.7458244 ],\n",
              "       [0.7493631 ],\n",
              "       [0.7526188 ],\n",
              "       [0.75607693],\n",
              "       [0.7591278 ],\n",
              "       [0.76193446],\n",
              "       [0.76472723],\n",
              "       [0.7677923 ],\n",
              "       [0.77012295],\n",
              "       [0.77130604],\n",
              "       [0.7699005 ],\n",
              "       [0.7678425 ],\n",
              "       [0.7644635 ],\n",
              "       [0.76180273],\n",
              "       [0.7597016 ],\n",
              "       [0.75853497],\n",
              "       [0.7573641 ],\n",
              "       [0.75645053],\n",
              "       [0.7561278 ],\n",
              "       [0.7571481 ],\n",
              "       [0.7590862 ],\n",
              "       [0.76186687],\n",
              "       [0.7663698 ],\n",
              "       [0.77219456],\n",
              "       [0.7787535 ],\n",
              "       [0.7860132 ],\n",
              "       [0.79317003],\n",
              "       [0.7987793 ],\n",
              "       [0.80302405],\n",
              "       [0.80571544],\n",
              "       [0.80808085],\n",
              "       [0.8111431 ],\n",
              "       [0.8126047 ],\n",
              "       [0.81319547],\n",
              "       [0.811944  ],\n",
              "       [0.809508  ],\n",
              "       [0.80709267],\n",
              "       [0.80601746],\n",
              "       [0.805476  ],\n",
              "       [0.80606025],\n",
              "       [0.8077743 ],\n",
              "       [0.8108331 ],\n",
              "       [0.81489897],\n",
              "       [0.8189194 ],\n",
              "       [0.82293296],\n",
              "       [0.8273947 ],\n",
              "       [0.83065534],\n",
              "       [0.8330273 ],\n",
              "       [0.8345283 ],\n",
              "       [0.8351771 ],\n",
              "       [0.83542556],\n",
              "       [0.8360489 ],\n",
              "       [0.83677524],\n",
              "       [0.8375616 ],\n",
              "       [0.8390022 ],\n",
              "       [0.84089553],\n",
              "       [0.84493303],\n",
              "       [0.85015446],\n",
              "       [0.85603356],\n",
              "       [0.86270624],\n",
              "       [0.86804307],\n",
              "       [0.8710304 ],\n",
              "       [0.87212455],\n",
              "       [0.87153196],\n",
              "       [0.87133616],\n",
              "       [0.87145764],\n",
              "       [0.8717133 ],\n",
              "       [0.8714055 ],\n",
              "       [0.8688486 ],\n",
              "       [0.8660199 ],\n",
              "       [0.8627657 ],\n",
              "       [0.85997826],\n",
              "       [0.8567708 ],\n",
              "       [0.854089  ],\n",
              "       [0.8531566 ],\n",
              "       [0.85340124],\n",
              "       [0.8555221 ],\n",
              "       [0.8583892 ],\n",
              "       [0.8615666 ],\n",
              "       [0.863737  ],\n",
              "       [0.86456615],\n",
              "       [0.86318904],\n",
              "       [0.8599053 ],\n",
              "       [0.85486543],\n",
              "       [0.84922796],\n",
              "       [0.84000427],\n",
              "       [0.8279485 ],\n",
              "       [0.81711143],\n",
              "       [0.8069098 ],\n",
              "       [0.79968303],\n",
              "       [0.79525536],\n",
              "       [0.7909768 ],\n",
              "       [0.7869106 ],\n",
              "       [0.78414875],\n",
              "       [0.781804  ],\n",
              "       [0.7765267 ],\n",
              "       [0.77365226],\n",
              "       [0.7680151 ],\n",
              "       [0.75753206],\n",
              "       [0.7444154 ],\n",
              "       [0.73283476],\n",
              "       [0.7253468 ],\n",
              "       [0.72101384],\n",
              "       [0.7177531 ],\n",
              "       [0.7159807 ],\n",
              "       [0.71918947],\n",
              "       [0.7254062 ],\n",
              "       [0.7317304 ],\n",
              "       [0.7352131 ],\n",
              "       [0.73652357],\n",
              "       [0.7353322 ],\n",
              "       [0.73334986],\n",
              "       [0.73013145],\n",
              "       [0.7235589 ],\n",
              "       [0.714704  ],\n",
              "       [0.7057358 ],\n",
              "       [0.69679004],\n",
              "       [0.6912361 ],\n",
              "       [0.6882514 ],\n",
              "       [0.6904764 ],\n",
              "       [0.6957679 ],\n",
              "       [0.7032507 ],\n",
              "       [0.71446544],\n",
              "       [0.7237913 ],\n",
              "       [0.7323337 ],\n",
              "       [0.7374637 ],\n",
              "       [0.74047524],\n",
              "       [0.7420122 ],\n",
              "       [0.74316907],\n",
              "       [0.7437981 ],\n",
              "       [0.74175036],\n",
              "       [0.73566777],\n",
              "       [0.72844476],\n",
              "       [0.7190037 ],\n",
              "       [0.7075414 ],\n",
              "       [0.6925953 ],\n",
              "       [0.67519575],\n",
              "       [0.6619089 ],\n",
              "       [0.65182334],\n",
              "       [0.64506286],\n",
              "       [0.64179665],\n",
              "       [0.64237875],\n",
              "       [0.644077  ],\n",
              "       [0.6491175 ],\n",
              "       [0.65794307],\n",
              "       [0.669582  ],\n",
              "       [0.6823607 ],\n",
              "       [0.6949179 ],\n",
              "       [0.70596355],\n",
              "       [0.71450216],\n",
              "       [0.722832  ],\n",
              "       [0.73075324],\n",
              "       [0.7381436 ],\n",
              "       [0.7447406 ],\n",
              "       [0.7481552 ],\n",
              "       [0.74952227],\n",
              "       [0.74995035],\n",
              "       [0.7502164 ],\n",
              "       [0.74918586],\n",
              "       [0.7458397 ],\n",
              "       [0.7438033 ],\n",
              "       [0.7443351 ],\n",
              "       [0.7432763 ],\n",
              "       [0.7414734 ],\n",
              "       [0.7401793 ],\n",
              "       [0.7386468 ],\n",
              "       [0.7361627 ],\n",
              "       [0.7323362 ],\n",
              "       [0.72800046],\n",
              "       [0.7252405 ],\n",
              "       [0.7237368 ],\n",
              "       [0.72253484],\n",
              "       [0.72111017],\n",
              "       [0.72032887],\n",
              "       [0.7198406 ],\n",
              "       [0.7194913 ],\n",
              "       [0.71968555],\n",
              "       [0.72027737],\n",
              "       [0.7212102 ],\n",
              "       [0.72246987],\n",
              "       [0.72381955],\n",
              "       [0.72623265],\n",
              "       [0.7299965 ],\n",
              "       [0.73423344],\n",
              "       [0.7376837 ],\n",
              "       [0.7389398 ],\n",
              "       [0.7385375 ],\n",
              "       [0.7387983 ],\n",
              "       [0.7395335 ],\n",
              "       [0.74109334],\n",
              "       [0.74289995],\n",
              "       [0.74560505],\n",
              "       [0.749686  ],\n",
              "       [0.755001  ],\n",
              "       [0.76188976],\n",
              "       [0.7700042 ],\n",
              "       [0.77651507],\n",
              "       [0.78184444],\n",
              "       [0.7863558 ],\n",
              "       [0.78941196],\n",
              "       [0.791545  ],\n",
              "       [0.7931451 ],\n",
              "       [0.79533863],\n",
              "       [0.7977024 ],\n",
              "       [0.8001761 ],\n",
              "       [0.8024478 ],\n",
              "       [0.80498844],\n",
              "       [0.8078925 ],\n",
              "       [0.8103365 ],\n",
              "       [0.81265014],\n",
              "       [0.8145882 ],\n",
              "       [0.8160867 ],\n",
              "       [0.81722957],\n",
              "       [0.8186147 ],\n",
              "       [0.82008356],\n",
              "       [0.82136977],\n",
              "       [0.82323384],\n",
              "       [0.8264582 ],\n",
              "       [0.8295972 ],\n",
              "       [0.832445  ],\n",
              "       [0.83640426],\n",
              "       [0.8403906 ],\n",
              "       [0.84370875],\n",
              "       [0.84588724],\n",
              "       [0.846839  ],\n",
              "       [0.84883016],\n",
              "       [0.85094845],\n",
              "       [0.85204047],\n",
              "       [0.85227925],\n",
              "       [0.8513898 ],\n",
              "       [0.8495138 ],\n",
              "       [0.84502643]], dtype=float32)"
            ]
          },
          "execution_count": 10,
          "metadata": {},
          "output_type": "execute_result"
        }
      ],
      "source": [
        "cp = model.predict(Xtest)\n",
        "\n",
        "cp"
      ]
    }
  ],
  "metadata": {
    "kernelspec": {
      "display_name": "Python 3 (ipykernel)",
      "language": "python",
      "name": "python3"
    },
    "language_info": {
      "codemirror_mode": {
        "name": "ipython",
        "version": 3
      },
      "file_extension": ".py",
      "mimetype": "text/x-python",
      "name": "python",
      "nbconvert_exporter": "python",
      "pygments_lexer": "ipython3",
      "version": "3.9.7"
    },
    "vscode": {
      "interpreter": {
        "hash": "dd37f303b28a14b3b4c801182e6f739ba25e8c678ecf5ed4c923fcad445c310c"
      }
    },
    "colab": {
      "name": "lab_assignment_06_syamini.ipynb",
      "provenance": [],
      "collapsed_sections": []
    }
  },
  "nbformat": 4,
  "nbformat_minor": 0
}