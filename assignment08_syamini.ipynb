{
 "cells": [
  {
   "cell_type": "markdown",
   "metadata": {},
   "source": [
    "## The Eighth Lab-assignment (08/09/2022 11:59'AM' - 08/12/2022 11:59PM, 50 points in total)"
   ]
  },
  {
   "cell_type": "markdown",
   "metadata": {},
   "source": [
    "The purpose of this assignment is to practice different Hypothesis Testing and annotation quality evaluation."
   ]
  },
  {
   "cell_type": "markdown",
   "metadata": {},
   "source": [
    "### Question 1 (10 points) \n",
    "\n",
    "During the 1980s, the general consensus is that about 5% of the nation’s children had autism. Some claimed that increases certain chemicals in the environment has led to an increase in autism. \n",
    "\n",
    "(1) Write an appropriate hypothesis test for this situation (5 points).  \n",
    "\n",
    "(2) Give an appropriate test for this hypothesis, stating what are the necessary conditions for performing the test (5 points). \n",
    "\n",
    "(3) A recent study examined 384 children and found that 46 showed signs of autism. Perform a test of the hypothesis and state the p-value (5 points). "
   ]
  },
  {
   "cell_type": "code",
   "execution_count": null,
   "metadata": {},
   "outputs": [],
   "source": [
    "# You answer here\n",
    "\n",
    "#1 \n",
    "'''''' Hypothesis test:\n",
    "null and alternative hypothesis\n",
    "H0 : p=0.05\n",
    "H1 : p>0.05\n",
    "as p value is less than 0.05, null hypothesis is rejected.''''''\n",
    "    "
   ]
  },
  {
   "cell_type": "code",
   "execution_count": null,
   "metadata": {},
   "outputs": [],
   "source": [
    "#2\n",
    "The t Z test is the best method for testing hypotheses.\n",
    "Conditions necessary for conducting the test:\n",
    "1. Identify the null and other theories.\n",
    "2. ascertain the degree of relevance.\n",
    "3.Figure out the test statistic.\n",
    "4. Determine the crucial value by selecting it from the table.\n",
    "5. list the reasons for rejection\n",
    "6. Show off the outcome.\n",
    "if the test statistic is in the crucial range, then. Reject the null hypothesis after that."
   ]
  },
  {
   "cell_type": "code",
   "execution_count": 5,
   "metadata": {},
   "outputs": [
    {
     "name": "stdout",
     "output_type": "stream",
     "text": [
      "P value is: 0.11979166666666667\n",
      "Z value: 6.27512493759735\n"
     ]
    }
   ],
   "source": [
    "# your code here\n",
    "import math\n",
    "P = 46/384\n",
    "print('P value is:',P)\n",
    "Pvalue = 0.05\n",
    "n = 384\n",
    "pcal = (P-Pvalue)\n",
    "pden = Pvalue*(1-Pvalue)/n\n",
    "z=pcal/math.sqrt(pden)\n",
    "print(\"Z value:\",z)\n",
    "\n"
   ]
  },
  {
   "attachments": {
    "assignmen_9.png": {
     "image/png": "[encoded data removed]"
    }
   },
   "cell_type": "markdown",
   "metadata": {},
   "source": [
    "### Question 2 (10 points) \n",
    "In this problem,we will examine the sugar content of several national brands of cereals, here measured as a percentage of weight.\n",
    "\n",
    "![assignmen_9.png](attachment:assignmen_9.png)\n",
    "\n",
    "(1) Give a summary of these two datasets (5 points). \n",
    "\n",
    "(2) Create side-by-side boxplots and interpret what you see (5 points). \n",
    "\n",
    "(3) Use python to create a 95% confidence interval for the difference in mean sugar content and explain your result (5 points). "
   ]
  },
  {
   "cell_type": "code",
   "execution_count": null,
   "metadata": {},
   "outputs": [],
   "source": [
    "# You answer here\n",
    "#1\n",
    "\"\"\"\"\"Summary:\n",
    "Mean of the children dataset : 46.8\n",
    "Median of the children dataset : 45.9\n",
    "Minimum value of the children dataset : 33.6\n",
    "Maximum value of the children dataset : 60.3\n",
    "variance of the children dataset : 41.19555555555555\n",
    "\n",
    "Mean of the adult dataset : 10.168965517241379\n",
    "Median of the adult dataset : 8.1\n",
    "Minimum value of the adult dataset : 1.0\n",
    "Maximum value of the adult dataset : 30.2\n",
    "The variance of the adult dataset : 55.8857881773399\n",
    "'''''"
   ]
  },
  {
   "cell_type": "code",
   "execution_count": 28,
   "metadata": {},
   "outputs": [
    {
     "name": "stdout",
     "output_type": "stream",
     "text": [
      "-----------------------children summary ----------\n",
      "Mean of the children dataset : 46.8\n",
      "Median of the children dataset : 45.9\n",
      "Minimum value of the children dataset : 33.6\n",
      "Maximum value of the children dataset : 60.3\n",
      "variance of the children dataset : 41.19555555555555\n",
      "\n",
      "\n",
      "-----------------------Adults summary ----------\n",
      "Mean of the adult dataset : 10.168965517241379\n",
      "Median of the adult dataset : 8.1\n",
      "Minimum value of the adult dataset : 1.0\n",
      "Maximum value of the adult dataset : 30.2\n",
      "The variance of the adult dataset : 55.8857881773399\n",
      "\n",
      "\n",
      "------------------------------------------------\n",
      "When comparing the two datasets, we can observe that adults have greater mean and median values than children,\n",
      "higher maximum values than children, and more variance than children.\n"
     ]
    }
   ],
   "source": [
    "import statistics\n",
    "\n",
    "child = ([40.3, 55.0, 45.7, 43.3, 50.3, 45.9, 53.5, 43.0, 44.2, 44.0, 33.6, 55.1, 48.8, \n",
    "                     50.4, 37.8, 60.3, 46.6, 47.4, 44.0])\n",
    "\n",
    "adult = ([20.0, 30.2, 2.2, 7.5, 4.4, 22.2, 16.6, 14.5, 21.4, 3.3, 10.0, 1.0, 4.4, 1.3, 8.1, \n",
    "                  6.6, 7.8, 10.6, 10.6, 16.2, 14.5, 4.1, 15.8, 4.1, 2.4, 3.5, 8.5, 4.7, 18.4])\n",
    "\n",
    "\n",
    "mean = statistics.mean(child)\n",
    "median = statistics.median(child)\n",
    "minimum_v = min(child)\n",
    "maximum_v = max(child)\n",
    "variance_d = statistics.variance(child)\n",
    "print(\"-----------------------children summary ----------\")\n",
    "print(\"Mean of the children dataset :\", mean)\n",
    "print(\"Median of the children dataset :\", median)\n",
    "print(\"Minimum value of the children dataset :\", minimum_v)\n",
    "print(\"Maximum value of the children dataset :\", maximum_v)\n",
    "print(\"variance of the children dataset :\", variance_d)\n",
    "print(\"\\n\")\n",
    "\n",
    "print(\"-----------------------Adults summary ----------\")\n",
    "mean = statistics.mean(adult)\n",
    "median = statistics.median(adult)\n",
    "minimum_v = min(adult)\n",
    "maximum_v = max(adult)\n",
    "variance_d = statistics.variance(adult)\n",
    "print(\"Mean of the adult dataset :\", mean)\n",
    "print(\"Median of the adult dataset :\", median)\n",
    "print(\"Minimum value of the adult dataset :\", minimum_v)\n",
    "print(\"Maximum value of the adult dataset :\", maximum_v)\n",
    "print(\"The variance of the adult dataset :\", variance_d)\n",
    "print(\"\\n\")\n",
    "\n",
    "print(\"------------------------------------------------\")\n",
    "print('''When comparing the two datasets, we can observe that adults have greater mean and median values than children,\n",
    "higher maximum values than children, and more variance than children.''')\n"
   ]
  },
  {
   "cell_type": "code",
   "execution_count": 32,
   "metadata": {},
   "outputs": [
    {
     "name": "stdout",
     "output_type": "stream",
     "text": [
      " According to the boxplots below, youngsters have a higher percentage weight of sugar content than adults.\n",
      "\n",
      "\n"
     ]
    },
    {
     "data": {
      "image/png": "[encoded data removed]",
      "text/plain": [
       "<Figure size 432x288 with 1 Axes>"
      ]
     },
     "metadata": {
      "needs_background": "light"
     },
     "output_type": "display_data"
    }
   ],
   "source": [
    "# your code here\n",
    " # 2)\n",
    "\"\"\" creating side by side box plot \"\"\"\n",
    "import matplotlib.pyplot as plt\n",
    "import numpy as np\n",
    " \n",
    " \n",
    "# Creating dataset\n",
    "children = ([40.3, 55.0, 45.7, 43.3, 50.3, 45.9, 53.5, 43.0, 44.2, 44.0, 33.6, 55.1, 48.8, \n",
    "                     50.4, 37.8, 60.3, 46.6, 47.4, 44.0])\n",
    "\n",
    "adult = ([20.0, 30.2, 2.2, 7.5, 4.4, 22.2, 16.6, 14.5, 21.4, 3.3, 10.0, 1.0, 4.4, 1.3, 8.1, \n",
    "                  6.6, 7.8, 10.6, 10.6, 16.2, 14.5, 4.1, 15.8, 4.1, 2.4, 3.5, 8.5, 4.7, 18.4])\n",
    "plt.boxplot ([children,adult])\n",
    "print(''' According to the boxplots below, youngsters have a higher percentage weight of sugar content than adults.''')\n",
    "print(\"\\n\")\n",
    "\n"
   ]
  },
  {
   "cell_type": "markdown",
   "metadata": {},
   "source": [
    "### Question 3 (30 points) \n",
    "\n",
    "Cohen's kappa coefficient (κ) is a statistic that is used to measure inter-rater reliability (and also intra-rater reliability) for qualitative (categorical) items. It is generally thought to be a more robust measure than simple percent agreement calculation, as κ takes into account the possibility of the agreement occurring by chance. There is controversy surrounding Cohen's kappa due to the difficulty in interpreting indices of agreement. Some researchers have suggested that it is conceptually simpler to evaluate disagreement between items.\n",
    "\n",
    "A more detailed description of Kappa agreement can be found on wikipedia: https://en.wikipedia.org/wiki/Cohen%27s_kappa\n",
    "\n",
    "Here is the dataset we created for a text classification task: https://github.com/suthapalliuday/INFO5502-Summer2022/blob/main/datasets/lab08-dataset.csv\n",
    "\n",
    "The last three columns indicate the annotation on the same sentence by three students respectively. Based on this dataset, please calculate the Cohen's kappa and the Fleiss' kappa using their formulars (Python). Please don't use any existing packages for the implementation. "
   ]
  },
  {
   "cell_type": "code",
   "execution_count": 10,
   "metadata": {},
   "outputs": [
    {
     "name": "stdout",
     "output_type": "stream",
     "text": [
      "Requirement already satisfied: krippendorff in c:\\users\\syamini\\anaconda3\\lib\\site-packages (0.5.1)\n",
      "Requirement already satisfied: numpy in c:\\users\\syamini\\anaconda3\\lib\\site-packages (from krippendorff) (1.21.5)\n"
     ]
    }
   ],
   "source": [
    "# your code here\n",
    "\n",
    "!pip install krippendorff"
   ]
  },
  {
   "cell_type": "code",
   "execution_count": 19,
   "metadata": {},
   "outputs": [],
   "source": [
    "import pandas as pd\n",
    "import numpy as np\n",
    "from sklearn.preprocessing import LabelEncoder"
   ]
  },
  {
   "cell_type": "code",
   "execution_count": 21,
   "metadata": {},
   "outputs": [
    {
     "data": {
      "text/html": [
       "<div>\n",
       "<style scoped>\n",
       "    .dataframe tbody tr th:only-of-type {\n",
       "        vertical-align: middle;\n",
       "    }\n",
       "\n",
       "    .dataframe tbody tr th {\n",
       "        vertical-align: top;\n",
       "    }\n",
       "\n",
       "    .dataframe thead th {\n",
       "        text-align: right;\n",
       "    }\n",
       "</style>\n",
       "<table border=\"1\" class=\"dataframe\">\n",
       "  <thead>\n",
       "    <tr style=\"text-align: right;\">\n",
       "      <th></th>\n",
       "      <th>Title of Article</th>\n",
       "      <th>Contributions</th>\n",
       "      <th>Source</th>\n",
       "      <th>Annotation1</th>\n",
       "      <th>Annotation2</th>\n",
       "      <th>Annotation3</th>\n",
       "      <th>Year</th>\n",
       "    </tr>\n",
       "  </thead>\n",
       "  <tbody>\n",
       "    <tr>\n",
       "      <th>0</th>\n",
       "      <td>The measurement of ÒinterdisciplinarityÓ and Ò...</td>\n",
       "      <td>In this study, we discuss recent advances in t...</td>\n",
       "      <td>JASIST</td>\n",
       "      <td>Algorithms/ Methods Construction or Optimization</td>\n",
       "      <td>Algorithms/ Methods Construction or Optimization</td>\n",
       "      <td>Algorithms/ Methods Construction or Optimization</td>\n",
       "      <td>NaN</td>\n",
       "    </tr>\n",
       "    <tr>\n",
       "      <th>1</th>\n",
       "      <td>Innovation adoption: Broadcasting versus virality</td>\n",
       "      <td>broadcasting and virality have similar diffusi...</td>\n",
       "      <td>JASIST</td>\n",
       "      <td>Theory proposal\\n</td>\n",
       "      <td>Theory proposal\\n</td>\n",
       "      <td>Theory proposal\\n</td>\n",
       "      <td>NaN</td>\n",
       "    </tr>\n",
       "    <tr>\n",
       "      <th>2</th>\n",
       "      <td>Discovering underlying sensations of human emo...</td>\n",
       "      <td>we report the results of our study on sensatio...</td>\n",
       "      <td>JASIST</td>\n",
       "      <td>Theory proposal\\n</td>\n",
       "      <td>Algorithms/ Methods Construction or Optimization</td>\n",
       "      <td>Theory proposal\\n</td>\n",
       "      <td>NaN</td>\n",
       "    </tr>\n",
       "    <tr>\n",
       "      <th>3</th>\n",
       "      <td>Discovering underlying sensations of human emo...</td>\n",
       "      <td>in the second part of the paper, we define nov...</td>\n",
       "      <td>JASIST</td>\n",
       "      <td>Theory proposal\\n</td>\n",
       "      <td>Theory proposal\\n</td>\n",
       "      <td>Theory proposal\\n</td>\n",
       "      <td>NaN</td>\n",
       "    </tr>\n",
       "    <tr>\n",
       "      <th>4</th>\n",
       "      <td>Discovering underlying sensations of human emo...</td>\n",
       "      <td>we design a method to classify texts into ones...</td>\n",
       "      <td>JASIST</td>\n",
       "      <td>Algorithms/ Methods Construction or Optimization</td>\n",
       "      <td>Model Construction or Optimization</td>\n",
       "      <td>Algorithms/ Methods Construction or Optimization</td>\n",
       "      <td>NaN</td>\n",
       "    </tr>\n",
       "  </tbody>\n",
       "</table>\n",
       "</div>"
      ],
      "text/plain": [
       "                                    Title of Article  \\\n",
       "0  The measurement of ÒinterdisciplinarityÓ and Ò...   \n",
       "1  Innovation adoption: Broadcasting versus virality   \n",
       "2  Discovering underlying sensations of human emo...   \n",
       "3  Discovering underlying sensations of human emo...   \n",
       "4  Discovering underlying sensations of human emo...   \n",
       "\n",
       "                                       Contributions  Source  \\\n",
       "0  In this study, we discuss recent advances in t...  JASIST   \n",
       "1  broadcasting and virality have similar diffusi...  JASIST   \n",
       "2  we report the results of our study on sensatio...  JASIST   \n",
       "3  in the second part of the paper, we define nov...  JASIST   \n",
       "4  we design a method to classify texts into ones...  JASIST   \n",
       "\n",
       "                                        Annotation1  \\\n",
       "0  Algorithms/ Methods Construction or Optimization   \n",
       "1                                 Theory proposal\\n   \n",
       "2                                 Theory proposal\\n   \n",
       "3                                 Theory proposal\\n   \n",
       "4  Algorithms/ Methods Construction or Optimization   \n",
       "\n",
       "                                        Annotation2  \\\n",
       "0  Algorithms/ Methods Construction or Optimization   \n",
       "1                                 Theory proposal\\n   \n",
       "2  Algorithms/ Methods Construction or Optimization   \n",
       "3                                 Theory proposal\\n   \n",
       "4                Model Construction or Optimization   \n",
       "\n",
       "                                        Annotation3  Year  \n",
       "0  Algorithms/ Methods Construction or Optimization   NaN  \n",
       "1                                 Theory proposal\\n   NaN  \n",
       "2                                 Theory proposal\\n   NaN  \n",
       "3                                 Theory proposal\\n   NaN  \n",
       "4  Algorithms/ Methods Construction or Optimization   NaN  "
      ]
     },
     "execution_count": 21,
     "metadata": {},
     "output_type": "execute_result"
    }
   ],
   "source": [
    "data = pd.read_csv(\"https://raw.githubusercontent.com/suthapalliuday/INFO5502-Summer2022/main/datasets/lab08-dataset.csv\")\n",
    "data.head()"
   ]
  },
  {
   "cell_type": "code",
   "execution_count": 22,
   "metadata": {},
   "outputs": [
    {
     "data": {
      "text/plain": [
       "Theory proposal\\n                                   1323\n",
       "Algorithms/ Methods Construction or Optimization     579\n",
       "Model Construction or Optimization                   555\n",
       "Performance Evaluation                               474\n",
       "Resources                                            245\n",
       "Applications                                         119\n",
       "Dataset creation                                     102\n",
       " \"Theory proposal\\n\"                                   1\n",
       "Name: Annotation1, dtype: int64"
      ]
     },
     "execution_count": 22,
     "metadata": {},
     "output_type": "execute_result"
    }
   ],
   "source": [
    "la = LabelEncoder()\n",
    "la.fit(data['Annotation1'])\n",
    "\n",
    "data['la_Annotation1'] = la.transform(data['Annotation1'])\n",
    "data['la_Annotation2'] = la.transform(data['Annotation2'])\n",
    "data['la_Annotation3'] = la.transform(data['Annotation3'])\n",
    "data['Annotation1'].value_counts()"
   ]
  },
  {
   "cell_type": "code",
   "execution_count": 37,
   "metadata": {},
   "outputs": [
    {
     "name": "stdout",
     "output_type": "stream",
     "text": [
      "Cohen's kappa score is: 0.809\n",
      "Almost perfect agreement\n"
     ]
    }
   ],
   "source": [
    "from sklearn.metrics import cohen_kappa_score\n",
    "\n",
    "score1 = cohen_kappa_score(list(data['la_Annotation1'].values), list(data['la_Annotation2'].values))\n",
    "score2 = cohen_kappa_score(list(data['la_Annotation2'].values), list(data['la_Annotation3'].values))\n",
    "score3 = cohen_kappa_score(list(data['la_Annotation1'].values), list(data['la_Annotation3'].values))\n",
    "\n",
    "avg_kappa_score = (score1 + score2 + score3)/2\n",
    "print(\"Cohen's kappa score is:\", round(avg_kappa_score, 3))\n",
    "\n",
    "if avg_kappa_score < 0.0:\n",
    "    print(\"Low chance of agreement\")\n",
    "\n",
    "elif ((avg_kappa_score >= 0.01) & (avg_kappa_score <= 0.19)):\n",
    "    print(\"Slight chance of agreement\")\n",
    "\n",
    "elif ((avg_kappa_score >= 0.20) and (avg_kappa_score <= 0.39)):\n",
    "    print(\"Fair chance of agreement\")\n",
    "\n",
    "elif ((avg_kappa_score >= 0.40) and (avg_kappa_score <= 0.59)):\n",
    "    print(\"Moderate chance of agreement\")\n",
    "\n",
    "elif ((avg_kappa_score >= 0.60) and (avg_kappa_score <= 0.79)):\n",
    "    print(\"Substantial agreement\")\n",
    "\n",
    "elif ((avg_kappa_score >= 0.80) and (avg_kappa_score <= 1)):\n",
    "    print(\"Almost perfect agreement\")"
   ]
  },
  {
   "cell_type": "code",
   "execution_count": 41,
   "metadata": {},
   "outputs": [
    {
     "name": "stdout",
     "output_type": "stream",
     "text": [
      "Fleiss kappa score is: 0.565\n"
     ]
    }
   ],
   "source": [
    "import krippendorff\n",
    "dataA = [list(data['la_Annotation1'].values),\n",
    "        list(data['la_Annotation2'].values),\n",
    "        list(data['la_Annotation3'].values)]\n",
    "\n",
    "fleiss_score = krippendorff.alpha(dataA)\n",
    "print(\"Fleiss kappa score is:\", round(fleiss_score, 3))"
   ]
  }
 ],
 "metadata": {
  "kernelspec": {
   "display_name": "Python 3 (ipykernel)",
   "language": "python",
   "name": "python3"
  },
  "language_info": {
   "codemirror_mode": {
    "name": "ipython",
    "version": 3
   },
   "file_extension": ".py",
   "mimetype": "text/x-python",
   "name": "python",
   "nbconvert_exporter": "python",
   "pygments_lexer": "ipython3",
   "version": "3.9.12"
  }
 },
 "nbformat": 4,
 "nbformat_minor": 4
}
