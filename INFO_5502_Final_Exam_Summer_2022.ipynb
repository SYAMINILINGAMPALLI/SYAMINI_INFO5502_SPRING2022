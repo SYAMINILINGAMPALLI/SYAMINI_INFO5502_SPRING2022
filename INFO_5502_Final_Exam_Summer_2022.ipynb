{
  "cells": [
    {
      "cell_type": "markdown",
      "metadata": {
        "id": "view-in-github",
        "colab_type": "text"
      },
      "source": [
        "<a href=\"https://colab.research.google.com/github/SYAMINILINGAMPALLI/SYAMINI_INFO5502_SPRING2022/blob/main/INFO_5502_Final_Exam_Summer_2022.ipynb\" target=\"_parent\"><img src=\"https://colab.research.google.com/assets/colab-badge.svg\" alt=\"Open In Colab\"/></a>"
      ]
    },
    {
      "cell_type": "markdown",
      "metadata": {
        "id": "Mgt0He0iJ_pX"
      },
      "source": [
        "### INFO 5502 Final Exam (05/12/2022, 500 points in total)"
      ]
    },
    {
      "cell_type": "markdown",
      "metadata": {
        "id": "ci6yKMeYJ_pa"
      },
      "source": [
        "<span style='background:yellow'>**Question 1 (100 pt).**</span> We want to create a birthday frequency graph using the data on births in the United States, provided by the Centers for Disease Control (CDC). You can download the data from my GitHub link:https://github.com/unt-iialab/info5502-spring2022/blob/main/datasets/births.csv \n",
        "\n",
        "Please visualize the data as the following figure using python (you can use any data visualization packages):\n",
        "\n",
        "![final-exam.png](attachment:final-exam.png)\n",
        "\n",
        "![title](https://github.com/suthapalliuday/Rough-Work/blob/main/SciBERT_cm.png)"
      ]
    },
    {
      "cell_type": "code",
      "execution_count": null,
      "metadata": {
        "id": "Z6ME5HhhJ_pc",
        "outputId": "04928256-fe3e-4170-d03d-8bfdb421d7cd"
      },
      "outputs": [
        {
          "name": "stdout",
          "output_type": "stream",
          "text": [
            "Requirement already satisfied: scikit-learn in c:\\users\\bharath\\anaconda3\\lib\\site-packages (1.0.2)\n",
            "Requirement already satisfied: threadpoolctl>=2.0.0 in c:\\users\\bharath\\anaconda3\\lib\\site-packages (from scikit-learn) (2.2.0)\n",
            "Requirement already satisfied: joblib>=0.11 in c:\\users\\bharath\\anaconda3\\lib\\site-packages (from scikit-learn) (1.1.0)\n",
            "Requirement already satisfied: scipy>=1.1.0 in c:\\users\\bharath\\anaconda3\\lib\\site-packages (from scikit-learn) (1.7.1)\n",
            "Requirement already satisfied: numpy>=1.14.6 in c:\\users\\bharath\\anaconda3\\lib\\site-packages (from scikit-learn) (1.20.3)\n"
          ]
        }
      ],
      "source": [
        "#### You code here\n",
        "import pandas as pd\n",
        "import numpy as np\n",
        "import seaborn as sb\n",
        "from matplotlib import pyplot as plt\n",
        "%matplotlib inline\n",
        "import matplotlib.pyplot as plt\n",
        "import matplotlib as mpl\n",
        "plt.style.use('seaborn-whitegrid')\n",
        "!pip install scikit-learn"
      ]
    },
    {
      "cell_type": "code",
      "execution_count": null,
      "metadata": {
        "id": "sS9XBQxNJ_pe",
        "outputId": "929dd1b3-cff0-4ff2-830d-7884a3199991"
      },
      "outputs": [
        {
          "data": {
            "text/html": [
              "<div>\n",
              "<style scoped>\n",
              "    .dataframe tbody tr th:only-of-type {\n",
              "        vertical-align: middle;\n",
              "    }\n",
              "\n",
              "    .dataframe tbody tr th {\n",
              "        vertical-align: top;\n",
              "    }\n",
              "\n",
              "    .dataframe thead th {\n",
              "        text-align: right;\n",
              "    }\n",
              "</style>\n",
              "<table border=\"1\" class=\"dataframe\">\n",
              "  <thead>\n",
              "    <tr style=\"text-align: right;\">\n",
              "      <th></th>\n",
              "      <th>year</th>\n",
              "      <th>month</th>\n",
              "      <th>day</th>\n",
              "      <th>gender</th>\n",
              "      <th>births</th>\n",
              "    </tr>\n",
              "  </thead>\n",
              "  <tbody>\n",
              "    <tr>\n",
              "      <th>0</th>\n",
              "      <td>1969</td>\n",
              "      <td>1</td>\n",
              "      <td>1.0</td>\n",
              "      <td>F</td>\n",
              "      <td>4046</td>\n",
              "    </tr>\n",
              "    <tr>\n",
              "      <th>1</th>\n",
              "      <td>1969</td>\n",
              "      <td>1</td>\n",
              "      <td>1.0</td>\n",
              "      <td>M</td>\n",
              "      <td>4440</td>\n",
              "    </tr>\n",
              "    <tr>\n",
              "      <th>2</th>\n",
              "      <td>1969</td>\n",
              "      <td>1</td>\n",
              "      <td>2.0</td>\n",
              "      <td>F</td>\n",
              "      <td>4454</td>\n",
              "    </tr>\n",
              "    <tr>\n",
              "      <th>3</th>\n",
              "      <td>1969</td>\n",
              "      <td>1</td>\n",
              "      <td>2.0</td>\n",
              "      <td>M</td>\n",
              "      <td>4548</td>\n",
              "    </tr>\n",
              "    <tr>\n",
              "      <th>4</th>\n",
              "      <td>1969</td>\n",
              "      <td>1</td>\n",
              "      <td>3.0</td>\n",
              "      <td>F</td>\n",
              "      <td>4548</td>\n",
              "    </tr>\n",
              "    <tr>\n",
              "      <th>...</th>\n",
              "      <td>...</td>\n",
              "      <td>...</td>\n",
              "      <td>...</td>\n",
              "      <td>...</td>\n",
              "      <td>...</td>\n",
              "    </tr>\n",
              "    <tr>\n",
              "      <th>15542</th>\n",
              "      <td>2008</td>\n",
              "      <td>10</td>\n",
              "      <td>NaN</td>\n",
              "      <td>M</td>\n",
              "      <td>183219</td>\n",
              "    </tr>\n",
              "    <tr>\n",
              "      <th>15543</th>\n",
              "      <td>2008</td>\n",
              "      <td>11</td>\n",
              "      <td>NaN</td>\n",
              "      <td>F</td>\n",
              "      <td>158939</td>\n",
              "    </tr>\n",
              "    <tr>\n",
              "      <th>15544</th>\n",
              "      <td>2008</td>\n",
              "      <td>11</td>\n",
              "      <td>NaN</td>\n",
              "      <td>M</td>\n",
              "      <td>165468</td>\n",
              "    </tr>\n",
              "    <tr>\n",
              "      <th>15545</th>\n",
              "      <td>2008</td>\n",
              "      <td>12</td>\n",
              "      <td>NaN</td>\n",
              "      <td>F</td>\n",
              "      <td>173215</td>\n",
              "    </tr>\n",
              "    <tr>\n",
              "      <th>15546</th>\n",
              "      <td>2008</td>\n",
              "      <td>12</td>\n",
              "      <td>NaN</td>\n",
              "      <td>M</td>\n",
              "      <td>181235</td>\n",
              "    </tr>\n",
              "  </tbody>\n",
              "</table>\n",
              "<p>15547 rows × 5 columns</p>\n",
              "</div>"
            ],
            "text/plain": [
              "       year  month  day gender  births\n",
              "0      1969      1  1.0      F    4046\n",
              "1      1969      1  1.0      M    4440\n",
              "2      1969      1  2.0      F    4454\n",
              "3      1969      1  2.0      M    4548\n",
              "4      1969      1  3.0      F    4548\n",
              "...     ...    ...  ...    ...     ...\n",
              "15542  2008     10  NaN      M  183219\n",
              "15543  2008     11  NaN      F  158939\n",
              "15544  2008     11  NaN      M  165468\n",
              "15545  2008     12  NaN      F  173215\n",
              "15546  2008     12  NaN      M  181235\n",
              "\n",
              "[15547 rows x 5 columns]"
            ]
          },
          "execution_count": 133,
          "metadata": {},
          "output_type": "execute_result"
        }
      ],
      "source": [
        "df = pd.read_csv(\"births.csv\")\n",
        "df"
      ]
    },
    {
      "cell_type": "code",
      "execution_count": null,
      "metadata": {
        "id": "9cDFoB8XJ_pe",
        "outputId": "994456df-8d7c-4114-8671-0f3c1aeeab66"
      },
      "outputs": [
        {
          "name": "stdout",
          "output_type": "stream",
          "text": [
            "<class 'pandas.core.frame.DataFrame'>\n",
            "RangeIndex: 15547 entries, 0 to 15546\n",
            "Data columns (total 5 columns):\n",
            " #   Column  Non-Null Count  Dtype  \n",
            "---  ------  --------------  -----  \n",
            " 0   year    15547 non-null  int64  \n",
            " 1   month   15547 non-null  int64  \n",
            " 2   day     15067 non-null  float64\n",
            " 3   gender  15547 non-null  object \n",
            " 4   births  15547 non-null  int64  \n",
            "dtypes: float64(1), int64(3), object(1)\n",
            "memory usage: 607.4+ KB\n"
          ]
        }
      ],
      "source": [
        "df.info()"
      ]
    },
    {
      "cell_type": "code",
      "execution_count": null,
      "metadata": {
        "id": "3MTP-vJXJ_pf",
        "outputId": "fcd4201c-ccb8-4793-f00a-07e8fa20f160"
      },
      "outputs": [
        {
          "data": {
            "text/plain": [
              "(15547, 5)"
            ]
          },
          "execution_count": 135,
          "metadata": {},
          "output_type": "execute_result"
        }
      ],
      "source": [
        "df.shape"
      ]
    },
    {
      "cell_type": "code",
      "execution_count": null,
      "metadata": {
        "id": "fNGAm3jRJ_pf",
        "outputId": "f1506f1a-8065-4b2c-acc8-bb0a6e58c42a"
      },
      "outputs": [
        {
          "data": {
            "text/html": [
              "<div>\n",
              "<style scoped>\n",
              "    .dataframe tbody tr th:only-of-type {\n",
              "        vertical-align: middle;\n",
              "    }\n",
              "\n",
              "    .dataframe tbody tr th {\n",
              "        vertical-align: top;\n",
              "    }\n",
              "\n",
              "    .dataframe thead th {\n",
              "        text-align: right;\n",
              "    }\n",
              "</style>\n",
              "<table border=\"1\" class=\"dataframe\">\n",
              "  <thead>\n",
              "    <tr style=\"text-align: right;\">\n",
              "      <th></th>\n",
              "      <th>year</th>\n",
              "      <th>month</th>\n",
              "      <th>day</th>\n",
              "      <th>births</th>\n",
              "    </tr>\n",
              "  </thead>\n",
              "  <tbody>\n",
              "    <tr>\n",
              "      <th>count</th>\n",
              "      <td>15547.000000</td>\n",
              "      <td>15547.000000</td>\n",
              "      <td>15067.000000</td>\n",
              "      <td>15547.000000</td>\n",
              "    </tr>\n",
              "    <tr>\n",
              "      <th>mean</th>\n",
              "      <td>1979.037435</td>\n",
              "      <td>6.515919</td>\n",
              "      <td>17.769894</td>\n",
              "      <td>9762.293561</td>\n",
              "    </tr>\n",
              "    <tr>\n",
              "      <th>std</th>\n",
              "      <td>6.728340</td>\n",
              "      <td>3.449632</td>\n",
              "      <td>15.284034</td>\n",
              "      <td>28552.465810</td>\n",
              "    </tr>\n",
              "    <tr>\n",
              "      <th>min</th>\n",
              "      <td>1969.000000</td>\n",
              "      <td>1.000000</td>\n",
              "      <td>1.000000</td>\n",
              "      <td>1.000000</td>\n",
              "    </tr>\n",
              "    <tr>\n",
              "      <th>25%</th>\n",
              "      <td>1974.000000</td>\n",
              "      <td>4.000000</td>\n",
              "      <td>8.000000</td>\n",
              "      <td>4358.000000</td>\n",
              "    </tr>\n",
              "    <tr>\n",
              "      <th>50%</th>\n",
              "      <td>1979.000000</td>\n",
              "      <td>7.000000</td>\n",
              "      <td>16.000000</td>\n",
              "      <td>4814.000000</td>\n",
              "    </tr>\n",
              "    <tr>\n",
              "      <th>75%</th>\n",
              "      <td>1984.000000</td>\n",
              "      <td>10.000000</td>\n",
              "      <td>24.000000</td>\n",
              "      <td>5289.500000</td>\n",
              "    </tr>\n",
              "    <tr>\n",
              "      <th>max</th>\n",
              "      <td>2008.000000</td>\n",
              "      <td>12.000000</td>\n",
              "      <td>99.000000</td>\n",
              "      <td>199622.000000</td>\n",
              "    </tr>\n",
              "  </tbody>\n",
              "</table>\n",
              "</div>"
            ],
            "text/plain": [
              "               year         month           day         births\n",
              "count  15547.000000  15547.000000  15067.000000   15547.000000\n",
              "mean    1979.037435      6.515919     17.769894    9762.293561\n",
              "std        6.728340      3.449632     15.284034   28552.465810\n",
              "min     1969.000000      1.000000      1.000000       1.000000\n",
              "25%     1974.000000      4.000000      8.000000    4358.000000\n",
              "50%     1979.000000      7.000000     16.000000    4814.000000\n",
              "75%     1984.000000     10.000000     24.000000    5289.500000\n",
              "max     2008.000000     12.000000     99.000000  199622.000000"
            ]
          },
          "execution_count": 136,
          "metadata": {},
          "output_type": "execute_result"
        }
      ],
      "source": [
        "df.describe()"
      ]
    },
    {
      "cell_type": "code",
      "execution_count": null,
      "metadata": {
        "id": "4iXrA5OGJ_pg",
        "outputId": "521eb592-8134-496b-9b44-1027a322bb33"
      },
      "outputs": [
        {
          "data": {
            "text/plain": [
              "Index(['year', 'month', 'day', 'gender', 'births'], dtype='object')"
            ]
          },
          "execution_count": 137,
          "metadata": {},
          "output_type": "execute_result"
        }
      ],
      "source": [
        "df.columns"
      ]
    },
    {
      "cell_type": "code",
      "execution_count": null,
      "metadata": {
        "id": "r0ecZ1LxJ_pg",
        "outputId": "edaf3dbe-b35e-45ab-9204-d07ece214a6f"
      },
      "outputs": [
        {
          "data": {
            "text/plain": [
              "(array([[1969, 1, 1.0, 'F'],\n",
              "        [1969, 1, 1.0, 'M'],\n",
              "        [1969, 1, 2.0, 'F'],\n",
              "        ...,\n",
              "        [2008, 11, nan, 'M'],\n",
              "        [2008, 12, nan, 'F'],\n",
              "        [2008, 12, nan, 'M']], dtype=object),\n",
              " array([  4046,   4440,   4454, ..., 165468, 173215, 181235], dtype=int64))"
            ]
          },
          "execution_count": 138,
          "metadata": {},
          "output_type": "execute_result"
        }
      ],
      "source": [
        "features = df.iloc[:, :-1].values\n",
        "labels = df.iloc[:, -1].values\n",
        "features, labels"
      ]
    },
    {
      "cell_type": "code",
      "execution_count": null,
      "metadata": {
        "id": "6rkqFO-8J_pg"
      },
      "outputs": [],
      "source": [
        "# import warnings\n",
        "import warnings \n",
        "warnings.filterwarnings('ignore')"
      ]
    },
    {
      "cell_type": "code",
      "execution_count": null,
      "metadata": {
        "id": "sGUibCj9J_ph",
        "outputId": "696ad318-902d-46eb-cede-801a3f3d2f95"
      },
      "outputs": [
        {
          "name": "stdout",
          "output_type": "stream",
          "text": [
            "       year  month   day gender  births\n",
            "0      1969      1   1.0      F    4046\n",
            "1      1969      1   1.0      M    4440\n",
            "2      1969      1   2.0      F    4454\n",
            "3      1969      1   2.0      M    4548\n",
            "4      1969      1   3.0      F    4548\n",
            "...     ...    ...   ...    ...     ...\n",
            "15062  1988     12  29.0      M    5944\n",
            "15063  1988     12  30.0      F    5742\n",
            "15064  1988     12  30.0      M    6095\n",
            "15065  1988     12  31.0      F    4435\n",
            "15066  1988     12  31.0      M    4698\n",
            "\n",
            "[14610 rows x 5 columns]\n"
          ]
        }
      ],
      "source": [
        "quart = np.percentile(df['births'], [25, 50, 75])\n",
        "\n",
        "data1, data2 = quart[1], 0.74 * (quart[2] - quart[0])\n",
        "\n",
        "births = df.query('(births > @data1 - 5 * @data2) & (births < @data1 + 5 * @data2)')\n",
        "print(births)"
      ]
    },
    {
      "cell_type": "markdown",
      "metadata": {
        "id": "TgoaxXiBJ_ph"
      },
      "source": [
        "# Data Visualization using matplotlib & seaborn"
      ]
    },
    {
      "cell_type": "code",
      "execution_count": null,
      "metadata": {
        "id": "DLVItynDJ_ph",
        "outputId": "182c87a3-f838-4ab3-f603-bf350febba5c"
      },
      "outputs": [
        {
          "data": {
            "image/png": "[encoded data removed]",
            "text/plain": [
              "<Figure size 1440x504 with 1 Axes>"
            ]
          },
          "metadata": {},
          "output_type": "display_data"
        }
      ],
      "source": [
        "births['day'] = births['day'].astype(int)\n",
        "\n",
        "births.index = pd.to_datetime(10000 * births.year + 100  * births.month + births.day, format='%Y%m%d')\n",
        "\n",
        "births_by_date = births.pivot_table('births',[births.index.month, births.index.day])\n",
        "\n",
        "births_by_date.index = [pd.datetime(2012, month, day) for (month, day) in births_by_date.index]\n",
        "\n",
        "fig, ax = plt.subplots(figsize=(20, 7))\n",
        "\n",
        "births_by_date.plot(ax=ax);"
      ]
    },
    {
      "cell_type": "code",
      "execution_count": null,
      "metadata": {
        "id": "IYuNHyldJ_pi",
        "outputId": "ca652943-3243-432d-d3c8-8c0ba0aff13b"
      },
      "outputs": [
        {
          "data": {
            "image/png": "[encoded data removed]",
            "text/plain": [
              "<Figure size 864x720 with 4 Axes>"
            ]
          },
          "metadata": {},
          "output_type": "display_data"
        }
      ],
      "source": [
        "df.hist(figsize=(12,10), bins=30, edgecolor='black', color='y')\n",
        "plt.subplots_adjust(hspace=0.8, wspace=0.6)"
      ]
    },
    {
      "cell_type": "code",
      "execution_count": null,
      "metadata": {
        "id": "rw44UCiiJ_pj"
      },
      "outputs": [],
      "source": [
        ""
      ]
    },
    {
      "cell_type": "code",
      "execution_count": null,
      "metadata": {
        "id": "dbvUit0PJ_pj"
      },
      "outputs": [],
      "source": [
        ""
      ]
    },
    {
      "cell_type": "code",
      "execution_count": null,
      "metadata": {
        "id": "jOj3Xx30J_pj"
      },
      "outputs": [],
      "source": [
        ""
      ]
    },
    {
      "cell_type": "code",
      "execution_count": null,
      "metadata": {
        "id": "XYTMNziSJ_pj"
      },
      "outputs": [],
      "source": [
        ""
      ]
    },
    {
      "cell_type": "markdown",
      "metadata": {
        "id": "Vju3GQULJ_pk"
      },
      "source": [
        "<span style='background:yellow'>**Question 2 (100 pt).**</span> Write a python program to evaluate the text classification performance using accuracy, precision, recall, and f1 score. \n",
        "\n",
        "Accuracy = (TP + TN) / (TP+ TN+ FP+ FN)\n",
        "\n",
        "Recall = (TP) / (TP+FN)\n",
        "\n",
        "Precision = (TP) / (TP+FP)\n",
        "\n",
        "F1 Score = (2*Precision*Recall) / (Precision + Recall)\n",
        "\n",
        "Here is the confusion matrix of a text classfication task (six categories) on the testing data. \n",
        "\n",
        "![SciBERT_cm.png](attachment:SciBERT_cm.png)"
      ]
    },
    {
      "cell_type": "code",
      "execution_count": null,
      "metadata": {
        "id": "T-7ZnphLJ_pk",
        "outputId": "37347464-54ca-4e84-8a22-151d9d08d067"
      },
      "outputs": [
        {
          "name": "stdout",
          "output_type": "stream",
          "text": [
            "accuracy value is 0.8137450199203188\n",
            "recall value is 0.585820895522388\n",
            "precision value is 0.6738197424892703\n",
            "f1_score value is 0.626746506986028\n"
          ]
        }
      ],
      "source": [
        "#### You code here\n",
        "# here i am taken True positive,False positive,False negative, True negative values from above figure\n",
        "\n",
        "TP = 157\n",
        "FP = 76\n",
        "FN = 111\n",
        "TN = 660\n",
        "accuracy = (TP + TN) / (TP+ TN+ FP+ FN)\n",
        "recall = (TP) / (TP+FN)\n",
        "precision = (TP) / (TP+FP)\n",
        "f1_score = (2*precision*recall) / (precision + recall)\n",
        "\n",
        "print(\"accuracy value is\" , accuracy)\n",
        "print(\"recall value is\",    recall)\n",
        "print(\"precision value is\", precision)\n",
        "print(\"f1_score value is\", f1_score)"
      ]
    },
    {
      "cell_type": "code",
      "execution_count": null,
      "metadata": {
        "id": "9pQtLdwtJ_pl",
        "outputId": "6c8fd0b4-3311-41c4-ab5f-8b0a76226416"
      },
      "outputs": [
        {
          "data": {
            "text/plain": [
              "array([[157,  46,  25,  22,  15,   3],\n",
              "       [ 28, 151,  45,  18,   1,   6],\n",
              "       [ 11,  38, 135,  14,   3,   7],\n",
              "       [ 11,  15,  18,  70,   6,   4],\n",
              "       [ 14,  12,  14,   7,  56,   2],\n",
              "       [ 12,   7,   6,   5,   5,  16]])"
            ]
          },
          "execution_count": 144,
          "metadata": {},
          "output_type": "execute_result"
        }
      ],
      "source": [
        "# here write about confusion matrix , values taken from above fig.\n",
        "\n",
        "confusion_matrix = [[157,46,25,22,15,3],\n",
        "                   [28,151,45,18,1,6],\n",
        "                   [11,38,135,14,3,7],\n",
        "                   [11,15,18,70,6,4],\n",
        "                   [14,12,14,7,56,2],\n",
        "                   [12,7,6,5,5,16]]\n",
        "\n",
        "confusion = np.array(confusion_matrix)\n",
        "confusion"
      ]
    },
    {
      "cell_type": "code",
      "execution_count": null,
      "metadata": {
        "scrolled": true,
        "id": "s5q1zbXoJ_pl",
        "outputId": "fdf9c8ad-bc92-4544-8d54-b3cec751ca39"
      },
      "outputs": [
        {
          "name": "stdout",
          "output_type": "stream",
          "text": [
            "confusion-matrix values is\n",
            "------------------------------------\n",
            " accuracy of class{0} value is 0.8139303482587065\n",
            " precision of class{0} value is  0.585820895522388\n",
            " recall of class{0} value is  0.6738197424892703\n",
            " F1-Score of class{0} value is 0.626746506986028\n",
            "\n",
            "confusion-matrix values is\n",
            "------------------------------------\n",
            " accuracy of class{0} value is 0.7850746268656716\n",
            " precision of class{0} value is  0.606425702811245\n",
            " recall of class{0} value is  0.5613382899628253\n",
            " F1-Score of class{0} value is 0.583011583011583\n",
            "\n",
            "confusion-matrix values is\n",
            "------------------------------------\n",
            " accuracy of class{0} value is 0.8199004975124378\n",
            " precision of class{0} value is  0.6490384615384616\n",
            " recall of class{0} value is  0.5555555555555556\n",
            " F1-Score of class{0} value is 0.598669623059867\n",
            "\n",
            "confusion-matrix values is\n",
            "------------------------------------\n",
            " accuracy of class{0} value is 0.8805970149253731\n",
            " precision of class{0} value is  0.5645161290322581\n",
            " recall of class{0} value is  0.5147058823529411\n",
            " F1-Score of class{0} value is 0.5384615384615384\n",
            "\n",
            "confusion-matrix values is\n",
            "------------------------------------\n",
            " accuracy of class{0} value is 0.9213930348258706\n",
            " precision of class{0} value is  0.5333333333333333\n",
            " recall of class{0} value is  0.6511627906976745\n",
            " F1-Score of class{0} value is 0.5863874345549738\n",
            "\n",
            "confusion-matrix values is\n",
            "------------------------------------\n",
            " accuracy of class{0} value is 0.9432835820895522\n",
            " precision of class{0} value is  0.3137254901960784\n",
            " recall of class{0} value is  0.42105263157894735\n",
            " F1-Score of class{0} value is 0.3595505617977528\n",
            "\n"
          ]
        }
      ],
      "source": [
        "for i in range(len(confusion)):\n",
        "    \n",
        "    accuracy = 0\n",
        "    precision = 0\n",
        "    recall = 0\n",
        "    f1_score = 0\n",
        "    \n",
        "    TP = confusion[i,i]\n",
        "    FP = confusion[i,:].sum() - TP\n",
        "    FN = confusion[:,i].sum() - TP\n",
        "    TN = confusion.sum().sum() - (TP+FP+FN)\n",
        "    \n",
        "    accuracy = (TP+TN)/confusion.sum().sum()\n",
        "    precision = TP/(TP+FP)\n",
        "    recall = TP/(TP+FN)\n",
        "    f1_score = 2*precision*recall/(precision+recall)\n",
        "    \n",
        "   # print the classes\n",
        "    print('confusion-matrix values is')\n",
        "    print('------------------------------------')\n",
        "    print(' accuracy of class{0} value is' , accuracy)\n",
        "    print(' precision of class{0} value is ',precision)\n",
        "    print(' recall of class{0} value is ', recall)\n",
        "    print(' F1-Score of class{0} value is' ,f1_score)\n",
        "    print()\n"
      ]
    },
    {
      "cell_type": "markdown",
      "metadata": {
        "id": "9rFnrx0RJ_pm"
      },
      "source": [
        "calculate the all confusion matrix values"
      ]
    },
    {
      "cell_type": "code",
      "execution_count": null,
      "metadata": {
        "id": "U2wQOiSvJ_pm",
        "outputId": "408e06ea-afda-4ef7-9425-3c0767e1c219"
      },
      "outputs": [
        {
          "name": "stdout",
          "output_type": "stream",
          "text": [
            "-----------------------------------\n",
            "class value is  1\n",
            "accuracy value is 0.7577720207253886\n",
            "recall value is 0.585820895522388\n",
            "precision value is 0.6738197424892703\n",
            "f1_score value is 0.626746506986028\n",
            "------------------------------------\n",
            "-----------------------------------\n",
            "class value is  2\n",
            "accuracy value is 0.7303370786516854\n",
            "recall value is 0.606425702811245\n",
            "precision value is 0.5613382899628253\n",
            "f1_score value is 0.583011583011583\n",
            "------------------------------------\n",
            "-----------------------------------\n",
            "class value is  3\n",
            "accuracy value is 0.7637075718015666\n",
            "recall value is 0.6490384615384616\n",
            "precision value is 0.5555555555555556\n",
            "f1_score value is 0.598669623059867\n",
            "------------------------------------\n",
            "-----------------------------------\n",
            "class value is  4\n",
            "accuracy value is 0.8297872340425532\n",
            "recall value is 0.5645161290322581\n",
            "precision value is 0.5147058823529411\n",
            "f1_score value is 0.5384615384615384\n",
            "------------------------------------\n",
            "-----------------------------------\n",
            "class value is  5\n",
            "accuracy value is 0.8810240963855421\n",
            "recall value is 0.5333333333333333\n",
            "precision value is 0.6511627906976745\n",
            "f1_score value is 0.5863874345549738\n",
            "------------------------------------\n",
            "-----------------------------------\n",
            "class value is  6\n",
            "accuracy value is 0.9112149532710281\n",
            "recall value is 0.3137254901960784\n",
            "precision value is 0.42105263157894735\n",
            "f1_score value is 0.3595505617977528\n",
            "------------------------------------\n"
          ]
        }
      ],
      "source": [
        "def calculate(TP,TN,FP,FN,c):\n",
        "\n",
        "    accuracy = (TP + TN) / (TP+ TN+ FP+ FN)\n",
        "    \n",
        "    recall= (TP) / (TP+FN)\n",
        "    \n",
        "    precision = (TP) / (TP+FP)\n",
        "    \n",
        "    f1_score = (2*precision*recall) / (precision + recall)\n",
        "    \n",
        "    print(\"-----------------------------------\")\n",
        "    print(\"class value is \",format(c))\n",
        "    \n",
        "    print(\"accuracy value is\" , accuracy)\n",
        "    \n",
        "    print(\"recall value is\",    recall)\n",
        "    \n",
        "    print(\"precision value is\", precision)\n",
        "    \n",
        "    print(\"f1_score value is\"  ,f1_score)\n",
        "    \n",
        "    print(\"------------------------------------\")\n",
        "\n",
        "TP_1=157\n",
        "TN_1=428\n",
        "FP_1=76\n",
        "FN_1=111\n",
        "\n",
        "\n",
        "TP_2=151\n",
        "TN_2=434\n",
        "FP_2=118\n",
        "FN_2=98\n",
        "\n",
        "\n",
        "\n",
        "TP_3=135\n",
        "TN_3=450\n",
        "FP_3=108\n",
        "FN_3=73\n",
        "\n",
        "TP_4=70\n",
        "TN_4=515\n",
        "FP_4=66\n",
        "FN_4=54\n",
        "\n",
        "\n",
        "TP_5=56\n",
        "TN_5=529\n",
        "FP_5=30\n",
        "FN_5=49\n",
        "\n",
        "\n",
        "\n",
        "TP_6=16\n",
        "TN_6=569\n",
        "FP_6=22\n",
        "FN_6=35\n",
        "\n",
        "calculate(TP_1,TN_1,FP_1,FN_1,1)\n",
        "\n",
        "calculate(TP_2,TN_2,FP_2,FN_2,2)\n",
        "\n",
        "calculate(TP_3,TN_3,FP_3,FN_3,3)\n",
        "\n",
        "calculate(TP_4,TN_4,FP_4,FN_4,4)\n",
        "\n",
        "calculate(TP_5,TN_5,FP_5,FN_5,5)\n",
        "\n",
        "calculate(TP_6,TN_6,FP_6,FN_6,6)"
      ]
    },
    {
      "cell_type": "code",
      "execution_count": null,
      "metadata": {
        "id": "mdjVDo5mJ_pn"
      },
      "outputs": [],
      "source": [
        ""
      ]
    },
    {
      "cell_type": "code",
      "execution_count": null,
      "metadata": {
        "id": "D1hly3T8J_pn"
      },
      "outputs": [],
      "source": [
        ""
      ]
    },
    {
      "cell_type": "code",
      "execution_count": null,
      "metadata": {
        "id": "ed9FBmWKJ_po"
      },
      "outputs": [],
      "source": [
        ""
      ]
    },
    {
      "cell_type": "code",
      "execution_count": null,
      "metadata": {
        "id": "LWD_FKHiJ_po"
      },
      "outputs": [],
      "source": [
        ""
      ]
    },
    {
      "cell_type": "code",
      "execution_count": null,
      "metadata": {
        "id": "wd8PmfsdJ_po"
      },
      "outputs": [],
      "source": [
        ""
      ]
    },
    {
      "cell_type": "markdown",
      "metadata": {
        "id": "1enZRQmnJ_po"
      },
      "source": [
        "<span style='background:yellow'>**Question 3 (200 pt).**</span> \n",
        "\n",
        "Part A: Given Inetd dataset, an intrusion detection dataset that contains 2 columns. The first column represents a process ID number (PID) and the second column represents a system call. The goal is to extract the entire system call sequence by its PID, then tokenize and parse each sequence into 25-grams. After this, we’ll split the data into training and testing sets. Next, we ensure data quality in the training dataset by removing duplicate sequences within each class and overlapped sequences between both classes. To ensure a fair evaluation, we also clean the testing set by repeating the previous step. You will implement a Decision Tree model to train and test on the training set and testing set that we just clean. \n",
        "\n",
        "\n",
        "Part B: As the data type is sequential, we want to know how similar the sequences from both classes are and visualize how the similarity scores vary in different sequence lengths. Compute a cosine similarity score of 100 random pairs from both classes and get a median cosine similarity. Repeat this step in different sequence lengths (5, 10, 15, and 20). Plot a line chart to visualize how the median cosine similarities vary through sequence lengths of 5 to 25. \n",
        "\n",
        "You can download the datasets from github: https://github.com/unt-iialab/info5502-spring2022/tree/main/finalexam/q4\n",
        "\n",
        "\n",
        "Step by step instructions and questions:\n",
        "\n",
        "(1)(30 points) Attached are the Normal and Intrusion data folders. Read in the data and store them in two separate dataframes. Combine the system calls (the second column) from the same PID (the first column) into a sequence or a string. \n",
        "\n",
        "(2)(30 points) Parse an entire sequence into smaller sequences of size 25. (Hint: Use word_tokenize and ngrams from nltk library to parse).\n",
        "\n",
        "(3)(30 points) Add labels to the data, and partition the labeled data into training data and testing data with a ratio of 70/30.\n",
        "\n",
        "(4)(30 points) As the dataset has a lot of duplicate sequences, make sure that the testing data only contain unique sequences and that these sequences do not exist in the training data. Condense training data and testing data into two sets. Take the difference between the testing set and training set to remove the overlapped sequences from the testing data. \n",
        "\n",
        "(5)(30 points) The sequences from each class can be repetitive, and some of these sequences may have different labels. Therefore, we need to remove the duplicate sequences within each class and the overlapped sequences from the Intrusion class. Start out by separating the Normal class and Intrusion class in both training and testing data. Use the same concept in Question 4 to remove duplicate sequences and overlapped sequences from the training data.\n",
        "\n",
        "\n",
        "(6)(50 points) Bootstrap the training data to get the same number of sequences from each class. Train and evaluate a Decision Tree model using the training data and testing data that we just clean. How is the performance?\n"
      ]
    },
    {
      "cell_type": "markdown",
      "metadata": {
        "id": "OMHDOxKxJ_pp"
      },
      "source": [
        "# You code here"
      ]
    },
    {
      "cell_type": "code",
      "execution_count": null,
      "metadata": {
        "id": "s9lCSn94J_pq",
        "outputId": "0068f6b4-0ef6-4f14-b6f2-05bafdb66c0c"
      },
      "outputs": [
        {
          "data": {
            "application/javascript": [
              "\n",
              "        if (window._pyforest_update_imports_cell) { window._pyforest_update_imports_cell('import pandas as pd\\nfrom sklearn.model_selection import train_test_split'); }\n",
              "    "
            ],
            "text/plain": [
              "<IPython.core.display.Javascript object>"
            ]
          },
          "metadata": {},
          "output_type": "display_data"
        },
        {
          "data": {
            "text/html": [
              "<div>\n",
              "<style scoped>\n",
              "    .dataframe tbody tr th:only-of-type {\n",
              "        vertical-align: middle;\n",
              "    }\n",
              "\n",
              "    .dataframe tbody tr th {\n",
              "        vertical-align: top;\n",
              "    }\n",
              "\n",
              "    .dataframe thead th {\n",
              "        text-align: right;\n",
              "    }\n",
              "</style>\n",
              "<table border=\"1\" class=\"dataframe\">\n",
              "  <thead>\n",
              "    <tr style=\"text-align: right;\">\n",
              "      <th></th>\n",
              "      <th>A</th>\n",
              "      <th>B</th>\n",
              "    </tr>\n",
              "  </thead>\n",
              "  <tbody>\n",
              "    <tr>\n",
              "      <th>0</th>\n",
              "      <td>167</td>\n",
              "      <td>125</td>\n",
              "    </tr>\n",
              "    <tr>\n",
              "      <th>1</th>\n",
              "      <td>167</td>\n",
              "      <td>125</td>\n",
              "    </tr>\n",
              "    <tr>\n",
              "      <th>2</th>\n",
              "      <td>167</td>\n",
              "      <td>106</td>\n",
              "    </tr>\n",
              "    <tr>\n",
              "      <th>3</th>\n",
              "      <td>167</td>\n",
              "      <td>5</td>\n",
              "    </tr>\n",
              "    <tr>\n",
              "      <th>4</th>\n",
              "      <td>167</td>\n",
              "      <td>90</td>\n",
              "    </tr>\n",
              "    <tr>\n",
              "      <th>...</th>\n",
              "      <td>...</td>\n",
              "      <td>...</td>\n",
              "    </tr>\n",
              "    <tr>\n",
              "      <th>8365</th>\n",
              "      <td>4470</td>\n",
              "      <td>6</td>\n",
              "    </tr>\n",
              "    <tr>\n",
              "      <th>8366</th>\n",
              "      <td>4470</td>\n",
              "      <td>6</td>\n",
              "    </tr>\n",
              "    <tr>\n",
              "      <th>8367</th>\n",
              "      <td>4470</td>\n",
              "      <td>6</td>\n",
              "    </tr>\n",
              "    <tr>\n",
              "      <th>8368</th>\n",
              "      <td>4470</td>\n",
              "      <td>6</td>\n",
              "    </tr>\n",
              "    <tr>\n",
              "      <th>8369</th>\n",
              "      <td>4470</td>\n",
              "      <td>11</td>\n",
              "    </tr>\n",
              "  </tbody>\n",
              "</table>\n",
              "<p>8370 rows × 2 columns</p>\n",
              "</div>"
            ],
            "text/plain": [
              "         A    B\n",
              "0      167  125\n",
              "1      167  125\n",
              "2      167  106\n",
              "3      167    5\n",
              "4      167   90\n",
              "...    ...  ...\n",
              "8365  4470    6\n",
              "8366  4470    6\n",
              "8367  4470    6\n",
              "8368  4470    6\n",
              "8369  4470   11\n",
              "\n",
              "[8370 rows x 2 columns]"
            ]
          },
          "execution_count": 31,
          "metadata": {},
          "output_type": "execute_result"
        }
      ],
      "source": [
        "import re\n",
        "from nltk.util import ngrams\n",
        "from sklearn.tree import DecisionTreeClassifier\n",
        "from sklearn import preprocessing\n",
        "from sklearn.metrics import classification_report\n",
        "from sklearn.model_selection import train_test_split\n",
        "data1 = pd.read_csv('inetd-intrusion.int.csv')\n",
        "\n",
        "data1[['A', 'B']] = data1['167 90'].str.split(' ', 1, expand=True)\n",
        "data1=data1.drop(['167 90'],axis=1)\n",
        "data1"
      ]
    },
    {
      "cell_type": "code",
      "execution_count": null,
      "metadata": {
        "id": "rlrgYHx7J_pq",
        "outputId": "4c590021-e6dc-4faa-e407-dc81b8b5ceac"
      },
      "outputs": [
        {
          "data": {
            "application/javascript": [
              "\n",
              "        if (window._pyforest_update_imports_cell) { window._pyforest_update_imports_cell('import pandas as pd'); }\n",
              "    "
            ],
            "text/plain": [
              "<IPython.core.display.Javascript object>"
            ]
          },
          "metadata": {},
          "output_type": "display_data"
        },
        {
          "data": {
            "text/html": [
              "<div>\n",
              "<style scoped>\n",
              "    .dataframe tbody tr th:only-of-type {\n",
              "        vertical-align: middle;\n",
              "    }\n",
              "\n",
              "    .dataframe tbody tr th {\n",
              "        vertical-align: top;\n",
              "    }\n",
              "\n",
              "    .dataframe thead th {\n",
              "        text-align: right;\n",
              "    }\n",
              "</style>\n",
              "<table border=\"1\" class=\"dataframe\">\n",
              "  <thead>\n",
              "    <tr style=\"text-align: right;\">\n",
              "      <th></th>\n",
              "      <th>A</th>\n",
              "      <th>B</th>\n",
              "    </tr>\n",
              "  </thead>\n",
              "  <tbody>\n",
              "    <tr>\n",
              "      <th>0</th>\n",
              "      <td>167</td>\n",
              "      <td>125</td>\n",
              "    </tr>\n",
              "    <tr>\n",
              "      <th>1</th>\n",
              "      <td>167</td>\n",
              "      <td>125</td>\n",
              "    </tr>\n",
              "    <tr>\n",
              "      <th>2</th>\n",
              "      <td>167</td>\n",
              "      <td>106</td>\n",
              "    </tr>\n",
              "    <tr>\n",
              "      <th>3</th>\n",
              "      <td>167</td>\n",
              "      <td>5</td>\n",
              "    </tr>\n",
              "    <tr>\n",
              "      <th>4</th>\n",
              "      <td>167</td>\n",
              "      <td>90</td>\n",
              "    </tr>\n",
              "    <tr>\n",
              "      <th>...</th>\n",
              "      <td>...</td>\n",
              "      <td>...</td>\n",
              "    </tr>\n",
              "    <tr>\n",
              "      <th>535</th>\n",
              "      <td>2669</td>\n",
              "      <td>6</td>\n",
              "    </tr>\n",
              "    <tr>\n",
              "      <th>536</th>\n",
              "      <td>2669</td>\n",
              "      <td>6</td>\n",
              "    </tr>\n",
              "    <tr>\n",
              "      <th>537</th>\n",
              "      <td>2669</td>\n",
              "      <td>6</td>\n",
              "    </tr>\n",
              "    <tr>\n",
              "      <th>538</th>\n",
              "      <td>2669</td>\n",
              "      <td>6</td>\n",
              "    </tr>\n",
              "    <tr>\n",
              "      <th>539</th>\n",
              "      <td>2669</td>\n",
              "      <td>11</td>\n",
              "    </tr>\n",
              "  </tbody>\n",
              "</table>\n",
              "<p>540 rows × 2 columns</p>\n",
              "</div>"
            ],
            "text/plain": [
              "        A    B\n",
              "0     167  125\n",
              "1     167  125\n",
              "2     167  106\n",
              "3     167    5\n",
              "4     167   90\n",
              "..    ...  ...\n",
              "535  2669    6\n",
              "536  2669    6\n",
              "537  2669    6\n",
              "538  2669    6\n",
              "539  2669   11\n",
              "\n",
              "[540 rows x 2 columns]"
            ]
          },
          "execution_count": 14,
          "metadata": {},
          "output_type": "execute_result"
        }
      ],
      "source": [
        "data2=pd.read_csv('inetd-normal.int.csv')\n",
        "data2[['A', 'B']] = data2['167 90'].str.split(' ', 1, expand=True)\n",
        "data2=data2.drop(['167 90'],axis=1)\n",
        "data2"
      ]
    },
    {
      "cell_type": "code",
      "execution_count": null,
      "metadata": {
        "id": "nVa05vNYJ_pr"
      },
      "outputs": [],
      "source": [
        "data1.columns = ['PID', 'SystemCalls']\n",
        "data2.columns = ['PID', 'SystemCalls']"
      ]
    },
    {
      "cell_type": "code",
      "execution_count": null,
      "metadata": {
        "id": "8gGubz8OJ_pr"
      },
      "outputs": [],
      "source": [
        "i = {}\n",
        "n = {}"
      ]
    },
    {
      "cell_type": "code",
      "execution_count": null,
      "metadata": {
        "id": "hpD37oSbJ_pr"
      },
      "outputs": [],
      "source": [
        "\n",
        "\n",
        "# combining system calls\n",
        "for pid in list(set(data1['PID'].values)):\n",
        "    i[pid] = \" \".join(str(value) for value in list(data1[data1['PID'] == pid]['SystemCalls'].values))\n",
        "\n",
        "for pid in list(set(data2['PID'].values)):\n",
        "    n[pid] = \" \".join(str(value) for value in list(data1[data1['PID'] == pid]['SystemCalls'].values))\n",
        "\n"
      ]
    },
    {
      "cell_type": "code",
      "execution_count": null,
      "metadata": {
        "id": "rF7064lWJ_ps",
        "outputId": "767fcd12-688e-4cf5-ff4f-eb32ee70c434"
      },
      "outputs": [
        {
          "name": "stdout",
          "output_type": "stream",
          "text": [
            "7626\n",
            "615\n"
          ]
        }
      ],
      "source": [
        "\n",
        "list_int = []\n",
        "list_nor = []\n",
        "\n",
        "\n",
        "\n",
        "for key in i.keys():\n",
        "    s = i[key]\n",
        "    tokens = [token for token in s.split(\" \") if token != \"\"]\n",
        "    \n",
        "    for ele in list(ngrams(tokens, 25)):\n",
        "        list_int.append(ele)\n",
        "        \n",
        "for key in n.keys():\n",
        "    s = n[key]\n",
        "    tokens = [token for token in s.split(\" \") if token != \"\"]\n",
        "    \n",
        "    for ele in list(ngrams(tokens, 25)):\n",
        "        list_nor.append(ele) \n"
      ]
    },
    {
      "cell_type": "code",
      "execution_count": null,
      "metadata": {
        "id": "pYu5C7bhJ_pt",
        "outputId": "7c46b83d-7724-447b-9249-563164cc572d"
      },
      "outputs": [
        {
          "data": {
            "application/javascript": [
              "\n",
              "        if (window._pyforest_update_imports_cell) { window._pyforest_update_imports_cell('import pandas as pd'); }\n",
              "    "
            ],
            "text/plain": [
              "<IPython.core.display.Javascript object>"
            ]
          },
          "metadata": {},
          "output_type": "display_data"
        },
        {
          "data": {
            "application/javascript": [
              "\n",
              "        if (window._pyforest_update_imports_cell) { window._pyforest_update_imports_cell('import pandas as pd'); }\n",
              "    "
            ],
            "text/plain": [
              "<IPython.core.display.Javascript object>"
            ]
          },
          "metadata": {},
          "output_type": "display_data"
        },
        {
          "name": "stdout",
          "output_type": "stream",
          "text": [
            "(7626, 26)\n",
            "(615, 26)\n"
          ]
        }
      ],
      "source": [
        "\n",
        "d1 = pd.DataFrame(list_int)\n",
        "d2 = pd.DataFrame(list_nor)\n",
        "\n",
        "\n",
        "d1['class'] = 1\n",
        "d2['class'] = 0\n"
      ]
    },
    {
      "cell_type": "code",
      "execution_count": null,
      "metadata": {
        "id": "RxAlHo3TJ_pt",
        "outputId": "88556b87-34ca-44d8-efd3-2a0e27533a6d"
      },
      "outputs": [
        {
          "data": {
            "application/javascript": [
              "\n",
              "        if (window._pyforest_update_imports_cell) { window._pyforest_update_imports_cell('import pandas as pd'); }\n",
              "    "
            ],
            "text/plain": [
              "<IPython.core.display.Javascript object>"
            ]
          },
          "metadata": {},
          "output_type": "display_data"
        },
        {
          "data": {
            "text/html": [
              "<div>\n",
              "<style scoped>\n",
              "    .dataframe tbody tr th:only-of-type {\n",
              "        vertical-align: middle;\n",
              "    }\n",
              "\n",
              "    .dataframe tbody tr th {\n",
              "        vertical-align: top;\n",
              "    }\n",
              "\n",
              "    .dataframe thead th {\n",
              "        text-align: right;\n",
              "    }\n",
              "</style>\n",
              "<table border=\"1\" class=\"dataframe\">\n",
              "  <thead>\n",
              "    <tr style=\"text-align: right;\">\n",
              "      <th></th>\n",
              "      <th>0</th>\n",
              "      <th>1</th>\n",
              "      <th>2</th>\n",
              "      <th>3</th>\n",
              "      <th>4</th>\n",
              "      <th>5</th>\n",
              "      <th>6</th>\n",
              "      <th>7</th>\n",
              "      <th>8</th>\n",
              "      <th>9</th>\n",
              "      <th>...</th>\n",
              "      <th>16</th>\n",
              "      <th>17</th>\n",
              "      <th>18</th>\n",
              "      <th>19</th>\n",
              "      <th>20</th>\n",
              "      <th>21</th>\n",
              "      <th>22</th>\n",
              "      <th>23</th>\n",
              "      <th>24</th>\n",
              "      <th>class</th>\n",
              "    </tr>\n",
              "  </thead>\n",
              "  <tbody>\n",
              "    <tr>\n",
              "      <th>0</th>\n",
              "      <td>66</td>\n",
              "      <td>12</td>\n",
              "      <td>5</td>\n",
              "      <td>63</td>\n",
              "      <td>63</td>\n",
              "      <td>63</td>\n",
              "      <td>6</td>\n",
              "      <td>5</td>\n",
              "      <td>20</td>\n",
              "      <td>108</td>\n",
              "      <td>...</td>\n",
              "      <td>108</td>\n",
              "      <td>90</td>\n",
              "      <td>3</td>\n",
              "      <td>126</td>\n",
              "      <td>126</td>\n",
              "      <td>5</td>\n",
              "      <td>45</td>\n",
              "      <td>108</td>\n",
              "      <td>90</td>\n",
              "      <td>1</td>\n",
              "    </tr>\n",
              "    <tr>\n",
              "      <th>1</th>\n",
              "      <td>12</td>\n",
              "      <td>5</td>\n",
              "      <td>63</td>\n",
              "      <td>63</td>\n",
              "      <td>63</td>\n",
              "      <td>6</td>\n",
              "      <td>5</td>\n",
              "      <td>20</td>\n",
              "      <td>108</td>\n",
              "      <td>90</td>\n",
              "      <td>...</td>\n",
              "      <td>90</td>\n",
              "      <td>3</td>\n",
              "      <td>126</td>\n",
              "      <td>126</td>\n",
              "      <td>5</td>\n",
              "      <td>45</td>\n",
              "      <td>108</td>\n",
              "      <td>90</td>\n",
              "      <td>3</td>\n",
              "      <td>1</td>\n",
              "    </tr>\n",
              "    <tr>\n",
              "      <th>2</th>\n",
              "      <td>5</td>\n",
              "      <td>63</td>\n",
              "      <td>63</td>\n",
              "      <td>63</td>\n",
              "      <td>6</td>\n",
              "      <td>5</td>\n",
              "      <td>20</td>\n",
              "      <td>108</td>\n",
              "      <td>90</td>\n",
              "      <td>4</td>\n",
              "      <td>...</td>\n",
              "      <td>3</td>\n",
              "      <td>126</td>\n",
              "      <td>126</td>\n",
              "      <td>5</td>\n",
              "      <td>45</td>\n",
              "      <td>108</td>\n",
              "      <td>90</td>\n",
              "      <td>3</td>\n",
              "      <td>3</td>\n",
              "      <td>1</td>\n",
              "    </tr>\n",
              "    <tr>\n",
              "      <th>3</th>\n",
              "      <td>63</td>\n",
              "      <td>63</td>\n",
              "      <td>63</td>\n",
              "      <td>6</td>\n",
              "      <td>5</td>\n",
              "      <td>20</td>\n",
              "      <td>108</td>\n",
              "      <td>90</td>\n",
              "      <td>4</td>\n",
              "      <td>6</td>\n",
              "      <td>...</td>\n",
              "      <td>126</td>\n",
              "      <td>126</td>\n",
              "      <td>5</td>\n",
              "      <td>45</td>\n",
              "      <td>108</td>\n",
              "      <td>90</td>\n",
              "      <td>3</td>\n",
              "      <td>3</td>\n",
              "      <td>6</td>\n",
              "      <td>1</td>\n",
              "    </tr>\n",
              "    <tr>\n",
              "      <th>4</th>\n",
              "      <td>63</td>\n",
              "      <td>63</td>\n",
              "      <td>6</td>\n",
              "      <td>5</td>\n",
              "      <td>20</td>\n",
              "      <td>108</td>\n",
              "      <td>90</td>\n",
              "      <td>4</td>\n",
              "      <td>6</td>\n",
              "      <td>91</td>\n",
              "      <td>...</td>\n",
              "      <td>126</td>\n",
              "      <td>5</td>\n",
              "      <td>45</td>\n",
              "      <td>108</td>\n",
              "      <td>90</td>\n",
              "      <td>3</td>\n",
              "      <td>3</td>\n",
              "      <td>6</td>\n",
              "      <td>91</td>\n",
              "      <td>1</td>\n",
              "    </tr>\n",
              "    <tr>\n",
              "      <th>...</th>\n",
              "      <td>...</td>\n",
              "      <td>...</td>\n",
              "      <td>...</td>\n",
              "      <td>...</td>\n",
              "      <td>...</td>\n",
              "      <td>...</td>\n",
              "      <td>...</td>\n",
              "      <td>...</td>\n",
              "      <td>...</td>\n",
              "      <td>...</td>\n",
              "      <td>...</td>\n",
              "      <td>...</td>\n",
              "      <td>...</td>\n",
              "      <td>...</td>\n",
              "      <td>...</td>\n",
              "      <td>...</td>\n",
              "      <td>...</td>\n",
              "      <td>...</td>\n",
              "      <td>...</td>\n",
              "      <td>...</td>\n",
              "      <td>...</td>\n",
              "    </tr>\n",
              "    <tr>\n",
              "      <th>610</th>\n",
              "      <td>90</td>\n",
              "      <td>6</td>\n",
              "      <td>5</td>\n",
              "      <td>3</td>\n",
              "      <td>90</td>\n",
              "      <td>90</td>\n",
              "      <td>90</td>\n",
              "      <td>90</td>\n",
              "      <td>6</td>\n",
              "      <td>125</td>\n",
              "      <td>...</td>\n",
              "      <td>24</td>\n",
              "      <td>47</td>\n",
              "      <td>50</td>\n",
              "      <td>45</td>\n",
              "      <td>45</td>\n",
              "      <td>5</td>\n",
              "      <td>106</td>\n",
              "      <td>106</td>\n",
              "      <td>106</td>\n",
              "      <td>0</td>\n",
              "    </tr>\n",
              "    <tr>\n",
              "      <th>611</th>\n",
              "      <td>6</td>\n",
              "      <td>5</td>\n",
              "      <td>3</td>\n",
              "      <td>90</td>\n",
              "      <td>90</td>\n",
              "      <td>90</td>\n",
              "      <td>90</td>\n",
              "      <td>6</td>\n",
              "      <td>125</td>\n",
              "      <td>91</td>\n",
              "      <td>...</td>\n",
              "      <td>47</td>\n",
              "      <td>50</td>\n",
              "      <td>45</td>\n",
              "      <td>45</td>\n",
              "      <td>5</td>\n",
              "      <td>106</td>\n",
              "      <td>106</td>\n",
              "      <td>106</td>\n",
              "      <td>106</td>\n",
              "      <td>0</td>\n",
              "    </tr>\n",
              "    <tr>\n",
              "      <th>612</th>\n",
              "      <td>5</td>\n",
              "      <td>3</td>\n",
              "      <td>90</td>\n",
              "      <td>90</td>\n",
              "      <td>90</td>\n",
              "      <td>90</td>\n",
              "      <td>6</td>\n",
              "      <td>125</td>\n",
              "      <td>91</td>\n",
              "      <td>125</td>\n",
              "      <td>...</td>\n",
              "      <td>50</td>\n",
              "      <td>45</td>\n",
              "      <td>45</td>\n",
              "      <td>5</td>\n",
              "      <td>106</td>\n",
              "      <td>106</td>\n",
              "      <td>106</td>\n",
              "      <td>106</td>\n",
              "      <td>106</td>\n",
              "      <td>0</td>\n",
              "    </tr>\n",
              "    <tr>\n",
              "      <th>613</th>\n",
              "      <td>3</td>\n",
              "      <td>90</td>\n",
              "      <td>90</td>\n",
              "      <td>90</td>\n",
              "      <td>90</td>\n",
              "      <td>6</td>\n",
              "      <td>125</td>\n",
              "      <td>91</td>\n",
              "      <td>125</td>\n",
              "      <td>125</td>\n",
              "      <td>...</td>\n",
              "      <td>45</td>\n",
              "      <td>45</td>\n",
              "      <td>5</td>\n",
              "      <td>106</td>\n",
              "      <td>106</td>\n",
              "      <td>106</td>\n",
              "      <td>106</td>\n",
              "      <td>106</td>\n",
              "      <td>2</td>\n",
              "      <td>0</td>\n",
              "    </tr>\n",
              "    <tr>\n",
              "      <th>614</th>\n",
              "      <td>90</td>\n",
              "      <td>90</td>\n",
              "      <td>90</td>\n",
              "      <td>90</td>\n",
              "      <td>6</td>\n",
              "      <td>125</td>\n",
              "      <td>91</td>\n",
              "      <td>125</td>\n",
              "      <td>125</td>\n",
              "      <td>125</td>\n",
              "      <td>...</td>\n",
              "      <td>45</td>\n",
              "      <td>5</td>\n",
              "      <td>106</td>\n",
              "      <td>106</td>\n",
              "      <td>106</td>\n",
              "      <td>106</td>\n",
              "      <td>106</td>\n",
              "      <td>2</td>\n",
              "      <td>1</td>\n",
              "      <td>0</td>\n",
              "    </tr>\n",
              "  </tbody>\n",
              "</table>\n",
              "<p>8241 rows × 26 columns</p>\n",
              "</div>"
            ],
            "text/plain": [
              "      0   1   2   3   4    5    6    7    8    9  ...   16   17   18   19  \\\n",
              "0    66  12   5  63  63   63    6    5   20  108  ...  108   90    3  126   \n",
              "1    12   5  63  63  63    6    5   20  108   90  ...   90    3  126  126   \n",
              "2     5  63  63  63   6    5   20  108   90    4  ...    3  126  126    5   \n",
              "3    63  63  63   6   5   20  108   90    4    6  ...  126  126    5   45   \n",
              "4    63  63   6   5  20  108   90    4    6   91  ...  126    5   45  108   \n",
              "..   ..  ..  ..  ..  ..  ...  ...  ...  ...  ...  ...  ...  ...  ...  ...   \n",
              "610  90   6   5   3  90   90   90   90    6  125  ...   24   47   50   45   \n",
              "611   6   5   3  90  90   90   90    6  125   91  ...   47   50   45   45   \n",
              "612   5   3  90  90  90   90    6  125   91  125  ...   50   45   45    5   \n",
              "613   3  90  90  90  90    6  125   91  125  125  ...   45   45    5  106   \n",
              "614  90  90  90  90   6  125   91  125  125  125  ...   45    5  106  106   \n",
              "\n",
              "      20   21   22   23   24 class  \n",
              "0    126    5   45  108   90     1  \n",
              "1      5   45  108   90    3     1  \n",
              "2     45  108   90    3    3     1  \n",
              "3    108   90    3    3    6     1  \n",
              "4     90    3    3    6   91     1  \n",
              "..   ...  ...  ...  ...  ...   ...  \n",
              "610   45    5  106  106  106     0  \n",
              "611    5  106  106  106  106     0  \n",
              "612  106  106  106  106  106     0  \n",
              "613  106  106  106  106    2     0  \n",
              "614  106  106  106    2    1     0  \n",
              "\n",
              "[8241 rows x 26 columns]"
            ]
          },
          "execution_count": 29,
          "metadata": {},
          "output_type": "execute_result"
        }
      ],
      "source": [
        "data = pd.DataFrame()\n",
        "\n",
        "data = data.append(d1)\n",
        "data = data.append(d2)\n"
      ]
    },
    {
      "cell_type": "code",
      "execution_count": null,
      "metadata": {
        "id": "_OVr_RcSJ_pt",
        "outputId": "56da4729-a2d1-40b9-a2aa-e496d847ba2f"
      },
      "outputs": [
        {
          "data": {
            "text/plain": [
              "'              precision    recall  f1-score   support\\n\\n           0       0.39      0.73      0.51       178\\n           1       0.98      0.91      0.94      2295\\n\\n    accuracy                           0.90      2473\\n   macro avg       0.69      0.82      0.73      2473\\nweighted avg       0.94      0.90      0.91      2473\\n'"
            ]
          },
          "execution_count": 34,
          "metadata": {},
          "output_type": "execute_result"
        }
      ],
      "source": [
        "\n",
        "\n",
        "x = data.drop(\"class\", axis = 1)\n",
        "y = data['class']\n",
        "\n",
        "trainx, testx, trainy, testy = train_test_split(x, y, test_size = 0.3, random_state = 42)\n",
        "\n",
        "clasifier = DecisionTreeClassifier(max_depth = 10)\n",
        "clasifier.fit(trainx, trainy)\n",
        "ypred = clasifier.predict(testx)\n",
        "\n"
      ]
    },
    {
      "cell_type": "code",
      "execution_count": null,
      "metadata": {
        "id": "mn1Kfs7dJ_pu",
        "outputId": "65c5916c-b084-4e71-c339-824c2d62de4f"
      },
      "outputs": [
        {
          "name": "stdout",
          "output_type": "stream",
          "text": [
            "              precision    recall  f1-score   support\n",
            "\n",
            "           0       0.39      0.73      0.51       178\n",
            "           1       0.98      0.91      0.94      2295\n",
            "\n",
            "    accuracy                           0.90      2473\n",
            "   macro avg       0.69      0.82      0.73      2473\n",
            "weighted avg       0.94      0.90      0.91      2473\n",
            "\n"
          ]
        }
      ],
      "source": [
        "k=classification_report(testy, ypred)\n",
        "print(k)"
      ]
    },
    {
      "cell_type": "code",
      "execution_count": null,
      "metadata": {
        "id": "jvp3c8IZJ_pu"
      },
      "outputs": [],
      "source": [
        ""
      ]
    },
    {
      "cell_type": "code",
      "execution_count": null,
      "metadata": {
        "id": "3Xmoy0svJ_pu"
      },
      "outputs": [],
      "source": [
        ""
      ]
    },
    {
      "cell_type": "markdown",
      "metadata": {
        "id": "tlB7ZBm1J_pu"
      },
      "source": [
        "<span style='background:yellow'>**Question 4 (100 pt).**</span> In the world of business, the importance of the customers’ reviews for any product is not ignorable. The impact of customers’ reviews on customer’s decision making is significant. Therefore, businesses try to increase this impact by increasing the ratio of the positive reviews to negative reviews. One effective way to increase the ratio is offering the incentives such as small gifts or free next services to customers to post the reviews for item they purchase or used. However, it is not always the case, and customer may post their reviews without receiving or accepting the incentives. So, the reviews could be in either incentivized or non-incentivized category.\n",
        "\n",
        "\n",
        "Considering the importance of reviews, in this question you need to compare these two categories of reviews. One method to compare the effectiveness of two categories is conducting the A/B testing.\n",
        "\n",
        "\n",
        "The Software_Reviews dataset is collected from software review products, and it is combination of several small datasets. Find the dataset as an attachment on the left side of the page.\n",
        "\n",
        "\n",
        "You can downlaod the dataset from github: https://github.com/unt-iialab/info5502-spring2022/blob/main/finalexam/Software_Reviews_csv_files_S.csv\n",
        "\n",
        "(1)(50 points) Clean the dataset before you use (You need to know this dataset is combinations of the several CSV files with title rows. So, there are extra title rows in the middle of the file, which they need to be removed.)\n",
        "\n",
        "\n",
        "(2)(50 points) Apply an A/B test\": consider the “incentivized” column as main column for A & B groups.\n",
        "\n",
        "a. The “incentivized” column includes ‘NominalGift’, ‘VendorReferredIncentivized’, ‘NoIncentive’, ‘NonNominalGift’, ‘VendorReferred’, ‘None’\n",
        "\n",
        "b. Group A (Incentive): ‘NominalGift’, and ‘VendorReferredIncentivized’\n",
        "\n",
        "c. Group B (NoIncentive): ‘NoIncentive’, ‘NonNominalGift’, ‘VendorReferred’\n",
        "\n",
        "d. Make the decision if ‘None’ includes in either Group A or B or remove that.\n",
        "\n",
        "e. The “OverAllRating” is another column that is used to compare groups A and B.\n",
        "\n",
        "Which one A or B group has higher “OverAllRating”?"
      ]
    },
    {
      "cell_type": "code",
      "execution_count": null,
      "metadata": {
        "id": "WDkYT34wJ_pu",
        "outputId": "4b9c3c74-e375-49cd-c829-b42824d74393"
      },
      "outputs": [
        {
          "name": "stdout",
          "output_type": "stream",
          "text": [
            "1       4\n",
            "2       1\n",
            "3       4\n",
            "15      5\n",
            "17      5\n",
            "       ..\n",
            "2994    5\n",
            "2995    5\n",
            "2996    5\n",
            "2997    5\n",
            "2998    5\n",
            "Name: OverAllRating, Length: 1015, dtype: object\n"
          ]
        }
      ],
      "source": [
        "#### You code and your answer here here\n",
        "\n",
        "\n",
        "from scipy.stats import norm\n",
        "\n",
        "data5=pd.read_csv('Software_Reviews_csv_files_S.csv')\n",
        "group_a = data5[(data5['incentivized'] == \"NominalGift\") | (data5['incentivized'] == \"VendorReferredIncentivized\")]['OverAllRating']#.shape\n",
        "group_b = data5[(data5['incentivized'] == \"NoIncentive\") | (data5['incentivized'] == \"NonNominalGift\") | (data5['incentivized'] == \"VendorReferred\")]['OverAllRating']#.shape\n",
        "\n",
        "N_con1 = group_a.shape[0]\n",
        "N_exp1 = group_b.shape[0]\n",
        "\n",
        "# Significance Level\n",
        "alpha = 0.05\n",
        "\n",
        "mu_con1 = np.mean(group_a)\n",
        "mu_exp1 = np.mean(group_b)\n",
        "\n",
        "print(group_a)\n",
        "\n",
        "\n"
      ]
    },
    {
      "cell_type": "code",
      "execution_count": null,
      "metadata": {
        "id": "n0La8zFxJ_pv"
      },
      "outputs": [],
      "source": [
        "group_a = group_a.astype('float64')\n",
        "group_b = group_b.astype('float64')\n",
        "var_con = np.var(group_a)\n",
        "var_exp = np.var(group_b)"
      ]
    },
    {
      "cell_type": "code",
      "execution_count": null,
      "metadata": {
        "id": "TXOXAuweJ_pv"
      },
      "outputs": [],
      "source": [
        "pooled_var = np.sqrt(var_con/N_con1 + var_exp/N_exp)\n",
        "T = (mu_con-mu_exp)/np.sqrt(var_con/N_con1 + var_exp/N_exp)\n",
        "p_value = norm.sf(T)*2\n"
      ]
    },
    {
      "cell_type": "code",
      "execution_count": null,
      "metadata": {
        "id": "2lyaqcXDJ_pv"
      },
      "outputs": [],
      "source": [
        "Z_crit  = norm.ppf(1-alpha/2)\n",
        "m = Z_crit*pooled_variance\n",
        "CI = [(mu_con1 - mu_exp1) - m, (mu_con1 - mu_exp1) + m]\n"
      ]
    },
    {
      "cell_type": "code",
      "execution_count": null,
      "metadata": {
        "id": "nCr_AcbdJ_pw",
        "outputId": "4f67fec9-db91-4737-9154-e560aee4d481"
      },
      "outputs": [
        {
          "name": "stdout",
          "output_type": "stream",
          "text": [
            "Test Statistics is :  nan\n",
            "------------------------\n",
            "Z-critical is:  1.959963984540054\n",
            "------------------------\n",
            "P_value is:  nan\n",
            "------------------------\n",
            "Confidence Interval of 2 sample Z-test for proportions value is:  [nan nan]\n",
            "------------------------\n"
          ]
        }
      ],
      "source": [
        "print(\"Test Statistics is : \", T)\n",
        "print('------------------------')\n",
        "print(\"Z-critical is: \",     Z_crit)\n",
        "print('------------------------')\n",
        "print(\"P_value is: \",        p_value)\n",
        "print('------------------------')\n",
        "print(\"Confidence Interval of 2 sample Z-test for proportions value is: \", np.round(CI,2))\n",
        "print('------------------------')\n",
        "\n",
        "z = np.arange(-3.5,3.5,  0.2)\n",
        "\n"
      ]
    },
    {
      "cell_type": "markdown",
      "metadata": {
        "id": "860gPhqvJ_pw"
      },
      "source": [
        "# Data Visualization"
      ]
    },
    {
      "cell_type": "code",
      "execution_count": null,
      "metadata": {
        "id": "k-ZAgcfRJ_px",
        "outputId": "ab3dbb4e-5ef8-4877-a963-50b3c43a1536"
      },
      "outputs": [
        {
          "data": {
            "image/png": "[encoded data removed]",
            "text/plain": [
              "<Figure size 432x288 with 1 Axes>"
            ]
          },
          "metadata": {},
          "output_type": "display_data"
        }
      ],
      "source": [
        "plt.plot(z, norm.pdf(z), label = 'Standard Normal Distribution',color = '',linewidth = 3)\n",
        "\n",
        "plt.fill_between(z[z>Z_crit], norm.pdf(z[z>Z_crit]), label = 'Right Rejection Region',color ='red' )\n",
        "plt.fill_between(z[z<(-1)*Z_crit], norm.pdf(z[z<(-1)*Z_crit]), label = 'Left Rejection Region',color ='blue' )\n",
        "plt.title(\"Two Sample Z-test rejection region\")\n",
        "plt.legend()\n",
        "plt.show()"
      ]
    },
    {
      "cell_type": "code",
      "execution_count": null,
      "metadata": {
        "id": "FpPWKhPmJ_px"
      },
      "outputs": [],
      "source": [
        ""
      ]
    },
    {
      "cell_type": "code",
      "execution_count": null,
      "metadata": {
        "id": "fcUijEPRJ_px"
      },
      "outputs": [],
      "source": [
        ""
      ]
    },
    {
      "cell_type": "code",
      "execution_count": null,
      "metadata": {
        "id": "s3Zjb0U-J_px"
      },
      "outputs": [],
      "source": [
        ""
      ]
    },
    {
      "cell_type": "code",
      "execution_count": null,
      "metadata": {
        "id": "jInJbam9J_py"
      },
      "outputs": [],
      "source": [
        ""
      ]
    }
  ],
  "metadata": {
    "kernelspec": {
      "display_name": "Python 3 (ipykernel)",
      "language": "python",
      "name": "python3"
    },
    "language_info": {
      "codemirror_mode": {
        "name": "ipython",
        "version": 3
      },
      "file_extension": ".py",
      "mimetype": "text/x-python",
      "name": "python",
      "nbconvert_exporter": "python",
      "pygments_lexer": "ipython3",
      "version": "3.9.7"
    },
    "colab": {
      "name": "INFO 5502-Final Exam-Summer 2022.ipynb",
      "provenance": [],
      "include_colab_link": true
    }
  },
  "nbformat": 4,
  "nbformat_minor": 0
}